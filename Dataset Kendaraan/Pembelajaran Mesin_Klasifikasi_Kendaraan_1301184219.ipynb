{
 "cells": [
  {
   "cell_type": "markdown",
   "metadata": {},
   "source": [
    "# Dataset Kendaraan "
   ]
  },
  {
   "cell_type": "code",
   "execution_count": 1,
   "metadata": {},
   "outputs": [],
   "source": [
    "import pandas as pd \n",
    "import matplotlib.pyplot as plt \n",
    "import seaborn as sn \n",
    "import numpy as np\n",
    "from sklearn.preprocessing import LabelEncoder\n",
    "from scipy import stats\n",
    "from sklearn.preprocessing import StandardScaler\n",
    "from sklearn.naive_bayes import GaussianNB\n",
    "from sklearn.metrics import confusion_matrix\n",
    "from sklearn.metrics import accuracy_score"
   ]
  },
  {
   "cell_type": "markdown",
   "metadata": {},
   "source": [
    " **Loading Data To Dataframe**"
   ]
  },
  {
   "cell_type": "code",
   "execution_count": 2,
   "metadata": {},
   "outputs": [],
   "source": [
    "df_kendaraan_train =  pd.read_csv('kendaraan_train.csv')\n",
    "df_kendaraan_test = pd.read_csv('kendaraan_test.csv')"
   ]
  },
  {
   "cell_type": "code",
   "execution_count": 3,
   "metadata": {},
   "outputs": [
    {
     "data": {
      "text/html": [
       "<div>\n",
       "<style scoped>\n",
       "    .dataframe tbody tr th:only-of-type {\n",
       "        vertical-align: middle;\n",
       "    }\n",
       "\n",
       "    .dataframe tbody tr th {\n",
       "        vertical-align: top;\n",
       "    }\n",
       "\n",
       "    .dataframe thead th {\n",
       "        text-align: right;\n",
       "    }\n",
       "</style>\n",
       "<table border=\"1\" class=\"dataframe\">\n",
       "  <thead>\n",
       "    <tr style=\"text-align: right;\">\n",
       "      <th></th>\n",
       "      <th>id</th>\n",
       "      <th>Jenis_Kelamin</th>\n",
       "      <th>Umur</th>\n",
       "      <th>SIM</th>\n",
       "      <th>Kode_Daerah</th>\n",
       "      <th>Sudah_Asuransi</th>\n",
       "      <th>Umur_Kendaraan</th>\n",
       "      <th>Kendaraan_Rusak</th>\n",
       "      <th>Premi</th>\n",
       "      <th>Kanal_Penjualan</th>\n",
       "      <th>Lama_Berlangganan</th>\n",
       "      <th>Tertarik</th>\n",
       "    </tr>\n",
       "  </thead>\n",
       "  <tbody>\n",
       "    <tr>\n",
       "      <th>0</th>\n",
       "      <td>1</td>\n",
       "      <td>Wanita</td>\n",
       "      <td>30.0</td>\n",
       "      <td>1.0</td>\n",
       "      <td>33.0</td>\n",
       "      <td>1.0</td>\n",
       "      <td>&lt; 1 Tahun</td>\n",
       "      <td>Tidak</td>\n",
       "      <td>28029.0</td>\n",
       "      <td>152.0</td>\n",
       "      <td>97.0</td>\n",
       "      <td>0</td>\n",
       "    </tr>\n",
       "    <tr>\n",
       "      <th>1</th>\n",
       "      <td>2</td>\n",
       "      <td>Pria</td>\n",
       "      <td>48.0</td>\n",
       "      <td>1.0</td>\n",
       "      <td>39.0</td>\n",
       "      <td>0.0</td>\n",
       "      <td>&gt; 2 Tahun</td>\n",
       "      <td>Pernah</td>\n",
       "      <td>25800.0</td>\n",
       "      <td>29.0</td>\n",
       "      <td>158.0</td>\n",
       "      <td>0</td>\n",
       "    </tr>\n",
       "    <tr>\n",
       "      <th>2</th>\n",
       "      <td>3</td>\n",
       "      <td>NaN</td>\n",
       "      <td>21.0</td>\n",
       "      <td>1.0</td>\n",
       "      <td>46.0</td>\n",
       "      <td>1.0</td>\n",
       "      <td>&lt; 1 Tahun</td>\n",
       "      <td>Tidak</td>\n",
       "      <td>32733.0</td>\n",
       "      <td>160.0</td>\n",
       "      <td>119.0</td>\n",
       "      <td>0</td>\n",
       "    </tr>\n",
       "    <tr>\n",
       "      <th>3</th>\n",
       "      <td>4</td>\n",
       "      <td>Wanita</td>\n",
       "      <td>58.0</td>\n",
       "      <td>1.0</td>\n",
       "      <td>48.0</td>\n",
       "      <td>0.0</td>\n",
       "      <td>1-2 Tahun</td>\n",
       "      <td>Tidak</td>\n",
       "      <td>2630.0</td>\n",
       "      <td>124.0</td>\n",
       "      <td>63.0</td>\n",
       "      <td>0</td>\n",
       "    </tr>\n",
       "    <tr>\n",
       "      <th>4</th>\n",
       "      <td>5</td>\n",
       "      <td>Pria</td>\n",
       "      <td>50.0</td>\n",
       "      <td>1.0</td>\n",
       "      <td>35.0</td>\n",
       "      <td>0.0</td>\n",
       "      <td>&gt; 2 Tahun</td>\n",
       "      <td>NaN</td>\n",
       "      <td>34857.0</td>\n",
       "      <td>88.0</td>\n",
       "      <td>194.0</td>\n",
       "      <td>0</td>\n",
       "    </tr>\n",
       "    <tr>\n",
       "      <th>5</th>\n",
       "      <td>6</td>\n",
       "      <td>Pria</td>\n",
       "      <td>21.0</td>\n",
       "      <td>1.0</td>\n",
       "      <td>35.0</td>\n",
       "      <td>1.0</td>\n",
       "      <td>&lt; 1 Tahun</td>\n",
       "      <td>Tidak</td>\n",
       "      <td>22735.0</td>\n",
       "      <td>152.0</td>\n",
       "      <td>171.0</td>\n",
       "      <td>0</td>\n",
       "    </tr>\n",
       "    <tr>\n",
       "      <th>6</th>\n",
       "      <td>7</td>\n",
       "      <td>Wanita</td>\n",
       "      <td>33.0</td>\n",
       "      <td>1.0</td>\n",
       "      <td>8.0</td>\n",
       "      <td>0.0</td>\n",
       "      <td>NaN</td>\n",
       "      <td>Pernah</td>\n",
       "      <td>32435.0</td>\n",
       "      <td>124.0</td>\n",
       "      <td>215.0</td>\n",
       "      <td>1</td>\n",
       "    </tr>\n",
       "    <tr>\n",
       "      <th>7</th>\n",
       "      <td>8</td>\n",
       "      <td>Pria</td>\n",
       "      <td>23.0</td>\n",
       "      <td>NaN</td>\n",
       "      <td>28.0</td>\n",
       "      <td>1.0</td>\n",
       "      <td>&lt; 1 Tahun</td>\n",
       "      <td>Tidak</td>\n",
       "      <td>26869.0</td>\n",
       "      <td>152.0</td>\n",
       "      <td>222.0</td>\n",
       "      <td>0</td>\n",
       "    </tr>\n",
       "    <tr>\n",
       "      <th>8</th>\n",
       "      <td>9</td>\n",
       "      <td>Wanita</td>\n",
       "      <td>20.0</td>\n",
       "      <td>1.0</td>\n",
       "      <td>8.0</td>\n",
       "      <td>1.0</td>\n",
       "      <td>&lt; 1 Tahun</td>\n",
       "      <td>Tidak</td>\n",
       "      <td>30786.0</td>\n",
       "      <td>160.0</td>\n",
       "      <td>31.0</td>\n",
       "      <td>0</td>\n",
       "    </tr>\n",
       "    <tr>\n",
       "      <th>9</th>\n",
       "      <td>10</td>\n",
       "      <td>NaN</td>\n",
       "      <td>54.0</td>\n",
       "      <td>1.0</td>\n",
       "      <td>29.0</td>\n",
       "      <td>0.0</td>\n",
       "      <td>&gt; 2 Tahun</td>\n",
       "      <td>Pernah</td>\n",
       "      <td>88883.0</td>\n",
       "      <td>124.0</td>\n",
       "      <td>28.0</td>\n",
       "      <td>1</td>\n",
       "    </tr>\n",
       "  </tbody>\n",
       "</table>\n",
       "</div>"
      ],
      "text/plain": [
       "   id Jenis_Kelamin  Umur  SIM  Kode_Daerah  Sudah_Asuransi Umur_Kendaraan  \\\n",
       "0   1        Wanita  30.0  1.0         33.0             1.0      < 1 Tahun   \n",
       "1   2          Pria  48.0  1.0         39.0             0.0      > 2 Tahun   \n",
       "2   3           NaN  21.0  1.0         46.0             1.0      < 1 Tahun   \n",
       "3   4        Wanita  58.0  1.0         48.0             0.0      1-2 Tahun   \n",
       "4   5          Pria  50.0  1.0         35.0             0.0      > 2 Tahun   \n",
       "5   6          Pria  21.0  1.0         35.0             1.0      < 1 Tahun   \n",
       "6   7        Wanita  33.0  1.0          8.0             0.0            NaN   \n",
       "7   8          Pria  23.0  NaN         28.0             1.0      < 1 Tahun   \n",
       "8   9        Wanita  20.0  1.0          8.0             1.0      < 1 Tahun   \n",
       "9  10           NaN  54.0  1.0         29.0             0.0      > 2 Tahun   \n",
       "\n",
       "  Kendaraan_Rusak    Premi  Kanal_Penjualan  Lama_Berlangganan  Tertarik  \n",
       "0           Tidak  28029.0            152.0               97.0         0  \n",
       "1          Pernah  25800.0             29.0              158.0         0  \n",
       "2           Tidak  32733.0            160.0              119.0         0  \n",
       "3           Tidak   2630.0            124.0               63.0         0  \n",
       "4             NaN  34857.0             88.0              194.0         0  \n",
       "5           Tidak  22735.0            152.0              171.0         0  \n",
       "6          Pernah  32435.0            124.0              215.0         1  \n",
       "7           Tidak  26869.0            152.0              222.0         0  \n",
       "8           Tidak  30786.0            160.0               31.0         0  \n",
       "9          Pernah  88883.0            124.0               28.0         1  "
      ]
     },
     "execution_count": 3,
     "metadata": {},
     "output_type": "execute_result"
    }
   ],
   "source": [
    "df_kendaraan_train.head(10)"
   ]
  },
  {
   "cell_type": "code",
   "execution_count": 4,
   "metadata": {},
   "outputs": [
    {
     "data": {
      "text/html": [
       "<div>\n",
       "<style scoped>\n",
       "    .dataframe tbody tr th:only-of-type {\n",
       "        vertical-align: middle;\n",
       "    }\n",
       "\n",
       "    .dataframe tbody tr th {\n",
       "        vertical-align: top;\n",
       "    }\n",
       "\n",
       "    .dataframe thead th {\n",
       "        text-align: right;\n",
       "    }\n",
       "</style>\n",
       "<table border=\"1\" class=\"dataframe\">\n",
       "  <thead>\n",
       "    <tr style=\"text-align: right;\">\n",
       "      <th></th>\n",
       "      <th>Jenis_Kelamin</th>\n",
       "      <th>Umur</th>\n",
       "      <th>SIM</th>\n",
       "      <th>Kode_Daerah</th>\n",
       "      <th>Sudah_Asuransi</th>\n",
       "      <th>Umur_Kendaraan</th>\n",
       "      <th>Kendaraan_Rusak</th>\n",
       "      <th>Premi</th>\n",
       "      <th>Kanal_Penjualan</th>\n",
       "      <th>Lama_Berlangganan</th>\n",
       "      <th>Tertarik</th>\n",
       "    </tr>\n",
       "  </thead>\n",
       "  <tbody>\n",
       "    <tr>\n",
       "      <th>0</th>\n",
       "      <td>Wanita</td>\n",
       "      <td>49</td>\n",
       "      <td>1</td>\n",
       "      <td>8</td>\n",
       "      <td>0</td>\n",
       "      <td>1-2 Tahun</td>\n",
       "      <td>Pernah</td>\n",
       "      <td>46963</td>\n",
       "      <td>26</td>\n",
       "      <td>145</td>\n",
       "      <td>0</td>\n",
       "    </tr>\n",
       "    <tr>\n",
       "      <th>1</th>\n",
       "      <td>Pria</td>\n",
       "      <td>22</td>\n",
       "      <td>1</td>\n",
       "      <td>47</td>\n",
       "      <td>1</td>\n",
       "      <td>&lt; 1 Tahun</td>\n",
       "      <td>Tidak</td>\n",
       "      <td>39624</td>\n",
       "      <td>152</td>\n",
       "      <td>241</td>\n",
       "      <td>0</td>\n",
       "    </tr>\n",
       "    <tr>\n",
       "      <th>2</th>\n",
       "      <td>Pria</td>\n",
       "      <td>24</td>\n",
       "      <td>1</td>\n",
       "      <td>28</td>\n",
       "      <td>1</td>\n",
       "      <td>&lt; 1 Tahun</td>\n",
       "      <td>Tidak</td>\n",
       "      <td>110479</td>\n",
       "      <td>152</td>\n",
       "      <td>62</td>\n",
       "      <td>0</td>\n",
       "    </tr>\n",
       "    <tr>\n",
       "      <th>3</th>\n",
       "      <td>Pria</td>\n",
       "      <td>46</td>\n",
       "      <td>1</td>\n",
       "      <td>8</td>\n",
       "      <td>1</td>\n",
       "      <td>1-2 Tahun</td>\n",
       "      <td>Tidak</td>\n",
       "      <td>36266</td>\n",
       "      <td>124</td>\n",
       "      <td>34</td>\n",
       "      <td>0</td>\n",
       "    </tr>\n",
       "    <tr>\n",
       "      <th>4</th>\n",
       "      <td>Pria</td>\n",
       "      <td>35</td>\n",
       "      <td>1</td>\n",
       "      <td>23</td>\n",
       "      <td>0</td>\n",
       "      <td>1-2 Tahun</td>\n",
       "      <td>Pernah</td>\n",
       "      <td>26963</td>\n",
       "      <td>152</td>\n",
       "      <td>229</td>\n",
       "      <td>0</td>\n",
       "    </tr>\n",
       "    <tr>\n",
       "      <th>5</th>\n",
       "      <td>Pria</td>\n",
       "      <td>26</td>\n",
       "      <td>1</td>\n",
       "      <td>28</td>\n",
       "      <td>1</td>\n",
       "      <td>&lt; 1 Tahun</td>\n",
       "      <td>Tidak</td>\n",
       "      <td>42721</td>\n",
       "      <td>152</td>\n",
       "      <td>198</td>\n",
       "      <td>0</td>\n",
       "    </tr>\n",
       "    <tr>\n",
       "      <th>6</th>\n",
       "      <td>Wanita</td>\n",
       "      <td>24</td>\n",
       "      <td>1</td>\n",
       "      <td>28</td>\n",
       "      <td>1</td>\n",
       "      <td>&lt; 1 Tahun</td>\n",
       "      <td>Tidak</td>\n",
       "      <td>65801</td>\n",
       "      <td>152</td>\n",
       "      <td>160</td>\n",
       "      <td>0</td>\n",
       "    </tr>\n",
       "    <tr>\n",
       "      <th>7</th>\n",
       "      <td>Wanita</td>\n",
       "      <td>40</td>\n",
       "      <td>1</td>\n",
       "      <td>28</td>\n",
       "      <td>0</td>\n",
       "      <td>1-2 Tahun</td>\n",
       "      <td>Pernah</td>\n",
       "      <td>30981</td>\n",
       "      <td>26</td>\n",
       "      <td>79</td>\n",
       "      <td>0</td>\n",
       "    </tr>\n",
       "    <tr>\n",
       "      <th>8</th>\n",
       "      <td>Pria</td>\n",
       "      <td>23</td>\n",
       "      <td>1</td>\n",
       "      <td>15</td>\n",
       "      <td>1</td>\n",
       "      <td>&lt; 1 Tahun</td>\n",
       "      <td>Tidak</td>\n",
       "      <td>32365</td>\n",
       "      <td>152</td>\n",
       "      <td>219</td>\n",
       "      <td>0</td>\n",
       "    </tr>\n",
       "    <tr>\n",
       "      <th>9</th>\n",
       "      <td>Wanita</td>\n",
       "      <td>43</td>\n",
       "      <td>1</td>\n",
       "      <td>28</td>\n",
       "      <td>0</td>\n",
       "      <td>1-2 Tahun</td>\n",
       "      <td>Pernah</td>\n",
       "      <td>65380</td>\n",
       "      <td>25</td>\n",
       "      <td>41</td>\n",
       "      <td>1</td>\n",
       "    </tr>\n",
       "  </tbody>\n",
       "</table>\n",
       "</div>"
      ],
      "text/plain": [
       "  Jenis_Kelamin  Umur  SIM  Kode_Daerah  Sudah_Asuransi Umur_Kendaraan  \\\n",
       "0        Wanita    49    1            8               0      1-2 Tahun   \n",
       "1          Pria    22    1           47               1      < 1 Tahun   \n",
       "2          Pria    24    1           28               1      < 1 Tahun   \n",
       "3          Pria    46    1            8               1      1-2 Tahun   \n",
       "4          Pria    35    1           23               0      1-2 Tahun   \n",
       "5          Pria    26    1           28               1      < 1 Tahun   \n",
       "6        Wanita    24    1           28               1      < 1 Tahun   \n",
       "7        Wanita    40    1           28               0      1-2 Tahun   \n",
       "8          Pria    23    1           15               1      < 1 Tahun   \n",
       "9        Wanita    43    1           28               0      1-2 Tahun   \n",
       "\n",
       "  Kendaraan_Rusak   Premi  Kanal_Penjualan  Lama_Berlangganan  Tertarik  \n",
       "0          Pernah   46963               26                145         0  \n",
       "1           Tidak   39624              152                241         0  \n",
       "2           Tidak  110479              152                 62         0  \n",
       "3           Tidak   36266              124                 34         0  \n",
       "4          Pernah   26963              152                229         0  \n",
       "5           Tidak   42721              152                198         0  \n",
       "6           Tidak   65801              152                160         0  \n",
       "7          Pernah   30981               26                 79         0  \n",
       "8           Tidak   32365              152                219         0  \n",
       "9          Pernah   65380               25                 41         1  "
      ]
     },
     "execution_count": 4,
     "metadata": {},
     "output_type": "execute_result"
    }
   ],
   "source": [
    "df_kendaraan_test.head(10)"
   ]
  },
  {
   "cell_type": "markdown",
   "metadata": {},
   "source": [
    "**Check Shape**"
   ]
  },
  {
   "cell_type": "code",
   "execution_count": 5,
   "metadata": {},
   "outputs": [
    {
     "data": {
      "text/plain": [
       "(285831, 12)"
      ]
     },
     "execution_count": 5,
     "metadata": {},
     "output_type": "execute_result"
    }
   ],
   "source": [
    "df_kendaraan_train.shape"
   ]
  },
  {
   "cell_type": "code",
   "execution_count": 6,
   "metadata": {},
   "outputs": [
    {
     "data": {
      "text/plain": [
       "(47639, 11)"
      ]
     },
     "execution_count": 6,
     "metadata": {},
     "output_type": "execute_result"
    }
   ],
   "source": [
    "df_kendaraan_test.shape"
   ]
  },
  {
   "cell_type": "markdown",
   "metadata": {},
   "source": [
    "**Check Info Dataset**"
   ]
  },
  {
   "cell_type": "code",
   "execution_count": 3,
   "metadata": {},
   "outputs": [
    {
     "name": "stdout",
     "output_type": "stream",
     "text": [
      "<class 'pandas.core.frame.DataFrame'>\n",
      "RangeIndex: 285831 entries, 0 to 285830\n",
      "Data columns (total 12 columns):\n",
      " #   Column             Non-Null Count   Dtype  \n",
      "---  ------             --------------   -----  \n",
      " 0   id                 285831 non-null  int64  \n",
      " 1   Jenis_Kelamin      271391 non-null  object \n",
      " 2   Umur               271617 non-null  float64\n",
      " 3   SIM                271427 non-null  float64\n",
      " 4   Kode_Daerah        271525 non-null  float64\n",
      " 5   Sudah_Asuransi     271602 non-null  float64\n",
      " 6   Umur_Kendaraan     271556 non-null  object \n",
      " 7   Kendaraan_Rusak    271643 non-null  object \n",
      " 8   Premi              271262 non-null  float64\n",
      " 9   Kanal_Penjualan    271532 non-null  float64\n",
      " 10  Lama_Berlangganan  271839 non-null  float64\n",
      " 11  Tertarik           285831 non-null  int64  \n",
      "dtypes: float64(7), int64(2), object(3)\n",
      "memory usage: 26.2+ MB\n"
     ]
    }
   ],
   "source": [
    "df_kendaraan_train.info()"
   ]
  },
  {
   "cell_type": "code",
   "execution_count": 8,
   "metadata": {},
   "outputs": [
    {
     "name": "stdout",
     "output_type": "stream",
     "text": [
      "<class 'pandas.core.frame.DataFrame'>\n",
      "RangeIndex: 47639 entries, 0 to 47638\n",
      "Data columns (total 11 columns):\n",
      " #   Column             Non-Null Count  Dtype \n",
      "---  ------             --------------  ----- \n",
      " 0   Jenis_Kelamin      47639 non-null  object\n",
      " 1   Umur               47639 non-null  int64 \n",
      " 2   SIM                47639 non-null  int64 \n",
      " 3   Kode_Daerah        47639 non-null  int64 \n",
      " 4   Sudah_Asuransi     47639 non-null  int64 \n",
      " 5   Umur_Kendaraan     47639 non-null  object\n",
      " 6   Kendaraan_Rusak    47639 non-null  object\n",
      " 7   Premi              47639 non-null  int64 \n",
      " 8   Kanal_Penjualan    47639 non-null  int64 \n",
      " 9   Lama_Berlangganan  47639 non-null  int64 \n",
      " 10  Tertarik           47639 non-null  int64 \n",
      "dtypes: int64(8), object(3)\n",
      "memory usage: 4.0+ MB\n"
     ]
    }
   ],
   "source": [
    "df_kendaraan_test.info()"
   ]
  },
  {
   "cell_type": "markdown",
   "metadata": {},
   "source": [
    "**Check Missing Value**"
   ]
  },
  {
   "cell_type": "code",
   "execution_count": 9,
   "metadata": {},
   "outputs": [
    {
     "data": {
      "text/plain": [
       "id                       0\n",
       "Jenis_Kelamin        14440\n",
       "Umur                 14214\n",
       "SIM                  14404\n",
       "Kode_Daerah          14306\n",
       "Sudah_Asuransi       14229\n",
       "Umur_Kendaraan       14275\n",
       "Kendaraan_Rusak      14188\n",
       "Premi                14569\n",
       "Kanal_Penjualan      14299\n",
       "Lama_Berlangganan    13992\n",
       "Tertarik                 0\n",
       "dtype: int64"
      ]
     },
     "execution_count": 9,
     "metadata": {},
     "output_type": "execute_result"
    }
   ],
   "source": [
    "df_kendaraan_train.isnull().sum()"
   ]
  },
  {
   "cell_type": "code",
   "execution_count": 10,
   "metadata": {},
   "outputs": [
    {
     "data": {
      "text/plain": [
       "Jenis_Kelamin        0\n",
       "Umur                 0\n",
       "SIM                  0\n",
       "Kode_Daerah          0\n",
       "Sudah_Asuransi       0\n",
       "Umur_Kendaraan       0\n",
       "Kendaraan_Rusak      0\n",
       "Premi                0\n",
       "Kanal_Penjualan      0\n",
       "Lama_Berlangganan    0\n",
       "Tertarik             0\n",
       "dtype: int64"
      ]
     },
     "execution_count": 10,
     "metadata": {},
     "output_type": "execute_result"
    }
   ],
   "source": [
    "df_kendaraan_test.isnull().sum()"
   ]
  },
  {
   "cell_type": "markdown",
   "metadata": {},
   "source": [
    "**Bisa dilihat dataset test sudah bersih dari missing value selanjutnya akan di cek apakah ada data yang duplicate *"
   ]
  },
  {
   "cell_type": "markdown",
   "metadata": {},
   "source": [
    "**Check Duplicate Value**"
   ]
  },
  {
   "cell_type": "code",
   "execution_count": 11,
   "metadata": {},
   "outputs": [
    {
     "data": {
      "text/plain": [
       "0"
      ]
     },
     "execution_count": 11,
     "metadata": {},
     "output_type": "execute_result"
    }
   ],
   "source": [
    "df_kendaraan_train.duplicated().sum()"
   ]
  },
  {
   "cell_type": "code",
   "execution_count": 12,
   "metadata": {},
   "outputs": [
    {
     "data": {
      "text/plain": [
       "3"
      ]
     },
     "execution_count": 12,
     "metadata": {},
     "output_type": "execute_result"
    }
   ],
   "source": [
    "df_kendaraan_test.duplicated().sum()"
   ]
  },
  {
   "cell_type": "markdown",
   "metadata": {},
   "source": [
    "**Value Count**"
   ]
  },
  {
   "cell_type": "markdown",
   "metadata": {},
   "source": [
    "** Untuk Mempersingkat kita lihat cukup satu dataset saja yang train karena yang test sama cuma tidak ada ID "
   ]
  },
  {
   "cell_type": "code",
   "execution_count": 13,
   "metadata": {},
   "outputs": [
    {
     "data": {
      "text/plain": [
       "Pria      146678\n",
       "Wanita    124713\n",
       "Name: Jenis_Kelamin, dtype: int64"
      ]
     },
     "execution_count": 13,
     "metadata": {},
     "output_type": "execute_result"
    }
   ],
   "source": [
    "df_kendaraan_train['Jenis_Kelamin'].value_counts()"
   ]
  },
  {
   "cell_type": "code",
   "execution_count": 14,
   "metadata": {},
   "outputs": [
    {
     "data": {
      "text/plain": [
       "24.0    18443\n",
       "23.0    17403\n",
       "22.0    14975\n",
       "25.0    14634\n",
       "21.0    11652\n",
       "        ...  \n",
       "81.0       42\n",
       "82.0       20\n",
       "83.0       16\n",
       "84.0        9\n",
       "85.0        8\n",
       "Name: Umur, Length: 66, dtype: int64"
      ]
     },
     "execution_count": 14,
     "metadata": {},
     "output_type": "execute_result"
    }
   ],
   "source": [
    "df_kendaraan_train['Umur'].value_counts()"
   ]
  },
  {
   "cell_type": "code",
   "execution_count": 15,
   "metadata": {},
   "outputs": [
    {
     "data": {
      "text/plain": [
       "1.0    270843\n",
       "0.0       584\n",
       "Name: SIM, dtype: int64"
      ]
     },
     "execution_count": 15,
     "metadata": {},
     "output_type": "execute_result"
    }
   ],
   "source": [
    "df_kendaraan_train['SIM'].value_counts()"
   ]
  },
  {
   "cell_type": "code",
   "execution_count": 16,
   "metadata": {},
   "outputs": [
    {
     "data": {
      "text/plain": [
       "28.0    75439\n",
       "8.0     24186\n",
       "46.0    14157\n",
       "41.0    12931\n",
       "15.0     9500\n",
       "30.0     8630\n",
       "29.0     7931\n",
       "50.0     7349\n",
       "3.0      6594\n",
       "11.0     6548\n",
       "36.0     6285\n",
       "33.0     5459\n",
       "47.0     5371\n",
       "35.0     4963\n",
       "6.0      4489\n",
       "45.0     4009\n",
       "37.0     3917\n",
       "18.0     3662\n",
       "48.0     3386\n",
       "39.0     3384\n",
       "14.0     3310\n",
       "10.0     3049\n",
       "21.0     3019\n",
       "2.0      2961\n",
       "13.0     2875\n",
       "7.0      2323\n",
       "12.0     2281\n",
       "9.0      2213\n",
       "27.0     2023\n",
       "32.0     2012\n",
       "43.0     1902\n",
       "17.0     1866\n",
       "26.0     1852\n",
       "25.0     1786\n",
       "24.0     1738\n",
       "38.0     1448\n",
       "0.0      1444\n",
       "16.0     1436\n",
       "31.0     1412\n",
       "20.0     1394\n",
       "23.0     1369\n",
       "49.0     1305\n",
       "4.0      1301\n",
       "34.0     1188\n",
       "19.0     1055\n",
       "40.0      934\n",
       "22.0      932\n",
       "5.0       900\n",
       "1.0       707\n",
       "44.0      564\n",
       "42.0      420\n",
       "52.0      189\n",
       "51.0      127\n",
       "Name: Kode_Daerah, dtype: int64"
      ]
     },
     "execution_count": 16,
     "metadata": {},
     "output_type": "execute_result"
    }
   ],
   "source": [
    "df_kendaraan_train['Kode_Daerah'].value_counts()"
   ]
  },
  {
   "cell_type": "code",
   "execution_count": 17,
   "metadata": {},
   "outputs": [
    {
     "data": {
      "text/plain": [
       "0.0    146997\n",
       "1.0    124605\n",
       "Name: Sudah_Asuransi, dtype: int64"
      ]
     },
     "execution_count": 17,
     "metadata": {},
     "output_type": "execute_result"
    }
   ],
   "source": [
    "df_kendaraan_train['Sudah_Asuransi'].value_counts()"
   ]
  },
  {
   "cell_type": "code",
   "execution_count": 18,
   "metadata": {},
   "outputs": [
    {
     "data": {
      "text/plain": [
       "1-2 Tahun    142761\n",
       "< 1 Tahun    117378\n",
       "> 2 Tahun     11417\n",
       "Name: Umur_Kendaraan, dtype: int64"
      ]
     },
     "execution_count": 18,
     "metadata": {},
     "output_type": "execute_result"
    }
   ],
   "source": [
    "df_kendaraan_train['Umur_Kendaraan'].value_counts()"
   ]
  },
  {
   "cell_type": "code",
   "execution_count": 19,
   "metadata": {},
   "outputs": [
    {
     "data": {
      "text/plain": [
       "Pernah    137123\n",
       "Tidak     134520\n",
       "Name: Kendaraan_Rusak, dtype: int64"
      ]
     },
     "execution_count": 19,
     "metadata": {},
     "output_type": "execute_result"
    }
   ],
   "source": [
    "df_kendaraan_train['Kendaraan_Rusak'].value_counts()"
   ]
  },
  {
   "cell_type": "code",
   "execution_count": 20,
   "metadata": {},
   "outputs": [
    {
     "data": {
      "text/plain": [
       "2630.0     46272\n",
       "69856.0       98\n",
       "38287.0       29\n",
       "45179.0       28\n",
       "30117.0       28\n",
       "           ...  \n",
       "76473.0        1\n",
       "47889.0        1\n",
       "59991.0        1\n",
       "86426.0        1\n",
       "69430.0        1\n",
       "Name: Premi, Length: 45114, dtype: int64"
      ]
     },
     "execution_count": 20,
     "metadata": {},
     "output_type": "execute_result"
    }
   ],
   "source": [
    "df_kendaraan_train['Premi'].value_counts()"
   ]
  },
  {
   "cell_type": "code",
   "execution_count": 21,
   "metadata": {},
   "outputs": [
    {
     "data": {
      "text/plain": [
       "152.0    96090\n",
       "26.0     56816\n",
       "124.0    52756\n",
       "160.0    15436\n",
       "156.0     7542\n",
       "         ...  \n",
       "70.0         1\n",
       "79.0         1\n",
       "144.0        1\n",
       "33.0         1\n",
       "84.0         1\n",
       "Name: Kanal_Penjualan, Length: 151, dtype: int64"
      ]
     },
     "execution_count": 21,
     "metadata": {},
     "output_type": "execute_result"
    }
   ],
   "source": [
    "df_kendaraan_train['Kanal_Penjualan'].value_counts()"
   ]
  },
  {
   "cell_type": "code",
   "execution_count": 22,
   "metadata": {},
   "outputs": [
    {
     "data": {
      "text/plain": [
       "158.0    1028\n",
       "126.0    1021\n",
       "73.0     1021\n",
       "263.0    1013\n",
       "256.0    1011\n",
       "         ... \n",
       "93.0      873\n",
       "295.0     872\n",
       "264.0     871\n",
       "205.0     859\n",
       "32.0      838\n",
       "Name: Lama_Berlangganan, Length: 290, dtype: int64"
      ]
     },
     "execution_count": 22,
     "metadata": {},
     "output_type": "execute_result"
    }
   ],
   "source": [
    "df_kendaraan_train['Lama_Berlangganan'].value_counts()"
   ]
  },
  {
   "cell_type": "code",
   "execution_count": 23,
   "metadata": {},
   "outputs": [
    {
     "data": {
      "text/plain": [
       "0    250825\n",
       "1     35006\n",
       "Name: Tertarik, dtype: int64"
      ]
     },
     "execution_count": 23,
     "metadata": {},
     "output_type": "execute_result"
    }
   ],
   "source": [
    "df_kendaraan_train['Tertarik'].value_counts()"
   ]
  },
  {
   "cell_type": "markdown",
   "metadata": {},
   "source": [
    "** Jika Dilihat Disini ada beberapa data yang bukan merupakan numerik oleh karena itu nanti saya akan melakukan transformasi karena klasifikasi yang saya gunakan adalah Naive Bayes"
   ]
  },
  {
   "cell_type": "markdown",
   "metadata": {},
   "source": [
    "**Visualisasi Count**"
   ]
  },
  {
   "cell_type": "code",
   "execution_count": 24,
   "metadata": {},
   "outputs": [
    {
     "data": {
      "text/plain": [
       "<matplotlib.axes._subplots.AxesSubplot at 0x2bb0002b588>"
      ]
     },
     "execution_count": 24,
     "metadata": {},
     "output_type": "execute_result"
    },
    {
     "data": {
      "image/png": "[encoded data removed]",
      "text/plain": [
       "<Figure size 432x288 with 1 Axes>"
      ]
     },
     "metadata": {
      "needs_background": "light"
     },
     "output_type": "display_data"
    }
   ],
   "source": [
    "sn.countplot(x=df_kendaraan_train['Tertarik'],hue=df_kendaraan_train[\"Jenis_Kelamin\"])"
   ]
  },
  {
   "cell_type": "code",
   "execution_count": 25,
   "metadata": {},
   "outputs": [
    {
     "data": {
      "text/plain": [
       "<matplotlib.axes._subplots.AxesSubplot at 0x2bb0030a608>"
      ]
     },
     "execution_count": 25,
     "metadata": {},
     "output_type": "execute_result"
    },
    {
     "data": {
      "image/png": "[encoded data removed]",
      "text/plain": [
       "<Figure size 432x288 with 1 Axes>"
      ]
     },
     "metadata": {
      "needs_background": "light"
     },
     "output_type": "display_data"
    }
   ],
   "source": [
    "sn.countplot(x=df_kendaraan_train['Tertarik'],hue=df_kendaraan_train[\"SIM\"])"
   ]
  },
  {
   "cell_type": "code",
   "execution_count": 26,
   "metadata": {},
   "outputs": [
    {
     "data": {
      "text/plain": [
       "<matplotlib.axes._subplots.AxesSubplot at 0x2bb003b7f48>"
      ]
     },
     "execution_count": 26,
     "metadata": {},
     "output_type": "execute_result"
    },
    {
     "data": {
      "image/png": "[encoded data removed]",
      "text/plain": [
       "<Figure size 432x288 with 1 Axes>"
      ]
     },
     "metadata": {
      "needs_background": "light"
     },
     "output_type": "display_data"
    }
   ],
   "source": [
    "sn.countplot(x=df_kendaraan_train['Tertarik'],hue=df_kendaraan_train[\"Sudah_Asuransi\"])"
   ]
  },
  {
   "cell_type": "code",
   "execution_count": 27,
   "metadata": {},
   "outputs": [
    {
     "data": {
      "text/plain": [
       "<matplotlib.axes._subplots.AxesSubplot at 0x2bb00c56888>"
      ]
     },
     "execution_count": 27,
     "metadata": {},
     "output_type": "execute_result"
    },
    {
     "data": {
      "image/png": "[encoded data removed]",
      "text/plain": [
       "<Figure size 432x288 with 1 Axes>"
      ]
     },
     "metadata": {
      "needs_background": "light"
     },
     "output_type": "display_data"
    }
   ],
   "source": [
    "sn.countplot(x=df_kendaraan_train['Tertarik'],hue=df_kendaraan_train[\"Kendaraan_Rusak\"])"
   ]
  },
  {
   "cell_type": "markdown",
   "metadata": {},
   "source": [
    "**Impute Missing Value**"
   ]
  },
  {
   "cell_type": "markdown",
   "metadata": {},
   "source": [
    "** Untuk Menangani Nilai Missing Akan dilakukan Replace atau Impute dengan Nilai Mean/Median/Modus , untuk tipe data non-numeric kemungkinan akan di replace hanya dengan modus saja."
   ]
  },
  {
   "cell_type": "code",
   "execution_count": 28,
   "metadata": {},
   "outputs": [],
   "source": [
    "df_kendaraan_train['Jenis_Kelamin'].fillna(df_kendaraan_train['Jenis_Kelamin'].mode().iloc[0], inplace=True)\n",
    "df_kendaraan_train['Umur_Kendaraan'].fillna(df_kendaraan_train['Umur_Kendaraan'].mode().iloc[0], inplace=True)\n",
    "df_kendaraan_train['Kendaraan_Rusak'].fillna(df_kendaraan_train['Kendaraan_Rusak'].mode().iloc[0], inplace=True)"
   ]
  },
  {
   "cell_type": "code",
   "execution_count": 29,
   "metadata": {},
   "outputs": [],
   "source": [
    "df_kendaraan_train['Umur'].fillna(df_kendaraan_train['Umur'].mean(), inplace=True)\n",
    "df_kendaraan_train['SIM'].fillna(df_kendaraan_train['SIM'].mean(), inplace=True)\n",
    "df_kendaraan_train['Kode_Daerah'].fillna(df_kendaraan_train['Kode_Daerah'].mean(), inplace=True)\n",
    "df_kendaraan_train['Sudah_Asuransi'].fillna(df_kendaraan_train['Sudah_Asuransi'].mean(), inplace=True)\n",
    "df_kendaraan_train['Premi'].fillna(df_kendaraan_train['Premi'].mean(), inplace=True)\n",
    "df_kendaraan_train['Kanal_Penjualan'].fillna(df_kendaraan_train['Kanal_Penjualan'].mean(), inplace=True)\n",
    "df_kendaraan_train['Lama_Berlangganan'].fillna(df_kendaraan_train['Lama_Berlangganan'].mean(), inplace=True)"
   ]
  },
  {
   "cell_type": "code",
   "execution_count": 30,
   "metadata": {},
   "outputs": [
    {
     "data": {
      "text/plain": [
       "id                   0\n",
       "Jenis_Kelamin        0\n",
       "Umur                 0\n",
       "SIM                  0\n",
       "Kode_Daerah          0\n",
       "Sudah_Asuransi       0\n",
       "Umur_Kendaraan       0\n",
       "Kendaraan_Rusak      0\n",
       "Premi                0\n",
       "Kanal_Penjualan      0\n",
       "Lama_Berlangganan    0\n",
       "Tertarik             0\n",
       "dtype: int64"
      ]
     },
     "execution_count": 30,
     "metadata": {},
     "output_type": "execute_result"
    }
   ],
   "source": [
    "df_kendaraan_train.isnull().sum()"
   ]
  },
  {
   "cell_type": "markdown",
   "metadata": {},
   "source": [
    "**Remove Duplicate Value**"
   ]
  },
  {
   "cell_type": "code",
   "execution_count": 31,
   "metadata": {},
   "outputs": [],
   "source": [
    "df_kendaraan_train.drop_duplicates(keep=False,inplace=True)\n",
    "df_kendaraan_test.drop_duplicates(keep=False,inplace=True)"
   ]
  },
  {
   "cell_type": "code",
   "execution_count": 32,
   "metadata": {},
   "outputs": [
    {
     "data": {
      "text/plain": [
       "0"
      ]
     },
     "execution_count": 32,
     "metadata": {},
     "output_type": "execute_result"
    }
   ],
   "source": [
    "df_kendaraan_train.duplicated().sum()"
   ]
  },
  {
   "cell_type": "code",
   "execution_count": 33,
   "metadata": {},
   "outputs": [
    {
     "data": {
      "text/plain": [
       "0"
      ]
     },
     "execution_count": 33,
     "metadata": {},
     "output_type": "execute_result"
    }
   ],
   "source": [
    "df_kendaraan_test.duplicated().sum()"
   ]
  },
  {
   "cell_type": "markdown",
   "metadata": {},
   "source": [
    "**Data Transformation for Non-Numeric Data (not int/float)**"
   ]
  },
  {
   "cell_type": "code",
   "execution_count": 34,
   "metadata": {},
   "outputs": [],
   "source": [
    "le = LabelEncoder()\n",
    "df_kendaraan_train['Jenis_Kelamin'] = le.fit_transform(df_kendaraan_train['Jenis_Kelamin'])\n",
    "df_kendaraan_train['Umur_Kendaraan'] = le.fit_transform(df_kendaraan_train['Umur_Kendaraan'])\n",
    "df_kendaraan_train['Kendaraan_Rusak'] = le.fit_transform(df_kendaraan_train['Kendaraan_Rusak'])\n",
    "df_kendaraan_test['Jenis_Kelamin'] = le.fit_transform(df_kendaraan_test['Jenis_Kelamin'])\n",
    "df_kendaraan_test['Umur_Kendaraan'] = le.fit_transform(df_kendaraan_test['Umur_Kendaraan'])\n",
    "df_kendaraan_test['Kendaraan_Rusak'] = le.fit_transform(df_kendaraan_test['Kendaraan_Rusak'])"
   ]
  },
  {
   "cell_type": "code",
   "execution_count": 35,
   "metadata": {},
   "outputs": [
    {
     "data": {
      "text/html": [
       "<div>\n",
       "<style scoped>\n",
       "    .dataframe tbody tr th:only-of-type {\n",
       "        vertical-align: middle;\n",
       "    }\n",
       "\n",
       "    .dataframe tbody tr th {\n",
       "        vertical-align: top;\n",
       "    }\n",
       "\n",
       "    .dataframe thead th {\n",
       "        text-align: right;\n",
       "    }\n",
       "</style>\n",
       "<table border=\"1\" class=\"dataframe\">\n",
       "  <thead>\n",
       "    <tr style=\"text-align: right;\">\n",
       "      <th></th>\n",
       "      <th>id</th>\n",
       "      <th>Jenis_Kelamin</th>\n",
       "      <th>Umur</th>\n",
       "      <th>SIM</th>\n",
       "      <th>Kode_Daerah</th>\n",
       "      <th>Sudah_Asuransi</th>\n",
       "      <th>Umur_Kendaraan</th>\n",
       "      <th>Kendaraan_Rusak</th>\n",
       "      <th>Premi</th>\n",
       "      <th>Kanal_Penjualan</th>\n",
       "      <th>Lama_Berlangganan</th>\n",
       "      <th>Tertarik</th>\n",
       "    </tr>\n",
       "  </thead>\n",
       "  <tbody>\n",
       "    <tr>\n",
       "      <th>0</th>\n",
       "      <td>1</td>\n",
       "      <td>1</td>\n",
       "      <td>30.0</td>\n",
       "      <td>1.0</td>\n",
       "      <td>33.0</td>\n",
       "      <td>1.0</td>\n",
       "      <td>1</td>\n",
       "      <td>1</td>\n",
       "      <td>28029.0</td>\n",
       "      <td>152.0</td>\n",
       "      <td>97.0</td>\n",
       "      <td>0</td>\n",
       "    </tr>\n",
       "    <tr>\n",
       "      <th>1</th>\n",
       "      <td>2</td>\n",
       "      <td>0</td>\n",
       "      <td>48.0</td>\n",
       "      <td>1.0</td>\n",
       "      <td>39.0</td>\n",
       "      <td>0.0</td>\n",
       "      <td>2</td>\n",
       "      <td>0</td>\n",
       "      <td>25800.0</td>\n",
       "      <td>29.0</td>\n",
       "      <td>158.0</td>\n",
       "      <td>0</td>\n",
       "    </tr>\n",
       "    <tr>\n",
       "      <th>2</th>\n",
       "      <td>3</td>\n",
       "      <td>0</td>\n",
       "      <td>21.0</td>\n",
       "      <td>1.0</td>\n",
       "      <td>46.0</td>\n",
       "      <td>1.0</td>\n",
       "      <td>1</td>\n",
       "      <td>1</td>\n",
       "      <td>32733.0</td>\n",
       "      <td>160.0</td>\n",
       "      <td>119.0</td>\n",
       "      <td>0</td>\n",
       "    </tr>\n",
       "    <tr>\n",
       "      <th>3</th>\n",
       "      <td>4</td>\n",
       "      <td>1</td>\n",
       "      <td>58.0</td>\n",
       "      <td>1.0</td>\n",
       "      <td>48.0</td>\n",
       "      <td>0.0</td>\n",
       "      <td>0</td>\n",
       "      <td>1</td>\n",
       "      <td>2630.0</td>\n",
       "      <td>124.0</td>\n",
       "      <td>63.0</td>\n",
       "      <td>0</td>\n",
       "    </tr>\n",
       "    <tr>\n",
       "      <th>4</th>\n",
       "      <td>5</td>\n",
       "      <td>0</td>\n",
       "      <td>50.0</td>\n",
       "      <td>1.0</td>\n",
       "      <td>35.0</td>\n",
       "      <td>0.0</td>\n",
       "      <td>2</td>\n",
       "      <td>0</td>\n",
       "      <td>34857.0</td>\n",
       "      <td>88.0</td>\n",
       "      <td>194.0</td>\n",
       "      <td>0</td>\n",
       "    </tr>\n",
       "  </tbody>\n",
       "</table>\n",
       "</div>"
      ],
      "text/plain": [
       "   id  Jenis_Kelamin  Umur  SIM  Kode_Daerah  Sudah_Asuransi  Umur_Kendaraan  \\\n",
       "0   1              1  30.0  1.0         33.0             1.0               1   \n",
       "1   2              0  48.0  1.0         39.0             0.0               2   \n",
       "2   3              0  21.0  1.0         46.0             1.0               1   \n",
       "3   4              1  58.0  1.0         48.0             0.0               0   \n",
       "4   5              0  50.0  1.0         35.0             0.0               2   \n",
       "\n",
       "   Kendaraan_Rusak    Premi  Kanal_Penjualan  Lama_Berlangganan  Tertarik  \n",
       "0                1  28029.0            152.0               97.0         0  \n",
       "1                0  25800.0             29.0              158.0         0  \n",
       "2                1  32733.0            160.0              119.0         0  \n",
       "3                1   2630.0            124.0               63.0         0  \n",
       "4                0  34857.0             88.0              194.0         0  "
      ]
     },
     "execution_count": 35,
     "metadata": {},
     "output_type": "execute_result"
    }
   ],
   "source": [
    "df_kendaraan_train.head()"
   ]
  },
  {
   "cell_type": "code",
   "execution_count": 36,
   "metadata": {},
   "outputs": [
    {
     "data": {
      "text/html": [
       "<div>\n",
       "<style scoped>\n",
       "    .dataframe tbody tr th:only-of-type {\n",
       "        vertical-align: middle;\n",
       "    }\n",
       "\n",
       "    .dataframe tbody tr th {\n",
       "        vertical-align: top;\n",
       "    }\n",
       "\n",
       "    .dataframe thead th {\n",
       "        text-align: right;\n",
       "    }\n",
       "</style>\n",
       "<table border=\"1\" class=\"dataframe\">\n",
       "  <thead>\n",
       "    <tr style=\"text-align: right;\">\n",
       "      <th></th>\n",
       "      <th>Jenis_Kelamin</th>\n",
       "      <th>Umur</th>\n",
       "      <th>SIM</th>\n",
       "      <th>Kode_Daerah</th>\n",
       "      <th>Sudah_Asuransi</th>\n",
       "      <th>Umur_Kendaraan</th>\n",
       "      <th>Kendaraan_Rusak</th>\n",
       "      <th>Premi</th>\n",
       "      <th>Kanal_Penjualan</th>\n",
       "      <th>Lama_Berlangganan</th>\n",
       "      <th>Tertarik</th>\n",
       "    </tr>\n",
       "  </thead>\n",
       "  <tbody>\n",
       "    <tr>\n",
       "      <th>0</th>\n",
       "      <td>1</td>\n",
       "      <td>49</td>\n",
       "      <td>1</td>\n",
       "      <td>8</td>\n",
       "      <td>0</td>\n",
       "      <td>0</td>\n",
       "      <td>0</td>\n",
       "      <td>46963</td>\n",
       "      <td>26</td>\n",
       "      <td>145</td>\n",
       "      <td>0</td>\n",
       "    </tr>\n",
       "    <tr>\n",
       "      <th>1</th>\n",
       "      <td>0</td>\n",
       "      <td>22</td>\n",
       "      <td>1</td>\n",
       "      <td>47</td>\n",
       "      <td>1</td>\n",
       "      <td>1</td>\n",
       "      <td>1</td>\n",
       "      <td>39624</td>\n",
       "      <td>152</td>\n",
       "      <td>241</td>\n",
       "      <td>0</td>\n",
       "    </tr>\n",
       "    <tr>\n",
       "      <th>2</th>\n",
       "      <td>0</td>\n",
       "      <td>24</td>\n",
       "      <td>1</td>\n",
       "      <td>28</td>\n",
       "      <td>1</td>\n",
       "      <td>1</td>\n",
       "      <td>1</td>\n",
       "      <td>110479</td>\n",
       "      <td>152</td>\n",
       "      <td>62</td>\n",
       "      <td>0</td>\n",
       "    </tr>\n",
       "    <tr>\n",
       "      <th>3</th>\n",
       "      <td>0</td>\n",
       "      <td>46</td>\n",
       "      <td>1</td>\n",
       "      <td>8</td>\n",
       "      <td>1</td>\n",
       "      <td>0</td>\n",
       "      <td>1</td>\n",
       "      <td>36266</td>\n",
       "      <td>124</td>\n",
       "      <td>34</td>\n",
       "      <td>0</td>\n",
       "    </tr>\n",
       "    <tr>\n",
       "      <th>4</th>\n",
       "      <td>0</td>\n",
       "      <td>35</td>\n",
       "      <td>1</td>\n",
       "      <td>23</td>\n",
       "      <td>0</td>\n",
       "      <td>0</td>\n",
       "      <td>0</td>\n",
       "      <td>26963</td>\n",
       "      <td>152</td>\n",
       "      <td>229</td>\n",
       "      <td>0</td>\n",
       "    </tr>\n",
       "  </tbody>\n",
       "</table>\n",
       "</div>"
      ],
      "text/plain": [
       "   Jenis_Kelamin  Umur  SIM  Kode_Daerah  Sudah_Asuransi  Umur_Kendaraan  \\\n",
       "0              1    49    1            8               0               0   \n",
       "1              0    22    1           47               1               1   \n",
       "2              0    24    1           28               1               1   \n",
       "3              0    46    1            8               1               0   \n",
       "4              0    35    1           23               0               0   \n",
       "\n",
       "   Kendaraan_Rusak   Premi  Kanal_Penjualan  Lama_Berlangganan  Tertarik  \n",
       "0                0   46963               26                145         0  \n",
       "1                1   39624              152                241         0  \n",
       "2                1  110479              152                 62         0  \n",
       "3                1   36266              124                 34         0  \n",
       "4                0   26963              152                229         0  "
      ]
     },
     "execution_count": 36,
     "metadata": {},
     "output_type": "execute_result"
    }
   ],
   "source": [
    "df_kendaraan_test.head()"
   ]
  },
  {
   "cell_type": "markdown",
   "metadata": {},
   "source": [
    "**Scalling**"
   ]
  },
  {
   "cell_type": "code",
   "execution_count": 37,
   "metadata": {},
   "outputs": [],
   "source": [
    "sc = StandardScaler()\n",
    "df_kendaraan_train_scaled = sc.fit_transform(df_kendaraan_train)\n",
    "df_kendaraan_test_scaled = sc.fit_transform(df_kendaraan_test)"
   ]
  },
  {
   "cell_type": "code",
   "execution_count": 38,
   "metadata": {},
   "outputs": [],
   "source": [
    "df_kendaraan_train = pd.DataFrame(df_kendaraan_train_scaled, columns=df_kendaraan_train.columns)\n",
    "df_kendaraan_test = pd.DataFrame(df_kendaraan_test_scaled, columns= df_kendaraan_test.columns)\n"
   ]
  },
  {
   "cell_type": "code",
   "execution_count": 39,
   "metadata": {},
   "outputs": [
    {
     "data": {
      "text/html": [
       "<div>\n",
       "<style scoped>\n",
       "    .dataframe tbody tr th:only-of-type {\n",
       "        vertical-align: middle;\n",
       "    }\n",
       "\n",
       "    .dataframe tbody tr th {\n",
       "        vertical-align: top;\n",
       "    }\n",
       "\n",
       "    .dataframe thead th {\n",
       "        text-align: right;\n",
       "    }\n",
       "</style>\n",
       "<table border=\"1\" class=\"dataframe\">\n",
       "  <thead>\n",
       "    <tr style=\"text-align: right;\">\n",
       "      <th></th>\n",
       "      <th>id</th>\n",
       "      <th>Jenis_Kelamin</th>\n",
       "      <th>Umur</th>\n",
       "      <th>SIM</th>\n",
       "      <th>Kode_Daerah</th>\n",
       "      <th>Sudah_Asuransi</th>\n",
       "      <th>Umur_Kendaraan</th>\n",
       "      <th>Kendaraan_Rusak</th>\n",
       "      <th>Premi</th>\n",
       "      <th>Kanal_Penjualan</th>\n",
       "      <th>Lama_Berlangganan</th>\n",
       "      <th>Tertarik</th>\n",
       "    </tr>\n",
       "  </thead>\n",
       "  <tbody>\n",
       "    <tr>\n",
       "      <th>0</th>\n",
       "      <td>-1.732045</td>\n",
       "      <td>1.136622</td>\n",
       "      <td>-0.584495</td>\n",
       "      <td>0.047651</td>\n",
       "      <td>0.510544</td>\n",
       "      <td>1.114230</td>\n",
       "      <td>0.887126</td>\n",
       "      <td>1.060576</td>\n",
       "      <td>-0.150052</td>\n",
       "      <td>0.756749</td>\n",
       "      <td>-0.701861</td>\n",
       "      <td>-0.373582</td>\n",
       "    </tr>\n",
       "    <tr>\n",
       "      <th>1</th>\n",
       "      <td>-1.732033</td>\n",
       "      <td>-0.879800</td>\n",
       "      <td>0.605070</td>\n",
       "      <td>0.047651</td>\n",
       "      <td>0.975056</td>\n",
       "      <td>-0.944499</td>\n",
       "      <td>2.628439</td>\n",
       "      <td>-0.942884</td>\n",
       "      <td>-0.283429</td>\n",
       "      <td>-1.571509</td>\n",
       "      <td>0.045500</td>\n",
       "      <td>-0.373582</td>\n",
       "    </tr>\n",
       "    <tr>\n",
       "      <th>2</th>\n",
       "      <td>-1.732021</td>\n",
       "      <td>-0.879800</td>\n",
       "      <td>-1.179278</td>\n",
       "      <td>0.047651</td>\n",
       "      <td>1.516987</td>\n",
       "      <td>1.114230</td>\n",
       "      <td>0.887126</td>\n",
       "      <td>1.060576</td>\n",
       "      <td>0.131421</td>\n",
       "      <td>0.908180</td>\n",
       "      <td>-0.432321</td>\n",
       "      <td>-0.373582</td>\n",
       "    </tr>\n",
       "    <tr>\n",
       "      <th>3</th>\n",
       "      <td>-1.732008</td>\n",
       "      <td>1.136622</td>\n",
       "      <td>1.265939</td>\n",
       "      <td>0.047651</td>\n",
       "      <td>1.671825</td>\n",
       "      <td>-0.944499</td>\n",
       "      <td>-0.854186</td>\n",
       "      <td>1.060576</td>\n",
       "      <td>-1.669854</td>\n",
       "      <td>0.226739</td>\n",
       "      <td>-1.118423</td>\n",
       "      <td>-0.373582</td>\n",
       "    </tr>\n",
       "    <tr>\n",
       "      <th>4</th>\n",
       "      <td>-1.731996</td>\n",
       "      <td>-0.879800</td>\n",
       "      <td>0.737244</td>\n",
       "      <td>0.047651</td>\n",
       "      <td>0.665382</td>\n",
       "      <td>-0.944499</td>\n",
       "      <td>2.628439</td>\n",
       "      <td>-0.942884</td>\n",
       "      <td>0.258515</td>\n",
       "      <td>-0.454702</td>\n",
       "      <td>0.486565</td>\n",
       "      <td>-0.373582</td>\n",
       "    </tr>\n",
       "  </tbody>\n",
       "</table>\n",
       "</div>"
      ],
      "text/plain": [
       "         id  Jenis_Kelamin      Umur       SIM  Kode_Daerah  Sudah_Asuransi  \\\n",
       "0 -1.732045       1.136622 -0.584495  0.047651     0.510544        1.114230   \n",
       "1 -1.732033      -0.879800  0.605070  0.047651     0.975056       -0.944499   \n",
       "2 -1.732021      -0.879800 -1.179278  0.047651     1.516987        1.114230   \n",
       "3 -1.732008       1.136622  1.265939  0.047651     1.671825       -0.944499   \n",
       "4 -1.731996      -0.879800  0.737244  0.047651     0.665382       -0.944499   \n",
       "\n",
       "   Umur_Kendaraan  Kendaraan_Rusak     Premi  Kanal_Penjualan  \\\n",
       "0        0.887126         1.060576 -0.150052         0.756749   \n",
       "1        2.628439        -0.942884 -0.283429        -1.571509   \n",
       "2        0.887126         1.060576  0.131421         0.908180   \n",
       "3       -0.854186         1.060576 -1.669854         0.226739   \n",
       "4        2.628439        -0.942884  0.258515        -0.454702   \n",
       "\n",
       "   Lama_Berlangganan  Tertarik  \n",
       "0          -0.701861 -0.373582  \n",
       "1           0.045500 -0.373582  \n",
       "2          -0.432321 -0.373582  \n",
       "3          -1.118423 -0.373582  \n",
       "4           0.486565 -0.373582  "
      ]
     },
     "execution_count": 39,
     "metadata": {},
     "output_type": "execute_result"
    }
   ],
   "source": [
    "df_kendaraan_train.head()"
   ]
  },
  {
   "cell_type": "code",
   "execution_count": 40,
   "metadata": {},
   "outputs": [
    {
     "data": {
      "text/html": [
       "<div>\n",
       "<style scoped>\n",
       "    .dataframe tbody tr th:only-of-type {\n",
       "        vertical-align: middle;\n",
       "    }\n",
       "\n",
       "    .dataframe tbody tr th {\n",
       "        vertical-align: top;\n",
       "    }\n",
       "\n",
       "    .dataframe thead th {\n",
       "        text-align: right;\n",
       "    }\n",
       "</style>\n",
       "<table border=\"1\" class=\"dataframe\">\n",
       "  <thead>\n",
       "    <tr style=\"text-align: right;\">\n",
       "      <th></th>\n",
       "      <th>Jenis_Kelamin</th>\n",
       "      <th>Umur</th>\n",
       "      <th>SIM</th>\n",
       "      <th>Kode_Daerah</th>\n",
       "      <th>Sudah_Asuransi</th>\n",
       "      <th>Umur_Kendaraan</th>\n",
       "      <th>Kendaraan_Rusak</th>\n",
       "      <th>Premi</th>\n",
       "      <th>Kanal_Penjualan</th>\n",
       "      <th>Lama_Berlangganan</th>\n",
       "      <th>Tertarik</th>\n",
       "    </tr>\n",
       "  </thead>\n",
       "  <tbody>\n",
       "    <tr>\n",
       "      <th>0</th>\n",
       "      <td>1.090282</td>\n",
       "      <td>0.654992</td>\n",
       "      <td>0.045637</td>\n",
       "      <td>-1.387256</td>\n",
       "      <td>-0.918553</td>\n",
       "      <td>-0.897105</td>\n",
       "      <td>-0.990784</td>\n",
       "      <td>0.938523</td>\n",
       "      <td>-1.591195</td>\n",
       "      <td>-0.112826</td>\n",
       "      <td>-0.374506</td>\n",
       "    </tr>\n",
       "    <tr>\n",
       "      <th>1</th>\n",
       "      <td>-0.917194</td>\n",
       "      <td>-1.081396</td>\n",
       "      <td>0.045637</td>\n",
       "      <td>1.564156</td>\n",
       "      <td>1.088669</td>\n",
       "      <td>0.836155</td>\n",
       "      <td>1.009302</td>\n",
       "      <td>0.516811</td>\n",
       "      <td>0.735135</td>\n",
       "      <td>1.034951</td>\n",
       "      <td>-0.374506</td>\n",
       "    </tr>\n",
       "    <tr>\n",
       "      <th>2</th>\n",
       "      <td>-0.917194</td>\n",
       "      <td>-0.952775</td>\n",
       "      <td>0.045637</td>\n",
       "      <td>0.126289</td>\n",
       "      <td>1.088669</td>\n",
       "      <td>0.836155</td>\n",
       "      <td>1.009302</td>\n",
       "      <td>4.588266</td>\n",
       "      <td>0.735135</td>\n",
       "      <td>-1.105176</td>\n",
       "      <td>-0.374506</td>\n",
       "    </tr>\n",
       "    <tr>\n",
       "      <th>3</th>\n",
       "      <td>-0.917194</td>\n",
       "      <td>0.462060</td>\n",
       "      <td>0.045637</td>\n",
       "      <td>-1.387256</td>\n",
       "      <td>1.088669</td>\n",
       "      <td>-0.897105</td>\n",
       "      <td>1.009302</td>\n",
       "      <td>0.323854</td>\n",
       "      <td>0.218173</td>\n",
       "      <td>-1.439944</td>\n",
       "      <td>-0.374506</td>\n",
       "    </tr>\n",
       "    <tr>\n",
       "      <th>4</th>\n",
       "      <td>-0.917194</td>\n",
       "      <td>-0.245358</td>\n",
       "      <td>0.045637</td>\n",
       "      <td>-0.252097</td>\n",
       "      <td>-0.918553</td>\n",
       "      <td>-0.897105</td>\n",
       "      <td>-0.990784</td>\n",
       "      <td>-0.210713</td>\n",
       "      <td>0.735135</td>\n",
       "      <td>0.891479</td>\n",
       "      <td>-0.374506</td>\n",
       "    </tr>\n",
       "  </tbody>\n",
       "</table>\n",
       "</div>"
      ],
      "text/plain": [
       "   Jenis_Kelamin      Umur       SIM  Kode_Daerah  Sudah_Asuransi  \\\n",
       "0       1.090282  0.654992  0.045637    -1.387256       -0.918553   \n",
       "1      -0.917194 -1.081396  0.045637     1.564156        1.088669   \n",
       "2      -0.917194 -0.952775  0.045637     0.126289        1.088669   \n",
       "3      -0.917194  0.462060  0.045637    -1.387256        1.088669   \n",
       "4      -0.917194 -0.245358  0.045637    -0.252097       -0.918553   \n",
       "\n",
       "   Umur_Kendaraan  Kendaraan_Rusak     Premi  Kanal_Penjualan  \\\n",
       "0       -0.897105        -0.990784  0.938523        -1.591195   \n",
       "1        0.836155         1.009302  0.516811         0.735135   \n",
       "2        0.836155         1.009302  4.588266         0.735135   \n",
       "3       -0.897105         1.009302  0.323854         0.218173   \n",
       "4       -0.897105        -0.990784 -0.210713         0.735135   \n",
       "\n",
       "   Lama_Berlangganan  Tertarik  \n",
       "0          -0.112826 -0.374506  \n",
       "1           1.034951 -0.374506  \n",
       "2          -1.105176 -0.374506  \n",
       "3          -1.439944 -0.374506  \n",
       "4           0.891479 -0.374506  "
      ]
     },
     "execution_count": 40,
     "metadata": {},
     "output_type": "execute_result"
    }
   ],
   "source": [
    "df_kendaraan_test.head()"
   ]
  },
  {
   "cell_type": "markdown",
   "metadata": {},
   "source": [
    "**Boxplot**"
   ]
  },
  {
   "cell_type": "code",
   "execution_count": 41,
   "metadata": {},
   "outputs": [
    {
     "data": {
      "text/plain": [
       "<matplotlib.axes._subplots.AxesSubplot at 0x2bb00c68b08>"
      ]
     },
     "execution_count": 41,
     "metadata": {},
     "output_type": "execute_result"
    },
    {
     "data": {
      "image/png": "[encoded data removed]",
      "text/plain": [
       "<Figure size 432x288 with 1 Axes>"
      ]
     },
     "metadata": {
      "needs_background": "light"
     },
     "output_type": "display_data"
    }
   ],
   "source": [
    "  sn.boxplot(y=df_kendaraan_train['Jenis_Kelamin'])"
   ]
  },
  {
   "cell_type": "code",
   "execution_count": 42,
   "metadata": {},
   "outputs": [
    {
     "data": {
      "text/plain": [
       "<matplotlib.axes._subplots.AxesSubplot at 0x2bb0007fd48>"
      ]
     },
     "execution_count": 42,
     "metadata": {},
     "output_type": "execute_result"
    },
    {
     "data": {
      "image/png": "[encoded data removed]",
      "text/plain": [
       "<Figure size 432x288 with 1 Axes>"
      ]
     },
     "metadata": {
      "needs_background": "light"
     },
     "output_type": "display_data"
    }
   ],
   "source": [
    " sn.boxplot(y=df_kendaraan_train['Umur'])"
   ]
  },
  {
   "cell_type": "code",
   "execution_count": 43,
   "metadata": {},
   "outputs": [
    {
     "data": {
      "text/plain": [
       "<matplotlib.axes._subplots.AxesSubplot at 0x2bb000dc548>"
      ]
     },
     "execution_count": 43,
     "metadata": {},
     "output_type": "execute_result"
    },
    {
     "data": {
      "image/png": "[encoded data removed]",
      "text/plain": [
       "<Figure size 432x288 with 1 Axes>"
      ]
     },
     "metadata": {
      "needs_background": "light"
     },
     "output_type": "display_data"
    }
   ],
   "source": [
    " sn.boxplot(y=df_kendaraan_train['SIM'])"
   ]
  },
  {
   "cell_type": "code",
   "execution_count": 44,
   "metadata": {},
   "outputs": [
    {
     "data": {
      "text/plain": [
       "<matplotlib.axes._subplots.AxesSubplot at 0x2bb00143888>"
      ]
     },
     "execution_count": 44,
     "metadata": {},
     "output_type": "execute_result"
    },
    {
     "data": {
      "image/png": "[encoded data removed]",
      "text/plain": [
       "<Figure size 432x288 with 1 Axes>"
      ]
     },
     "metadata": {
      "needs_background": "light"
     },
     "output_type": "display_data"
    }
   ],
   "source": [
    " sn.boxplot(y=df_kendaraan_train['Kode_Daerah'])"
   ]
  },
  {
   "cell_type": "code",
   "execution_count": 45,
   "metadata": {},
   "outputs": [
    {
     "data": {
      "text/plain": [
       "<matplotlib.axes._subplots.AxesSubplot at 0x2bb001a55c8>"
      ]
     },
     "execution_count": 45,
     "metadata": {},
     "output_type": "execute_result"
    },
    {
     "data": {
      "image/png": "[encoded data removed]",
      "text/plain": [
       "<Figure size 432x288 with 1 Axes>"
      ]
     },
     "metadata": {
      "needs_background": "light"
     },
     "output_type": "display_data"
    }
   ],
   "source": [
    " sn.boxplot(y=df_kendaraan_train['Sudah_Asuransi'])"
   ]
  },
  {
   "cell_type": "code",
   "execution_count": 46,
   "metadata": {},
   "outputs": [
    {
     "data": {
      "text/plain": [
       "<matplotlib.axes._subplots.AxesSubplot at 0x2bb0020cbc8>"
      ]
     },
     "execution_count": 46,
     "metadata": {},
     "output_type": "execute_result"
    },
    {
     "data": {
      "image/png": "[encoded data removed]",
      "text/plain": [
       "<Figure size 432x288 with 1 Axes>"
      ]
     },
     "metadata": {
      "needs_background": "light"
     },
     "output_type": "display_data"
    }
   ],
   "source": [
    " sn.boxplot(y=df_kendaraan_train['Umur_Kendaraan'])"
   ]
  },
  {
   "cell_type": "code",
   "execution_count": 47,
   "metadata": {},
   "outputs": [
    {
     "data": {
      "text/plain": [
       "<matplotlib.axes._subplots.AxesSubplot at 0x2bb00275508>"
      ]
     },
     "execution_count": 47,
     "metadata": {},
     "output_type": "execute_result"
    },
    {
     "data": {
      "image/png": "[encoded data removed]",
      "text/plain": [
       "<Figure size 432x288 with 1 Axes>"
      ]
     },
     "metadata": {
      "needs_background": "light"
     },
     "output_type": "display_data"
    }
   ],
   "source": [
    " sn.boxplot(y=df_kendaraan_train['Kendaraan_Rusak'])"
   ]
  },
  {
   "cell_type": "code",
   "execution_count": 48,
   "metadata": {},
   "outputs": [
    {
     "data": {
      "text/plain": [
       "<matplotlib.axes._subplots.AxesSubplot at 0x2bb00b8f4c8>"
      ]
     },
     "execution_count": 48,
     "metadata": {},
     "output_type": "execute_result"
    },
    {
     "data": {
      "image/png": "[encoded data removed]",
      "text/plain": [
       "<Figure size 432x288 with 1 Axes>"
      ]
     },
     "metadata": {
      "needs_background": "light"
     },
     "output_type": "display_data"
    }
   ],
   "source": [
    " sn.boxplot(y=df_kendaraan_train['Premi'])"
   ]
  },
  {
   "cell_type": "code",
   "execution_count": 49,
   "metadata": {},
   "outputs": [
    {
     "data": {
      "text/plain": [
       "<matplotlib.axes._subplots.AxesSubplot at 0x2bb00c059c8>"
      ]
     },
     "execution_count": 49,
     "metadata": {},
     "output_type": "execute_result"
    },
    {
     "data": {
      "image/png": "[encoded data removed]",
      "text/plain": [
       "<Figure size 432x288 with 1 Axes>"
      ]
     },
     "metadata": {
      "needs_background": "light"
     },
     "output_type": "display_data"
    }
   ],
   "source": [
    " sn.boxplot(y=df_kendaraan_train['Kanal_Penjualan'])"
   ]
  },
  {
   "cell_type": "code",
   "execution_count": 50,
   "metadata": {},
   "outputs": [
    {
     "data": {
      "text/plain": [
       "<matplotlib.axes._subplots.AxesSubplot at 0x2bb00d3ab48>"
      ]
     },
     "execution_count": 50,
     "metadata": {},
     "output_type": "execute_result"
    },
    {
     "data": {
      "image/png": "[encoded data removed]",
      "text/plain": [
       "<Figure size 432x288 with 1 Axes>"
      ]
     },
     "metadata": {
      "needs_background": "light"
     },
     "output_type": "display_data"
    }
   ],
   "source": [
    " sn.boxplot(y=df_kendaraan_train['Lama_Berlangganan'])"
   ]
  },
  {
   "cell_type": "markdown",
   "metadata": {},
   "source": [
    "**Data Test**"
   ]
  },
  {
   "cell_type": "code",
   "execution_count": 51,
   "metadata": {},
   "outputs": [
    {
     "data": {
      "text/plain": [
       "<matplotlib.axes._subplots.AxesSubplot at 0x2bb01020308>"
      ]
     },
     "execution_count": 51,
     "metadata": {},
     "output_type": "execute_result"
    },
    {
     "data": {
      "image/png": "[encoded data removed]",
      "text/plain": [
       "<Figure size 432x288 with 1 Axes>"
      ]
     },
     "metadata": {
      "needs_background": "light"
     },
     "output_type": "display_data"
    }
   ],
   "source": [
    "  sn.boxplot(y=df_kendaraan_test['Jenis_Kelamin'])"
   ]
  },
  {
   "cell_type": "code",
   "execution_count": 52,
   "metadata": {},
   "outputs": [
    {
     "data": {
      "text/plain": [
       "<matplotlib.axes._subplots.AxesSubplot at 0x2bb00e07f48>"
      ]
     },
     "execution_count": 52,
     "metadata": {},
     "output_type": "execute_result"
    },
    {
     "data": {
      "image/png": "[encoded data removed]",
      "text/plain": [
       "<Figure size 432x288 with 1 Axes>"
      ]
     },
     "metadata": {
      "needs_background": "light"
     },
     "output_type": "display_data"
    }
   ],
   "source": [
    " sn.boxplot(y=df_kendaraan_test['Umur'])"
   ]
  },
  {
   "cell_type": "code",
   "execution_count": 53,
   "metadata": {},
   "outputs": [
    {
     "data": {
      "text/plain": [
       "<matplotlib.axes._subplots.AxesSubplot at 0x2bb7d906688>"
      ]
     },
     "execution_count": 53,
     "metadata": {},
     "output_type": "execute_result"
    },
    {
     "data": {
      "image/png": "[encoded data removed]",
      "text/plain": [
       "<Figure size 432x288 with 1 Axes>"
      ]
     },
     "metadata": {
      "needs_background": "light"
     },
     "output_type": "display_data"
    }
   ],
   "source": [
    " sn.boxplot(y=df_kendaraan_test['SIM'])"
   ]
  },
  {
   "cell_type": "code",
   "execution_count": 54,
   "metadata": {},
   "outputs": [
    {
     "data": {
      "text/plain": [
       "<matplotlib.axes._subplots.AxesSubplot at 0x2bb00edc588>"
      ]
     },
     "execution_count": 54,
     "metadata": {},
     "output_type": "execute_result"
    },
    {
     "data": {
      "image/png": "[encoded data removed]",
      "text/plain": [
       "<Figure size 432x288 with 1 Axes>"
      ]
     },
     "metadata": {
      "needs_background": "light"
     },
     "output_type": "display_data"
    }
   ],
   "source": [
    " sn.boxplot(y=df_kendaraan_test['Kode_Daerah'])"
   ]
  },
  {
   "cell_type": "code",
   "execution_count": 55,
   "metadata": {},
   "outputs": [
    {
     "data": {
      "text/plain": [
       "<matplotlib.axes._subplots.AxesSubplot at 0x2bb00f3e548>"
      ]
     },
     "execution_count": 55,
     "metadata": {},
     "output_type": "execute_result"
    },
    {
     "data": {
      "image/png": "[encoded data removed]",
      "text/plain": [
       "<Figure size 432x288 with 1 Axes>"
      ]
     },
     "metadata": {
      "needs_background": "light"
     },
     "output_type": "display_data"
    }
   ],
   "source": [
    " sn.boxplot(y=df_kendaraan_test['Sudah_Asuransi'])"
   ]
  },
  {
   "cell_type": "code",
   "execution_count": 56,
   "metadata": {},
   "outputs": [
    {
     "data": {
      "text/plain": [
       "<matplotlib.axes._subplots.AxesSubplot at 0x2bb00fad788>"
      ]
     },
     "execution_count": 56,
     "metadata": {},
     "output_type": "execute_result"
    },
    {
     "data": {
      "image/png": "[encoded data removed]",
      "text/plain": [
       "<Figure size 432x288 with 1 Axes>"
      ]
     },
     "metadata": {
      "needs_background": "light"
     },
     "output_type": "display_data"
    }
   ],
   "source": [
    " sn.boxplot(y=df_kendaraan_test['Umur_Kendaraan'])"
   ]
  },
  {
   "cell_type": "code",
   "execution_count": 57,
   "metadata": {},
   "outputs": [
    {
     "data": {
      "text/plain": [
       "<matplotlib.axes._subplots.AxesSubplot at 0x2bb010617c8>"
      ]
     },
     "execution_count": 57,
     "metadata": {},
     "output_type": "execute_result"
    },
    {
     "data": {
      "image/png": "[encoded data removed]",
      "text/plain": [
       "<Figure size 432x288 with 1 Axes>"
      ]
     },
     "metadata": {
      "needs_background": "light"
     },
     "output_type": "display_data"
    }
   ],
   "source": [
    " sn.boxplot(y=df_kendaraan_test['Kendaraan_Rusak'])"
   ]
  },
  {
   "cell_type": "code",
   "execution_count": 58,
   "metadata": {},
   "outputs": [
    {
     "data": {
      "text/plain": [
       "<matplotlib.axes._subplots.AxesSubplot at 0x2bb010c65c8>"
      ]
     },
     "execution_count": 58,
     "metadata": {},
     "output_type": "execute_result"
    },
    {
     "data": {
      "image/png": "[encoded data removed]",
      "text/plain": [
       "<Figure size 720x72 with 1 Axes>"
      ]
     },
     "metadata": {
      "needs_background": "light"
     },
     "output_type": "display_data"
    }
   ],
   "source": [
    "plt.figure(figsize=(10,1))\n",
    "sn.boxplot(x=df_kendaraan_test['Premi'])"
   ]
  },
  {
   "cell_type": "code",
   "execution_count": 59,
   "metadata": {},
   "outputs": [
    {
     "data": {
      "text/plain": [
       "<matplotlib.axes._subplots.AxesSubplot at 0x2bb0113a308>"
      ]
     },
     "execution_count": 59,
     "metadata": {},
     "output_type": "execute_result"
    },
    {
     "data": {
      "image/png": "[encoded data removed]",
      "text/plain": [
       "<Figure size 432x288 with 1 Axes>"
      ]
     },
     "metadata": {
      "needs_background": "light"
     },
     "output_type": "display_data"
    }
   ],
   "source": [
    " sn.boxplot(y=df_kendaraan_test['Kanal_Penjualan'])"
   ]
  },
  {
   "cell_type": "code",
   "execution_count": 60,
   "metadata": {},
   "outputs": [
    {
     "data": {
      "text/plain": [
       "<matplotlib.axes._subplots.AxesSubplot at 0x2bb011a8d88>"
      ]
     },
     "execution_count": 60,
     "metadata": {},
     "output_type": "execute_result"
    },
    {
     "data": {
      "image/png": "[encoded data removed]",
      "text/plain": [
       "<Figure size 432x288 with 1 Axes>"
      ]
     },
     "metadata": {
      "needs_background": "light"
     },
     "output_type": "display_data"
    }
   ],
   "source": [
    "sn.boxplot(y=df_kendaraan_test['Lama_Berlangganan'])"
   ]
  },
  {
   "cell_type": "markdown",
   "metadata": {},
   "source": [
    "**Correlation**"
   ]
  },
  {
   "cell_type": "code",
   "execution_count": 61,
   "metadata": {},
   "outputs": [
    {
     "data": {
      "text/html": [
       "<div>\n",
       "<style scoped>\n",
       "    .dataframe tbody tr th:only-of-type {\n",
       "        vertical-align: middle;\n",
       "    }\n",
       "\n",
       "    .dataframe tbody tr th {\n",
       "        vertical-align: top;\n",
       "    }\n",
       "\n",
       "    .dataframe thead th {\n",
       "        text-align: right;\n",
       "    }\n",
       "</style>\n",
       "<table border=\"1\" class=\"dataframe\">\n",
       "  <thead>\n",
       "    <tr style=\"text-align: right;\">\n",
       "      <th></th>\n",
       "      <th>id</th>\n",
       "      <th>Jenis_Kelamin</th>\n",
       "      <th>Umur</th>\n",
       "      <th>SIM</th>\n",
       "      <th>Kode_Daerah</th>\n",
       "      <th>Sudah_Asuransi</th>\n",
       "      <th>Umur_Kendaraan</th>\n",
       "      <th>Kendaraan_Rusak</th>\n",
       "      <th>Premi</th>\n",
       "      <th>Kanal_Penjualan</th>\n",
       "      <th>Lama_Berlangganan</th>\n",
       "      <th>Tertarik</th>\n",
       "    </tr>\n",
       "  </thead>\n",
       "  <tbody>\n",
       "    <tr>\n",
       "      <th>id</th>\n",
       "      <td>1.000000</td>\n",
       "      <td>0.001226</td>\n",
       "      <td>0.001686</td>\n",
       "      <td>-0.002590</td>\n",
       "      <td>0.002060</td>\n",
       "      <td>-0.002966</td>\n",
       "      <td>0.003380</td>\n",
       "      <td>-0.002087</td>\n",
       "      <td>0.002233</td>\n",
       "      <td>-0.001462</td>\n",
       "      <td>0.000890</td>\n",
       "      <td>0.000972</td>\n",
       "    </tr>\n",
       "    <tr>\n",
       "      <th>Jenis_Kelamin</th>\n",
       "      <td>0.001226</td>\n",
       "      <td>1.000000</td>\n",
       "      <td>-0.135939</td>\n",
       "      <td>0.015916</td>\n",
       "      <td>-0.001444</td>\n",
       "      <td>0.075725</td>\n",
       "      <td>0.105474</td>\n",
       "      <td>0.082619</td>\n",
       "      <td>-0.004290</td>\n",
       "      <td>0.106507</td>\n",
       "      <td>0.001275</td>\n",
       "      <td>-0.051317</td>\n",
       "    </tr>\n",
       "    <tr>\n",
       "      <th>Umur</th>\n",
       "      <td>0.001686</td>\n",
       "      <td>-0.135939</td>\n",
       "      <td>1.000000</td>\n",
       "      <td>-0.075216</td>\n",
       "      <td>0.041433</td>\n",
       "      <td>-0.242319</td>\n",
       "      <td>-0.486777</td>\n",
       "      <td>-0.249291</td>\n",
       "      <td>0.061275</td>\n",
       "      <td>-0.548758</td>\n",
       "      <td>0.000140</td>\n",
       "      <td>0.107147</td>\n",
       "    </tr>\n",
       "    <tr>\n",
       "      <th>SIM</th>\n",
       "      <td>-0.002590</td>\n",
       "      <td>0.015916</td>\n",
       "      <td>-0.075216</td>\n",
       "      <td>1.000000</td>\n",
       "      <td>-0.003183</td>\n",
       "      <td>0.015200</td>\n",
       "      <td>0.029649</td>\n",
       "      <td>0.016425</td>\n",
       "      <td>-0.010708</td>\n",
       "      <td>0.041165</td>\n",
       "      <td>-0.001203</td>\n",
       "      <td>0.009343</td>\n",
       "    </tr>\n",
       "    <tr>\n",
       "      <th>Kode_Daerah</th>\n",
       "      <td>0.002060</td>\n",
       "      <td>-0.001444</td>\n",
       "      <td>0.041433</td>\n",
       "      <td>-0.003183</td>\n",
       "      <td>1.000000</td>\n",
       "      <td>-0.023296</td>\n",
       "      <td>-0.025976</td>\n",
       "      <td>-0.026338</td>\n",
       "      <td>-0.011278</td>\n",
       "      <td>-0.041044</td>\n",
       "      <td>-0.003460</td>\n",
       "      <td>0.009931</td>\n",
       "    </tr>\n",
       "    <tr>\n",
       "      <th>Sudah_Asuransi</th>\n",
       "      <td>-0.002966</td>\n",
       "      <td>0.075725</td>\n",
       "      <td>-0.242319</td>\n",
       "      <td>0.015200</td>\n",
       "      <td>-0.023296</td>\n",
       "      <td>1.000000</td>\n",
       "      <td>0.161927</td>\n",
       "      <td>0.765342</td>\n",
       "      <td>0.005609</td>\n",
       "      <td>0.210739</td>\n",
       "      <td>0.002621</td>\n",
       "      <td>-0.331952</td>\n",
       "    </tr>\n",
       "    <tr>\n",
       "      <th>Umur_Kendaraan</th>\n",
       "      <td>0.003380</td>\n",
       "      <td>0.105474</td>\n",
       "      <td>-0.486777</td>\n",
       "      <td>0.029649</td>\n",
       "      <td>-0.025976</td>\n",
       "      <td>0.161927</td>\n",
       "      <td>1.000000</td>\n",
       "      <td>0.158624</td>\n",
       "      <td>0.022568</td>\n",
       "      <td>0.363328</td>\n",
       "      <td>0.001878</td>\n",
       "      <td>-0.098415</td>\n",
       "    </tr>\n",
       "    <tr>\n",
       "      <th>Kendaraan_Rusak</th>\n",
       "      <td>-0.002087</td>\n",
       "      <td>0.082619</td>\n",
       "      <td>-0.249291</td>\n",
       "      <td>0.016425</td>\n",
       "      <td>-0.026338</td>\n",
       "      <td>0.765342</td>\n",
       "      <td>0.158624</td>\n",
       "      <td>1.000000</td>\n",
       "      <td>-0.007769</td>\n",
       "      <td>0.210145</td>\n",
       "      <td>0.001250</td>\n",
       "      <td>-0.337919</td>\n",
       "    </tr>\n",
       "    <tr>\n",
       "      <th>Premi</th>\n",
       "      <td>0.002233</td>\n",
       "      <td>-0.004290</td>\n",
       "      <td>0.061275</td>\n",
       "      <td>-0.010708</td>\n",
       "      <td>-0.011278</td>\n",
       "      <td>0.005609</td>\n",
       "      <td>0.022568</td>\n",
       "      <td>-0.007769</td>\n",
       "      <td>1.000000</td>\n",
       "      <td>-0.106468</td>\n",
       "      <td>-0.000710</td>\n",
       "      <td>0.023136</td>\n",
       "    </tr>\n",
       "    <tr>\n",
       "      <th>Kanal_Penjualan</th>\n",
       "      <td>-0.001462</td>\n",
       "      <td>0.106507</td>\n",
       "      <td>-0.548758</td>\n",
       "      <td>0.041165</td>\n",
       "      <td>-0.041044</td>\n",
       "      <td>0.210739</td>\n",
       "      <td>0.363328</td>\n",
       "      <td>0.210145</td>\n",
       "      <td>-0.106468</td>\n",
       "      <td>1.000000</td>\n",
       "      <td>0.000311</td>\n",
       "      <td>-0.137412</td>\n",
       "    </tr>\n",
       "    <tr>\n",
       "      <th>Lama_Berlangganan</th>\n",
       "      <td>0.000890</td>\n",
       "      <td>0.001275</td>\n",
       "      <td>0.000140</td>\n",
       "      <td>-0.001203</td>\n",
       "      <td>-0.003460</td>\n",
       "      <td>0.002621</td>\n",
       "      <td>0.001878</td>\n",
       "      <td>0.001250</td>\n",
       "      <td>-0.000710</td>\n",
       "      <td>0.000311</td>\n",
       "      <td>1.000000</td>\n",
       "      <td>-0.002168</td>\n",
       "    </tr>\n",
       "    <tr>\n",
       "      <th>Tertarik</th>\n",
       "      <td>0.000972</td>\n",
       "      <td>-0.051317</td>\n",
       "      <td>0.107147</td>\n",
       "      <td>0.009343</td>\n",
       "      <td>0.009931</td>\n",
       "      <td>-0.331952</td>\n",
       "      <td>-0.098415</td>\n",
       "      <td>-0.337919</td>\n",
       "      <td>0.023136</td>\n",
       "      <td>-0.137412</td>\n",
       "      <td>-0.002168</td>\n",
       "      <td>1.000000</td>\n",
       "    </tr>\n",
       "  </tbody>\n",
       "</table>\n",
       "</div>"
      ],
      "text/plain": [
       "                         id  Jenis_Kelamin      Umur       SIM  Kode_Daerah  \\\n",
       "id                 1.000000       0.001226  0.001686 -0.002590     0.002060   \n",
       "Jenis_Kelamin      0.001226       1.000000 -0.135939  0.015916    -0.001444   \n",
       "Umur               0.001686      -0.135939  1.000000 -0.075216     0.041433   \n",
       "SIM               -0.002590       0.015916 -0.075216  1.000000    -0.003183   \n",
       "Kode_Daerah        0.002060      -0.001444  0.041433 -0.003183     1.000000   \n",
       "Sudah_Asuransi    -0.002966       0.075725 -0.242319  0.015200    -0.023296   \n",
       "Umur_Kendaraan     0.003380       0.105474 -0.486777  0.029649    -0.025976   \n",
       "Kendaraan_Rusak   -0.002087       0.082619 -0.249291  0.016425    -0.026338   \n",
       "Premi              0.002233      -0.004290  0.061275 -0.010708    -0.011278   \n",
       "Kanal_Penjualan   -0.001462       0.106507 -0.548758  0.041165    -0.041044   \n",
       "Lama_Berlangganan  0.000890       0.001275  0.000140 -0.001203    -0.003460   \n",
       "Tertarik           0.000972      -0.051317  0.107147  0.009343     0.009931   \n",
       "\n",
       "                   Sudah_Asuransi  Umur_Kendaraan  Kendaraan_Rusak     Premi  \\\n",
       "id                      -0.002966        0.003380        -0.002087  0.002233   \n",
       "Jenis_Kelamin            0.075725        0.105474         0.082619 -0.004290   \n",
       "Umur                    -0.242319       -0.486777        -0.249291  0.061275   \n",
       "SIM                      0.015200        0.029649         0.016425 -0.010708   \n",
       "Kode_Daerah             -0.023296       -0.025976        -0.026338 -0.011278   \n",
       "Sudah_Asuransi           1.000000        0.161927         0.765342  0.005609   \n",
       "Umur_Kendaraan           0.161927        1.000000         0.158624  0.022568   \n",
       "Kendaraan_Rusak          0.765342        0.158624         1.000000 -0.007769   \n",
       "Premi                    0.005609        0.022568        -0.007769  1.000000   \n",
       "Kanal_Penjualan          0.210739        0.363328         0.210145 -0.106468   \n",
       "Lama_Berlangganan        0.002621        0.001878         0.001250 -0.000710   \n",
       "Tertarik                -0.331952       -0.098415        -0.337919  0.023136   \n",
       "\n",
       "                   Kanal_Penjualan  Lama_Berlangganan  Tertarik  \n",
       "id                       -0.001462           0.000890  0.000972  \n",
       "Jenis_Kelamin             0.106507           0.001275 -0.051317  \n",
       "Umur                     -0.548758           0.000140  0.107147  \n",
       "SIM                       0.041165          -0.001203  0.009343  \n",
       "Kode_Daerah              -0.041044          -0.003460  0.009931  \n",
       "Sudah_Asuransi            0.210739           0.002621 -0.331952  \n",
       "Umur_Kendaraan            0.363328           0.001878 -0.098415  \n",
       "Kendaraan_Rusak           0.210145           0.001250 -0.337919  \n",
       "Premi                    -0.106468          -0.000710  0.023136  \n",
       "Kanal_Penjualan           1.000000           0.000311 -0.137412  \n",
       "Lama_Berlangganan         0.000311           1.000000 -0.002168  \n",
       "Tertarik                 -0.137412          -0.002168  1.000000  "
      ]
     },
     "execution_count": 61,
     "metadata": {},
     "output_type": "execute_result"
    }
   ],
   "source": [
    "df_kendaraan_train.corr()"
   ]
  },
  {
   "cell_type": "code",
   "execution_count": 62,
   "metadata": {},
   "outputs": [],
   "source": [
    "corrMatrix = df_kendaraan_train.corr()"
   ]
  },
  {
   "cell_type": "code",
   "execution_count": 63,
   "metadata": {},
   "outputs": [
    {
     "data": {
      "image/png": "[encoded data removed]",
      "text/plain": [
       "<Figure size 432x288 with 2 Axes>"
      ]
     },
     "metadata": {
      "needs_background": "light"
     },
     "output_type": "display_data"
    }
   ],
   "source": [
    "sn.heatmap(corrMatrix, annot=False)\n",
    "plt.show()"
   ]
  },
  {
   "cell_type": "markdown",
   "metadata": {},
   "source": [
    "**Berdasarkan Data Korelasi Kemungkinan Atribut yang dapat dipilih adalah Umur, SIM, Kode_Daerah,Premi,Lama Berlangganan\n",
    "Untuk ID, Sudah_Asuransi, Umur_Kendaraan, Kendaraan_Rusak Akan Didrop"
   ]
  },
  {
   "cell_type": "markdown",
   "metadata": {},
   "source": [
    "**Handling Outliers by Dropping Value With Outliers**"
   ]
  },
  {
   "cell_type": "markdown",
   "metadata": {},
   "source": [
    "** Check Menggunakan IQR dan Kemudian Drop Data"
   ]
  },
  {
   "cell_type": "code",
   "execution_count": 64,
   "metadata": {},
   "outputs": [
    {
     "name": "stdout",
     "output_type": "stream",
     "text": [
      "id                   3.464089\n",
      "Jenis_Kelamin        4.161255\n",
      "Umur                 3.050287\n",
      "SIM                  0.047651\n",
      "Kode_Daerah          2.987942\n",
      "Sudah_Asuransi       4.202323\n",
      "Umur_Kendaraan       3.499095\n",
      "Kendaraan_Rusak      4.065766\n",
      "Premi                1.746184\n",
      "Kanal_Penjualan      3.510908\n",
      "Lama_Berlangganan    3.377994\n",
      "Tertarik            -0.373582\n",
      "dtype: float64\n"
     ]
    }
   ],
   "source": [
    "train_Q1 = df_kendaraan_train.quantile(0.25)\n",
    "train_Q3 = df_kendaraan_train.quantile(0.75)\n",
    "train_IQR = train_Q3 - train_Q1\n",
    "lowtrain_bound=train_Q1 - 1.5 * train_IQR\n",
    "uppertrain_bound=train_Q3 + 1.5 * train_IQR\n",
    "print(uppertrain_bound)"
   ]
  },
  {
   "cell_type": "code",
   "execution_count": 65,
   "metadata": {},
   "outputs": [
    {
     "name": "stdout",
     "output_type": "stream",
     "text": [
      "Jenis_Kelamin       -3.928408\n",
      "Umur                -3.203649\n",
      "SIM                  0.045637\n",
      "Kode_Daerah         -3.127832\n",
      "Sudah_Asuransi      -3.929386\n",
      "Umur_Kendaraan      -3.496994\n",
      "Kendaraan_Rusak     -3.990913\n",
      "Premi               -1.657428\n",
      "Kanal_Penjualan     -4.942218\n",
      "Lama_Berlangganan   -3.466489\n",
      "Tertarik            -0.374506\n",
      "dtype: float64\n"
     ]
    }
   ],
   "source": [
    "test_Q1 = df_kendaraan_test.quantile(0.25)\n",
    "test_Q3 = df_kendaraan_test.quantile(0.75)\n",
    "test_IQR = test_Q3 - test_Q1\n",
    "lowtest_bound=test_Q1 - 1.5 * test_IQR\n",
    "uppertest_bound=test_Q3 + 1.5 * test_IQR\n",
    "print(lowtest_bound)"
   ]
  },
  {
   "cell_type": "code",
   "execution_count": 66,
   "metadata": {},
   "outputs": [
    {
     "data": {
      "text/plain": [
       "(230688, 12)"
      ]
     },
     "execution_count": 66,
     "metadata": {},
     "output_type": "execute_result"
    }
   ],
   "source": [
    "df_kendaraan_train = df_kendaraan_train.loc[(df_kendaraan_train['Premi'] > lowtrain_bound['Premi']) & (df_kendaraan_train['Premi'] < uppertrain_bound['Premi'])]\n",
    "df_kendaraan_train.shape"
   ]
  },
  {
   "cell_type": "code",
   "execution_count": 67,
   "metadata": {},
   "outputs": [
    {
     "data": {
      "text/plain": [
       "(46361, 11)"
      ]
     },
     "execution_count": 67,
     "metadata": {},
     "output_type": "execute_result"
    }
   ],
   "source": [
    "df_kendaraan_test = df_kendaraan_test.loc[(df_kendaraan_test['Premi'] > lowtest_bound['Premi']) & (df_kendaraan_test['Premi'] < uppertest_bound['Premi'])]\n",
    "df_kendaraan_test.shape"
   ]
  },
  {
   "cell_type": "markdown",
   "metadata": {},
   "source": [
    "# CLASSIFICATION WITH GAUSSIAN NB"
   ]
  },
  {
   "cell_type": "code",
   "execution_count": 68,
   "metadata": {},
   "outputs": [],
   "source": [
    "data_train_x = df_kendaraan_train[['Umur','SIM','Kode_Daerah','Premi','Lama_Berlangganan']].copy()\n",
    "data_train_y = df_kendaraan_train['Tertarik'].copy()\n",
    "data_test_x = df_kendaraan_test[['Umur','SIM','Kode_Daerah','Premi','Lama_Berlangganan']].copy()\n",
    "data_test_y = df_kendaraan_test['Tertarik'].copy()"
   ]
  },
  {
   "cell_type": "code",
   "execution_count": 69,
   "metadata": {},
   "outputs": [],
   "source": [
    "data_train_x = data_train_x.to_numpy()\n",
    "data_train_y = data_train_y.to_numpy()\n",
    "data_test_x = data_test_x.to_numpy()\n",
    "data_test_y = data_test_y.to_numpy()"
   ]
  },
  {
   "cell_type": "code",
   "execution_count": 70,
   "metadata": {},
   "outputs": [
    {
     "data": {
      "text/plain": [
       "GaussianNB()"
      ]
     },
     "execution_count": 70,
     "metadata": {},
     "output_type": "execute_result"
    }
   ],
   "source": [
    "classifier = GaussianNB()\n",
    "classifier.fit(data_train_x.astype(int),data_train_y.astype(int))"
   ]
  },
  {
   "cell_type": "code",
   "execution_count": 84,
   "metadata": {},
   "outputs": [],
   "source": [
    "y_train_pred = classifier.predict(data_train_x)"
   ]
  },
  {
   "cell_type": "code",
   "execution_count": 71,
   "metadata": {},
   "outputs": [],
   "source": [
    "y_pred = classifier.predict(data_test_x)"
   ]
  },
  {
   "cell_type": "code",
   "execution_count": 85,
   "metadata": {},
   "outputs": [
    {
     "name": "stdout",
     "output_type": "stream",
     "text": [
      "87.60837148009432\n"
     ]
    }
   ],
   "source": [
    "model_acc = accuracy_score(data_train_y.astype(int),y_train_pred)\n",
    "print(model_acc*100)"
   ]
  },
  {
   "cell_type": "code",
   "execution_count": 72,
   "metadata": {},
   "outputs": [
    {
     "name": "stdout",
     "output_type": "stream",
     "text": [
      "75.82235068268588\n"
     ]
    }
   ],
   "source": [
    "acc = accuracy_score(data_test_y.astype(int), y_pred)\n",
    "print(acc*100)"
   ]
  },
  {
   "cell_type": "markdown",
   "metadata": {},
   "source": [
    "#  CLASSIFICATION WITH DECISION TREE"
   ]
  },
  {
   "cell_type": "code",
   "execution_count": 78,
   "metadata": {},
   "outputs": [],
   "source": [
    "from sklearn.tree import DecisionTreeClassifier \n",
    "from sklearn.model_selection import cross_val_score"
   ]
  },
  {
   "cell_type": "code",
   "execution_count": 79,
   "metadata": {},
   "outputs": [
    {
     "data": {
      "text/plain": [
       "DecisionTreeClassifier(max_depth=7)"
      ]
     },
     "execution_count": 79,
     "metadata": {},
     "output_type": "execute_result"
    }
   ],
   "source": [
    "classifier = DecisionTreeClassifier(max_depth=7)\n",
    "classifier.fit(data_train_x.astype(int),data_train_y.astype(int))"
   ]
  },
  {
   "cell_type": "code",
   "execution_count": 80,
   "metadata": {},
   "outputs": [],
   "source": [
    "y_pred = classifier.predict(data_test_x)"
   ]
  },
  {
   "cell_type": "code",
   "execution_count": 86,
   "metadata": {},
   "outputs": [],
   "source": [
    "y_train_pred = classifier.predict(data_train_x)"
   ]
  },
  {
   "cell_type": "code",
   "execution_count": 87,
   "metadata": {},
   "outputs": [
    {
     "name": "stdout",
     "output_type": "stream",
     "text": [
      "87.60837148009432\n"
     ]
    }
   ],
   "source": [
    "model_acc = accuracy_score(data_train_y.astype(int), y_train_pred)\n",
    "print(model_acc*100)"
   ]
  },
  {
   "cell_type": "code",
   "execution_count": 81,
   "metadata": {},
   "outputs": [
    {
     "name": "stdout",
     "output_type": "stream",
     "text": [
      "87.22848946312634\n"
     ]
    }
   ],
   "source": [
    "acc = accuracy_score(data_test_y.astype(int), y_pred)\n",
    "print(acc*100)"
   ]
  }
 ],
 "metadata": {
  "kernelspec": {
   "display_name": "Python 3.7.4 64-bit",
   "language": "python",
   "name": "python37464bit49514346a36c4cf48224e1074a669562"
  },
  "language_info": {
   "codemirror_mode": {
    "name": "ipython",
    "version": 3
   },
   "file_extension": ".py",
   "mimetype": "text/x-python",
   "name": "python",
   "nbconvert_exporter": "python",
   "pygments_lexer": "ipython3",
   "version": "3.7.4"
  }
 },
 "nbformat": 4,
 "nbformat_minor": 4
}
