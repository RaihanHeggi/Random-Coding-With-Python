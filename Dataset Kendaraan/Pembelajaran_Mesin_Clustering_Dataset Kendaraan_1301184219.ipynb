{
 "cells": [
  {
   "cell_type": "code",
   "execution_count": 1,
   "metadata": {},
   "outputs": [],
   "source": [
    "import pandas as pd \n",
    "import random as rd\n",
    "import numpy as np \n",
    "import matplotlib.pyplot as plt \n",
    "import seaborn as sn \n",
    "import math"
   ]
  },
  {
   "cell_type": "code",
   "execution_count": 2,
   "metadata": {},
   "outputs": [
    {
     "data": {
      "text/html": [
       "<div>\n",
       "<style scoped>\n",
       "    .dataframe tbody tr th:only-of-type {\n",
       "        vertical-align: middle;\n",
       "    }\n",
       "\n",
       "    .dataframe tbody tr th {\n",
       "        vertical-align: top;\n",
       "    }\n",
       "\n",
       "    .dataframe thead th {\n",
       "        text-align: right;\n",
       "    }\n",
       "</style>\n",
       "<table border=\"1\" class=\"dataframe\">\n",
       "  <thead>\n",
       "    <tr style=\"text-align: right;\">\n",
       "      <th></th>\n",
       "      <th>id</th>\n",
       "      <th>Jenis_Kelamin</th>\n",
       "      <th>Umur</th>\n",
       "      <th>SIM</th>\n",
       "      <th>Kode_Daerah</th>\n",
       "      <th>Sudah_Asuransi</th>\n",
       "      <th>Umur_Kendaraan</th>\n",
       "      <th>Kendaraan_Rusak</th>\n",
       "      <th>Premi</th>\n",
       "      <th>Kanal_Penjualan</th>\n",
       "      <th>Lama_Berlangganan</th>\n",
       "      <th>Tertarik</th>\n",
       "    </tr>\n",
       "  </thead>\n",
       "  <tbody>\n",
       "    <tr>\n",
       "      <th>0</th>\n",
       "      <td>1</td>\n",
       "      <td>Wanita</td>\n",
       "      <td>30.0</td>\n",
       "      <td>1.0</td>\n",
       "      <td>33.0</td>\n",
       "      <td>1.0</td>\n",
       "      <td>&lt; 1 Tahun</td>\n",
       "      <td>Tidak</td>\n",
       "      <td>28029.0</td>\n",
       "      <td>152.0</td>\n",
       "      <td>97.0</td>\n",
       "      <td>0</td>\n",
       "    </tr>\n",
       "    <tr>\n",
       "      <th>1</th>\n",
       "      <td>2</td>\n",
       "      <td>Pria</td>\n",
       "      <td>48.0</td>\n",
       "      <td>1.0</td>\n",
       "      <td>39.0</td>\n",
       "      <td>0.0</td>\n",
       "      <td>&gt; 2 Tahun</td>\n",
       "      <td>Pernah</td>\n",
       "      <td>25800.0</td>\n",
       "      <td>29.0</td>\n",
       "      <td>158.0</td>\n",
       "      <td>0</td>\n",
       "    </tr>\n",
       "    <tr>\n",
       "      <th>2</th>\n",
       "      <td>3</td>\n",
       "      <td>NaN</td>\n",
       "      <td>21.0</td>\n",
       "      <td>1.0</td>\n",
       "      <td>46.0</td>\n",
       "      <td>1.0</td>\n",
       "      <td>&lt; 1 Tahun</td>\n",
       "      <td>Tidak</td>\n",
       "      <td>32733.0</td>\n",
       "      <td>160.0</td>\n",
       "      <td>119.0</td>\n",
       "      <td>0</td>\n",
       "    </tr>\n",
       "    <tr>\n",
       "      <th>3</th>\n",
       "      <td>4</td>\n",
       "      <td>Wanita</td>\n",
       "      <td>58.0</td>\n",
       "      <td>1.0</td>\n",
       "      <td>48.0</td>\n",
       "      <td>0.0</td>\n",
       "      <td>1-2 Tahun</td>\n",
       "      <td>Tidak</td>\n",
       "      <td>2630.0</td>\n",
       "      <td>124.0</td>\n",
       "      <td>63.0</td>\n",
       "      <td>0</td>\n",
       "    </tr>\n",
       "    <tr>\n",
       "      <th>4</th>\n",
       "      <td>5</td>\n",
       "      <td>Pria</td>\n",
       "      <td>50.0</td>\n",
       "      <td>1.0</td>\n",
       "      <td>35.0</td>\n",
       "      <td>0.0</td>\n",
       "      <td>&gt; 2 Tahun</td>\n",
       "      <td>NaN</td>\n",
       "      <td>34857.0</td>\n",
       "      <td>88.0</td>\n",
       "      <td>194.0</td>\n",
       "      <td>0</td>\n",
       "    </tr>\n",
       "  </tbody>\n",
       "</table>\n",
       "</div>"
      ],
      "text/plain": [
       "   id Jenis_Kelamin  Umur  SIM  Kode_Daerah  Sudah_Asuransi Umur_Kendaraan  \\\n",
       "0   1        Wanita  30.0  1.0         33.0             1.0      < 1 Tahun   \n",
       "1   2          Pria  48.0  1.0         39.0             0.0      > 2 Tahun   \n",
       "2   3           NaN  21.0  1.0         46.0             1.0      < 1 Tahun   \n",
       "3   4        Wanita  58.0  1.0         48.0             0.0      1-2 Tahun   \n",
       "4   5          Pria  50.0  1.0         35.0             0.0      > 2 Tahun   \n",
       "\n",
       "  Kendaraan_Rusak    Premi  Kanal_Penjualan  Lama_Berlangganan  Tertarik  \n",
       "0           Tidak  28029.0            152.0               97.0         0  \n",
       "1          Pernah  25800.0             29.0              158.0         0  \n",
       "2           Tidak  32733.0            160.0              119.0         0  \n",
       "3           Tidak   2630.0            124.0               63.0         0  \n",
       "4             NaN  34857.0             88.0              194.0         0  "
      ]
     },
     "execution_count": 2,
     "metadata": {},
     "output_type": "execute_result"
    }
   ],
   "source": [
    "df_kendaraan_train = pd.read_csv('kendaraan_train.csv')\n",
    "df_kendaraan_train.head()"
   ]
  },
  {
   "cell_type": "code",
   "execution_count": 3,
   "metadata": {},
   "outputs": [
    {
     "data": {
      "text/html": [
       "<div>\n",
       "<style scoped>\n",
       "    .dataframe tbody tr th:only-of-type {\n",
       "        vertical-align: middle;\n",
       "    }\n",
       "\n",
       "    .dataframe tbody tr th {\n",
       "        vertical-align: top;\n",
       "    }\n",
       "\n",
       "    .dataframe thead th {\n",
       "        text-align: right;\n",
       "    }\n",
       "</style>\n",
       "<table border=\"1\" class=\"dataframe\">\n",
       "  <thead>\n",
       "    <tr style=\"text-align: right;\">\n",
       "      <th></th>\n",
       "      <th>Jenis_Kelamin</th>\n",
       "      <th>Umur</th>\n",
       "      <th>SIM</th>\n",
       "      <th>Kode_Daerah</th>\n",
       "      <th>Sudah_Asuransi</th>\n",
       "      <th>Umur_Kendaraan</th>\n",
       "      <th>Kendaraan_Rusak</th>\n",
       "      <th>Premi</th>\n",
       "      <th>Kanal_Penjualan</th>\n",
       "      <th>Lama_Berlangganan</th>\n",
       "      <th>Tertarik</th>\n",
       "    </tr>\n",
       "  </thead>\n",
       "  <tbody>\n",
       "    <tr>\n",
       "      <th>0</th>\n",
       "      <td>Wanita</td>\n",
       "      <td>49</td>\n",
       "      <td>1</td>\n",
       "      <td>8</td>\n",
       "      <td>0</td>\n",
       "      <td>1-2 Tahun</td>\n",
       "      <td>Pernah</td>\n",
       "      <td>46963</td>\n",
       "      <td>26</td>\n",
       "      <td>145</td>\n",
       "      <td>0</td>\n",
       "    </tr>\n",
       "    <tr>\n",
       "      <th>1</th>\n",
       "      <td>Pria</td>\n",
       "      <td>22</td>\n",
       "      <td>1</td>\n",
       "      <td>47</td>\n",
       "      <td>1</td>\n",
       "      <td>&lt; 1 Tahun</td>\n",
       "      <td>Tidak</td>\n",
       "      <td>39624</td>\n",
       "      <td>152</td>\n",
       "      <td>241</td>\n",
       "      <td>0</td>\n",
       "    </tr>\n",
       "    <tr>\n",
       "      <th>2</th>\n",
       "      <td>Pria</td>\n",
       "      <td>24</td>\n",
       "      <td>1</td>\n",
       "      <td>28</td>\n",
       "      <td>1</td>\n",
       "      <td>&lt; 1 Tahun</td>\n",
       "      <td>Tidak</td>\n",
       "      <td>110479</td>\n",
       "      <td>152</td>\n",
       "      <td>62</td>\n",
       "      <td>0</td>\n",
       "    </tr>\n",
       "    <tr>\n",
       "      <th>3</th>\n",
       "      <td>Pria</td>\n",
       "      <td>46</td>\n",
       "      <td>1</td>\n",
       "      <td>8</td>\n",
       "      <td>1</td>\n",
       "      <td>1-2 Tahun</td>\n",
       "      <td>Tidak</td>\n",
       "      <td>36266</td>\n",
       "      <td>124</td>\n",
       "      <td>34</td>\n",
       "      <td>0</td>\n",
       "    </tr>\n",
       "    <tr>\n",
       "      <th>4</th>\n",
       "      <td>Pria</td>\n",
       "      <td>35</td>\n",
       "      <td>1</td>\n",
       "      <td>23</td>\n",
       "      <td>0</td>\n",
       "      <td>1-2 Tahun</td>\n",
       "      <td>Pernah</td>\n",
       "      <td>26963</td>\n",
       "      <td>152</td>\n",
       "      <td>229</td>\n",
       "      <td>0</td>\n",
       "    </tr>\n",
       "  </tbody>\n",
       "</table>\n",
       "</div>"
      ],
      "text/plain": [
       "  Jenis_Kelamin  Umur  SIM  Kode_Daerah  Sudah_Asuransi Umur_Kendaraan  \\\n",
       "0        Wanita    49    1            8               0      1-2 Tahun   \n",
       "1          Pria    22    1           47               1      < 1 Tahun   \n",
       "2          Pria    24    1           28               1      < 1 Tahun   \n",
       "3          Pria    46    1            8               1      1-2 Tahun   \n",
       "4          Pria    35    1           23               0      1-2 Tahun   \n",
       "\n",
       "  Kendaraan_Rusak   Premi  Kanal_Penjualan  Lama_Berlangganan  Tertarik  \n",
       "0          Pernah   46963               26                145         0  \n",
       "1           Tidak   39624              152                241         0  \n",
       "2           Tidak  110479              152                 62         0  \n",
       "3           Tidak   36266              124                 34         0  \n",
       "4          Pernah   26963              152                229         0  "
      ]
     },
     "execution_count": 3,
     "metadata": {},
     "output_type": "execute_result"
    }
   ],
   "source": [
    "df_kendaraan_test = pd.read_csv('kendaraan_test.csv')\n",
    "df_kendaraan_test.head()"
   ]
  },
  {
   "cell_type": "markdown",
   "metadata": {},
   "source": [
    "# Analisis Data dan Preprocessing Data"
   ]
  },
  {
   "cell_type": "markdown",
   "metadata": {},
   "source": [
    "**Check Shape Dari Data**"
   ]
  },
  {
   "cell_type": "code",
   "execution_count": 4,
   "metadata": {},
   "outputs": [
    {
     "data": {
      "text/plain": [
       "(285831, 12)"
      ]
     },
     "execution_count": 4,
     "metadata": {},
     "output_type": "execute_result"
    }
   ],
   "source": [
    "df_kendaraan_train.shape"
   ]
  },
  {
   "cell_type": "code",
   "execution_count": 5,
   "metadata": {},
   "outputs": [
    {
     "data": {
      "text/plain": [
       "(47639, 11)"
      ]
     },
     "execution_count": 5,
     "metadata": {},
     "output_type": "execute_result"
    }
   ],
   "source": [
    "df_kendaraan_test.shape"
   ]
  },
  {
   "cell_type": "markdown",
   "metadata": {},
   "source": [
    "**Check nilai missing value**"
   ]
  },
  {
   "cell_type": "code",
   "execution_count": 6,
   "metadata": {},
   "outputs": [
    {
     "data": {
      "text/plain": [
       "id                       0\n",
       "Jenis_Kelamin        14440\n",
       "Umur                 14214\n",
       "SIM                  14404\n",
       "Kode_Daerah          14306\n",
       "Sudah_Asuransi       14229\n",
       "Umur_Kendaraan       14275\n",
       "Kendaraan_Rusak      14188\n",
       "Premi                14569\n",
       "Kanal_Penjualan      14299\n",
       "Lama_Berlangganan    13992\n",
       "Tertarik                 0\n",
       "dtype: int64"
      ]
     },
     "execution_count": 6,
     "metadata": {},
     "output_type": "execute_result"
    }
   ],
   "source": [
    "df_kendaraan_train.isnull().sum()"
   ]
  },
  {
   "cell_type": "code",
   "execution_count": 7,
   "metadata": {},
   "outputs": [
    {
     "data": {
      "text/plain": [
       "Jenis_Kelamin        0\n",
       "Umur                 0\n",
       "SIM                  0\n",
       "Kode_Daerah          0\n",
       "Sudah_Asuransi       0\n",
       "Umur_Kendaraan       0\n",
       "Kendaraan_Rusak      0\n",
       "Premi                0\n",
       "Kanal_Penjualan      0\n",
       "Lama_Berlangganan    0\n",
       "Tertarik             0\n",
       "dtype: int64"
      ]
     },
     "execution_count": 7,
     "metadata": {},
     "output_type": "execute_result"
    }
   ],
   "source": [
    "df_kendaraan_test.isnull().sum()"
   ]
  },
  {
   "cell_type": "markdown",
   "metadata": {},
   "source": [
    "**Check Info dari Dataset**"
   ]
  },
  {
   "cell_type": "code",
   "execution_count": 8,
   "metadata": {},
   "outputs": [
    {
     "name": "stdout",
     "output_type": "stream",
     "text": [
      "<class 'pandas.core.frame.DataFrame'>\n",
      "RangeIndex: 285831 entries, 0 to 285830\n",
      "Data columns (total 12 columns):\n",
      " #   Column             Non-Null Count   Dtype  \n",
      "---  ------             --------------   -----  \n",
      " 0   id                 285831 non-null  int64  \n",
      " 1   Jenis_Kelamin      271391 non-null  object \n",
      " 2   Umur               271617 non-null  float64\n",
      " 3   SIM                271427 non-null  float64\n",
      " 4   Kode_Daerah        271525 non-null  float64\n",
      " 5   Sudah_Asuransi     271602 non-null  float64\n",
      " 6   Umur_Kendaraan     271556 non-null  object \n",
      " 7   Kendaraan_Rusak    271643 non-null  object \n",
      " 8   Premi              271262 non-null  float64\n",
      " 9   Kanal_Penjualan    271532 non-null  float64\n",
      " 10  Lama_Berlangganan  271839 non-null  float64\n",
      " 11  Tertarik           285831 non-null  int64  \n",
      "dtypes: float64(7), int64(2), object(3)\n",
      "memory usage: 26.2+ MB\n"
     ]
    }
   ],
   "source": [
    "df_kendaraan_train.info()"
   ]
  },
  {
   "cell_type": "code",
   "execution_count": 9,
   "metadata": {},
   "outputs": [
    {
     "name": "stdout",
     "output_type": "stream",
     "text": [
      "<class 'pandas.core.frame.DataFrame'>\n",
      "RangeIndex: 47639 entries, 0 to 47638\n",
      "Data columns (total 11 columns):\n",
      " #   Column             Non-Null Count  Dtype \n",
      "---  ------             --------------  ----- \n",
      " 0   Jenis_Kelamin      47639 non-null  object\n",
      " 1   Umur               47639 non-null  int64 \n",
      " 2   SIM                47639 non-null  int64 \n",
      " 3   Kode_Daerah        47639 non-null  int64 \n",
      " 4   Sudah_Asuransi     47639 non-null  int64 \n",
      " 5   Umur_Kendaraan     47639 non-null  object\n",
      " 6   Kendaraan_Rusak    47639 non-null  object\n",
      " 7   Premi              47639 non-null  int64 \n",
      " 8   Kanal_Penjualan    47639 non-null  int64 \n",
      " 9   Lama_Berlangganan  47639 non-null  int64 \n",
      " 10  Tertarik           47639 non-null  int64 \n",
      "dtypes: int64(8), object(3)\n",
      "memory usage: 4.0+ MB\n"
     ]
    }
   ],
   "source": [
    "df_kendaraan_test.info()"
   ]
  },
  {
   "cell_type": "markdown",
   "metadata": {},
   "source": [
    "**Duplicate Value**"
   ]
  },
  {
   "cell_type": "code",
   "execution_count": 10,
   "metadata": {},
   "outputs": [
    {
     "data": {
      "text/plain": [
       "0"
      ]
     },
     "execution_count": 10,
     "metadata": {},
     "output_type": "execute_result"
    }
   ],
   "source": [
    "df_kendaraan_train.duplicated().sum()"
   ]
  },
  {
   "cell_type": "code",
   "execution_count": 11,
   "metadata": {},
   "outputs": [
    {
     "data": {
      "text/plain": [
       "3"
      ]
     },
     "execution_count": 11,
     "metadata": {},
     "output_type": "execute_result"
    }
   ],
   "source": [
    "df_kendaraan_test.duplicated().sum()"
   ]
  },
  {
   "cell_type": "markdown",
   "metadata": {},
   "source": [
    "**Impute Missing Value**"
   ]
  },
  {
   "cell_type": "code",
   "execution_count": 12,
   "metadata": {},
   "outputs": [],
   "source": [
    "df_kendaraan_train['Jenis_Kelamin'].fillna(df_kendaraan_train['Jenis_Kelamin'].mode().iloc[0], inplace=True)\n",
    "df_kendaraan_train['Umur_Kendaraan'].fillna(df_kendaraan_train['Umur_Kendaraan'].mode().iloc[0], inplace=True)\n",
    "df_kendaraan_train['Kendaraan_Rusak'].fillna(df_kendaraan_train['Kendaraan_Rusak'].mode().iloc[0], inplace=True)"
   ]
  },
  {
   "cell_type": "code",
   "execution_count": 13,
   "metadata": {},
   "outputs": [],
   "source": [
    "df_kendaraan_train['Umur'].fillna(df_kendaraan_train['Umur'].mean(), inplace=True)\n",
    "df_kendaraan_train['SIM'].fillna(df_kendaraan_train['SIM'].mean(), inplace=True)\n",
    "df_kendaraan_train['Kode_Daerah'].fillna(df_kendaraan_train['Kode_Daerah'].mean(), inplace=True)\n",
    "df_kendaraan_train['Sudah_Asuransi'].fillna(df_kendaraan_train['Sudah_Asuransi'].mean(), inplace=True)\n",
    "df_kendaraan_train['Premi'].fillna(df_kendaraan_train['Premi'].mean(), inplace=True)\n",
    "df_kendaraan_train['Kanal_Penjualan'].fillna(df_kendaraan_train['Kanal_Penjualan'].mean(), inplace=True)\n",
    "df_kendaraan_train['Lama_Berlangganan'].fillna(df_kendaraan_train['Lama_Berlangganan'].mean(), inplace=True)"
   ]
  },
  {
   "cell_type": "code",
   "execution_count": 14,
   "metadata": {},
   "outputs": [
    {
     "data": {
      "text/plain": [
       "id                   0\n",
       "Jenis_Kelamin        0\n",
       "Umur                 0\n",
       "SIM                  0\n",
       "Kode_Daerah          0\n",
       "Sudah_Asuransi       0\n",
       "Umur_Kendaraan       0\n",
       "Kendaraan_Rusak      0\n",
       "Premi                0\n",
       "Kanal_Penjualan      0\n",
       "Lama_Berlangganan    0\n",
       "Tertarik             0\n",
       "dtype: int64"
      ]
     },
     "execution_count": 14,
     "metadata": {},
     "output_type": "execute_result"
    }
   ],
   "source": [
    "df_kendaraan_train.isnull().sum()"
   ]
  },
  {
   "cell_type": "markdown",
   "metadata": {},
   "source": [
    "**Handling Duplicate Value**"
   ]
  },
  {
   "cell_type": "code",
   "execution_count": 15,
   "metadata": {},
   "outputs": [],
   "source": [
    "df_kendaraan_train.drop_duplicates(keep=False,inplace=True)\n",
    "df_kendaraan_test.drop_duplicates(keep=False,inplace=True)"
   ]
  },
  {
   "cell_type": "code",
   "execution_count": 16,
   "metadata": {},
   "outputs": [
    {
     "data": {
      "text/plain": [
       "0"
      ]
     },
     "execution_count": 16,
     "metadata": {},
     "output_type": "execute_result"
    }
   ],
   "source": [
    "df_kendaraan_test.duplicated().sum()"
   ]
  },
  {
   "cell_type": "code",
   "execution_count": 17,
   "metadata": {},
   "outputs": [
    {
     "data": {
      "text/plain": [
       "0"
      ]
     },
     "execution_count": 17,
     "metadata": {},
     "output_type": "execute_result"
    }
   ],
   "source": [
    "df_kendaraan_train.duplicated().sum()"
   ]
  },
  {
   "cell_type": "markdown",
   "metadata": {},
   "source": [
    "# CLUSTERING"
   ]
  },
  {
   "cell_type": "markdown",
   "metadata": {},
   "source": [
    "**Seleksi Atribut Yang Dibutuhkan**"
   ]
  },
  {
   "cell_type": "markdown",
   "metadata": {},
   "source": [
    "** Untuk Kegiatan Clustering Saya Akan Memilih Cluster Antara Umur dan Ketertarikan Membeli"
   ]
  },
  {
   "cell_type": "code",
   "execution_count": 18,
   "metadata": {},
   "outputs": [],
   "source": [
    "df_train_cluster = df_kendaraan_train[['Umur','Tertarik']]\n",
    "df_test_cluster = df_kendaraan_test[['Umur','Tertarik']]"
   ]
  },
  {
   "cell_type": "code",
   "execution_count": 19,
   "metadata": {},
   "outputs": [
    {
     "data": {
      "image/png": "[encoded data removed]",
      "text/plain": [
       "<Figure size 720x720 with 1 Axes>"
      ]
     },
     "metadata": {
      "needs_background": "light"
     },
     "output_type": "display_data"
    }
   ],
   "source": [
    "fig = plt.figure(figsize=(10,10))\n",
    "plt.scatter(x=df_train_cluster['Umur'],y=df_train_cluster['Tertarik'], color=\"black\")\n",
    "plt.show()"
   ]
  },
  {
   "cell_type": "markdown",
   "metadata": {},
   "source": [
    "** Pilih Random Banyaknya Centroids"
   ]
  },
  {
   "cell_type": "code",
   "execution_count": 20,
   "metadata": {},
   "outputs": [],
   "source": [
    "K = 3"
   ]
  },
  {
   "cell_type": "markdown",
   "metadata": {},
   "source": [
    "** Check Nilai Max Tiap Kolom "
   ]
  },
  {
   "cell_type": "code",
   "execution_count": 21,
   "metadata": {},
   "outputs": [],
   "source": [
    "maxUmur_train = max(df_train_cluster['Umur'])\n",
    "minUmur_train = min(df_train_cluster['Umur'])\n",
    "maxUmur_test = max(df_test_cluster['Umur'])\n",
    "minUmur_test = min(df_test_cluster['Umur'])"
   ]
  },
  {
   "cell_type": "code",
   "execution_count": 22,
   "metadata": {},
   "outputs": [],
   "source": [
    "maxTertarik_train = max(df_train_cluster['Tertarik'])\n",
    "minTertarik_train = min(df_train_cluster['Tertarik'])\n",
    "maxTertarik_test = max(df_test_cluster['Tertarik'])\n",
    "minTertarik_test = min(df_test_cluster['Tertarik'])"
   ]
  },
  {
   "cell_type": "markdown",
   "metadata": {},
   "source": [
    "** Buat List Centroids"
   ]
  },
  {
   "cell_type": "code",
   "execution_count": 23,
   "metadata": {},
   "outputs": [],
   "source": [
    "LX_train = []\n",
    "LY_train = []\n",
    "LXY_train = []\n",
    "LX_test = []\n",
    "LY_test = []\n",
    "LXY_test = []"
   ]
  },
  {
   "cell_type": "code",
   "execution_count": 24,
   "metadata": {},
   "outputs": [],
   "source": [
    "for i in range(K):\n",
    "    xrand_train = rd.randint(minUmur_train,maxUmur_train)\n",
    "    yrand_train = rd.randint(minTertarik_train, maxTertarik_train)\n",
    "    xrand_test = rd.randint(minUmur_test,maxUmur_test)\n",
    "    yrand_test = rd.randint(minTertarik_test, maxTertarik_test)\n",
    "    LX_train.append(xrand_train)\n",
    "    LX_test.append(xrand_test)\n",
    "    LY_train.append(yrand_train)\n",
    "    LY_test.append(yrand_test)\n",
    "LXY_train.append(LX_train)\n",
    "LXY_train.append(LY_train)\n",
    "LXY_test.append(LX_test)\n",
    "LXY_test.append(LY_test)"
   ]
  },
  {
   "cell_type": "code",
   "execution_count": 25,
   "metadata": {},
   "outputs": [
    {
     "name": "stdout",
     "output_type": "stream",
     "text": [
      "[[59, 37, 37], [0, 1, 0]]\n"
     ]
    }
   ],
   "source": [
    "print(LXY_train)"
   ]
  },
  {
   "cell_type": "code",
   "execution_count": 26,
   "metadata": {},
   "outputs": [
    {
     "name": "stdout",
     "output_type": "stream",
     "text": [
      "[[61, 22, 71], [1, 0, 0]]\n"
     ]
    }
   ],
   "source": [
    "print(LXY_test)"
   ]
  },
  {
   "cell_type": "markdown",
   "metadata": {},
   "source": [
    "** Visualisasikan Centroids"
   ]
  },
  {
   "cell_type": "code",
   "execution_count": 27,
   "metadata": {},
   "outputs": [
    {
     "data": {
      "image/png": "[encoded data removed]",
      "text/plain": [
       "<Figure size 720x720 with 1 Axes>"
      ]
     },
     "metadata": {
      "needs_background": "light"
     },
     "output_type": "display_data"
    }
   ],
   "source": [
    "fig = plt.figure(figsize=(10,10))\n",
    "plt.scatter(df_train_cluster['Umur'],df_train_cluster['Tertarik'], color=\"black\")\n",
    "plt.scatter(LXY_train[0],LXY_train[1], color=\"red\")\n",
    "plt.show()"
   ]
  },
  {
   "cell_type": "code",
   "execution_count": 28,
   "metadata": {},
   "outputs": [
    {
     "data": {
      "image/png": "[encoded data removed]",
      "text/plain": [
       "<Figure size 720x720 with 1 Axes>"
      ]
     },
     "metadata": {
      "needs_background": "light"
     },
     "output_type": "display_data"
    }
   ],
   "source": [
    "fig = plt.figure(figsize=(10,10))\n",
    "plt.scatter(df_test_cluster['Umur'],df_test_cluster['Tertarik'], color=\"black\")\n",
    "plt.scatter(LXY_test[0],LXY_test[1], color=\"red\")\n",
    "plt.show()"
   ]
  },
  {
   "cell_type": "markdown",
   "metadata": {},
   "source": [
    "** Buat Array Kosong Untuk Menampung Cluster "
   ]
  },
  {
   "cell_type": "code",
   "execution_count": 29,
   "metadata": {},
   "outputs": [],
   "source": [
    "clust_1_train = []\n",
    "clust_2_train = []\n",
    "clust_3_train = []\n",
    "clust_1_test = []\n",
    "clust_2_test = []\n",
    "clust_3_test = []"
   ]
  },
  {
   "cell_type": "code",
   "execution_count": 30,
   "metadata": {},
   "outputs": [],
   "source": [
    "panjangTrainData = len(df_train_cluster.to_numpy())\n",
    "panjangTestData = len(df_test_cluster.to_numpy())"
   ]
  },
  {
   "cell_type": "code",
   "execution_count": 31,
   "metadata": {},
   "outputs": [],
   "source": [
    "df_train_cluster = df_train_cluster.astype(float)\n",
    "df_test_cluster = df_test_cluster.astype(float)"
   ]
  },
  {
   "cell_type": "markdown",
   "metadata": {},
   "source": [
    "**Hitung Jarak Antar Cluster dan Centroids**"
   ]
  },
  {
   "cell_type": "markdown",
   "metadata": {},
   "source": [
    "** Hitung Dengan Menggunakan Perhitungan Jarak Euclidean "
   ]
  },
  {
   "cell_type": "code",
   "execution_count": 32,
   "metadata": {},
   "outputs": [],
   "source": [
    "for i in range(panjangTrainData):\n",
    "    formula_1 = math.sqrt((df_train_cluster['Umur'][i]-LXY_train[0][0])**2+(df_train_cluster['Tertarik'][i]-LXY_train[1][0])**2)\n",
    "    formula_2 = math.sqrt((df_train_cluster['Umur'][i]-LXY_train[0][1])**2+(df_train_cluster['Tertarik'][i]-LXY_train[1][1])**2)\n",
    "    formula_3 = math.sqrt((df_train_cluster['Umur'][i]-LXY_train[0][2])**2+(df_train_cluster['Tertarik'][i]-LXY_train[1][2])**2)\n",
    "    clust_1_train.append(formula_1)\n",
    "    clust_2_train.append(formula_2)\n",
    "    clust_3_train.append(formula_3)"
   ]
  },
  {
   "cell_type": "code",
   "execution_count": 33,
   "metadata": {},
   "outputs": [],
   "source": [
    "for j in range(panjangTestData):\n",
    "    formula_1 = math.sqrt((df_test_cluster['Umur'].iloc[j]-LXY_test[0][0])**2+(df_test_cluster['Tertarik'].iloc[j]-LXY_test[1][0])**2)\n",
    "    formula_2 = math.sqrt((df_test_cluster['Umur'].iloc[j]-LXY_test[0][1])**2+(df_test_cluster['Tertarik'].iloc[j]-LXY_test[1][1])**2)\n",
    "    formula_3 = math.sqrt((df_test_cluster['Umur'].iloc[j]-LXY_test[0][2])**2+(df_test_cluster['Tertarik'].iloc[j]-LXY_test[1][2])**2)\n",
    "    clust_1_test.append(formula_1)\n",
    "    clust_2_test.append(formula_2)\n",
    "    clust_3_test.append(formula_3)"
   ]
  },
  {
   "cell_type": "markdown",
   "metadata": {},
   "source": [
    "**Clusterisasi Dekat Dengan Cluster Berapa**"
   ]
  },
  {
   "cell_type": "code",
   "execution_count": 34,
   "metadata": {},
   "outputs": [],
   "source": [
    "final_cluster = []\n",
    "c1_cluster = []\n",
    "c2_cluster = []\n",
    "c3_cluster = []"
   ]
  },
  {
   "cell_type": "code",
   "execution_count": 35,
   "metadata": {},
   "outputs": [],
   "source": [
    "for i in range(panjangTrainData):\n",
    "    if clust_1_train[i] > clust_2_train[i] and clust_1_train[i] > clust_3_train[i]:\n",
    "        final_cluster.append(1)\n",
    "        c1_cluster.append(i)\n",
    "    elif clust_2_train[i] > clust_1_train[i] and clust_2_train[i] > clust_3_train[i]:\n",
    "        final_cluster.append(2)\n",
    "        c2_cluster.append(i)\n",
    "    elif clust_3_train[i] > clust_1_train[i] and clust_3_train[i] > clust_2_train[i]:\n",
    "        final_cluster.append(3)\n",
    "        c3_cluster.append(i)"
   ]
  },
  {
   "cell_type": "code",
   "execution_count": 36,
   "metadata": {},
   "outputs": [
    {
     "data": {
      "image/png": "[encoded data removed]",
      "text/plain": [
       "<Figure size 360x360 with 1 Axes>"
      ]
     },
     "metadata": {
      "needs_background": "light"
     },
     "output_type": "display_data"
    }
   ],
   "source": [
    "fig = plt.figure(figsize=(5,5))\n",
    "#loop = len(final_cluster)\n",
    "loop = 30000\n",
    "for i in range(loop):\n",
    "    if final_cluster[i] == 1 :\n",
    "        plt.scatter(df_train_cluster['Umur'].iloc[i], df_train_cluster['Tertarik'].iloc[i], color = 'red')\n",
    "    elif final_cluster[i] == 2 :\n",
    "        plt.scatter(df_train_cluster['Umur'].iloc[i], df_train_cluster['Tertarik'].iloc[i], color = 'blue')\n",
    "    else:\n",
    "        plt.scatter(df_train_cluster['Umur'].iloc[i], df_train_cluster['Tertarik'].iloc[i], color = 'green')\n",
    "plt.show()"
   ]
  },
  {
   "cell_type": "code",
   "execution_count": 37,
   "metadata": {},
   "outputs": [],
   "source": [
    "def meanCentroids(listCluster, datasetFile):\n",
    "    itx = 0\n",
    "    ity = 0\n",
    "    updatec = []\n",
    "    for i in range(len(listCluster)):\n",
    "        index = int(listCluster[i])\n",
    "        itx = itx + datasetFile.iloc[listCluster[i], 0]\n",
    "        ity = ity + datasetFile.iloc[listCluster[i], 1]\n",
    "    if itx == 0  or ity == 0:\n",
    "        updatec.append(0)\n",
    "        updatec.append(0)\n",
    "    else : \n",
    "        sumx = itx/len(listCluster)\n",
    "        sumy = ity/len(listCluster)\n",
    "        updatec.append(sumx)\n",
    "        updatec.append(sumy)\n",
    "    return updatec"
   ]
  },
  {
   "cell_type": "markdown",
   "metadata": {},
   "source": [
    "**CLUSTER KE N**"
   ]
  },
  {
   "cell_type": "code",
   "execution_count": 39,
   "metadata": {
    "scrolled": true
   },
   "outputs": [
    {
     "ename": "ValueError",
     "evalue": "Location based indexing can only have [integer, integer slice (START point is INCLUDED, END point is EXCLUDED), listlike of integers, boolean array] types",
     "output_type": "error",
     "traceback": [
      "\u001b[1;31m---------------------------------------------------------------------------\u001b[0m",
      "\u001b[1;31mValueError\u001b[0m                                Traceback (most recent call last)",
      "\u001b[1;32m~\\AppData\\Local\\Programs\\Python\\Python37\\lib\\site-packages\\pandas\\core\\indexing.py\u001b[0m in \u001b[0;36m_has_valid_tuple\u001b[1;34m(self, key)\u001b[0m\n\u001b[0;32m    702\u001b[0m             \u001b[1;32mtry\u001b[0m\u001b[1;33m:\u001b[0m\u001b[1;33m\u001b[0m\u001b[1;33m\u001b[0m\u001b[0m\n\u001b[1;32m--> 703\u001b[1;33m                 \u001b[0mself\u001b[0m\u001b[1;33m.\u001b[0m\u001b[0m_validate_key\u001b[0m\u001b[1;33m(\u001b[0m\u001b[0mk\u001b[0m\u001b[1;33m,\u001b[0m \u001b[0mi\u001b[0m\u001b[1;33m)\u001b[0m\u001b[1;33m\u001b[0m\u001b[1;33m\u001b[0m\u001b[0m\n\u001b[0m\u001b[0;32m    704\u001b[0m             \u001b[1;32mexcept\u001b[0m \u001b[0mValueError\u001b[0m\u001b[1;33m:\u001b[0m\u001b[1;33m\u001b[0m\u001b[1;33m\u001b[0m\u001b[0m\n",
      "\u001b[1;32m~\\AppData\\Local\\Programs\\Python\\Python37\\lib\\site-packages\\pandas\\core\\indexing.py\u001b[0m in \u001b[0;36m_validate_key\u001b[1;34m(self, key, axis)\u001b[0m\n\u001b[0;32m   2010\u001b[0m         \u001b[1;32melse\u001b[0m\u001b[1;33m:\u001b[0m\u001b[1;33m\u001b[0m\u001b[1;33m\u001b[0m\u001b[0m\n\u001b[1;32m-> 2011\u001b[1;33m             \u001b[1;32mraise\u001b[0m \u001b[0mValueError\u001b[0m\u001b[1;33m(\u001b[0m\u001b[1;34mf\"Can only index by location with a [{self._valid_types}]\"\u001b[0m\u001b[1;33m)\u001b[0m\u001b[1;33m\u001b[0m\u001b[1;33m\u001b[0m\u001b[0m\n\u001b[0m\u001b[0;32m   2012\u001b[0m \u001b[1;33m\u001b[0m\u001b[0m\n",
      "\u001b[1;31mValueError\u001b[0m: Can only index by location with a [integer, integer slice (START point is INCLUDED, END point is EXCLUDED), listlike of integers, boolean array]",
      "\nDuring handling of the above exception, another exception occurred:\n",
      "\u001b[1;31mValueError\u001b[0m                                Traceback (most recent call last)",
      "\u001b[1;32m<ipython-input-39-3888e3173da4>\u001b[0m in \u001b[0;36m<module>\u001b[1;34m\u001b[0m\n\u001b[0;32m     20\u001b[0m         \u001b[0mnew_clust_3_train\u001b[0m \u001b[1;33m=\u001b[0m \u001b[1;33m[\u001b[0m\u001b[1;33m]\u001b[0m\u001b[1;33m\u001b[0m\u001b[1;33m\u001b[0m\u001b[0m\n\u001b[0;32m     21\u001b[0m \u001b[1;33m\u001b[0m\u001b[0m\n\u001b[1;32m---> 22\u001b[1;33m         \u001b[0mcentroids1_baru\u001b[0m \u001b[1;33m=\u001b[0m \u001b[0mmeanCentroids\u001b[0m\u001b[1;33m(\u001b[0m\u001b[0mclust_1_train\u001b[0m\u001b[1;33m,\u001b[0m \u001b[0mdf_train_cluster\u001b[0m\u001b[1;33m)\u001b[0m\u001b[1;33m\u001b[0m\u001b[1;33m\u001b[0m\u001b[0m\n\u001b[0m\u001b[0;32m     23\u001b[0m         \u001b[0mcentroids2_baru\u001b[0m \u001b[1;33m=\u001b[0m \u001b[0mmeanCentroids\u001b[0m\u001b[1;33m(\u001b[0m\u001b[0mclust_2_train\u001b[0m\u001b[1;33m,\u001b[0m \u001b[0mdf_train_cluster\u001b[0m\u001b[1;33m)\u001b[0m\u001b[1;33m\u001b[0m\u001b[1;33m\u001b[0m\u001b[0m\n\u001b[0;32m     24\u001b[0m         \u001b[0mcentroids3_baru\u001b[0m \u001b[1;33m=\u001b[0m \u001b[0mmeanCentroids\u001b[0m\u001b[1;33m(\u001b[0m\u001b[0mclust_3_train\u001b[0m\u001b[1;33m,\u001b[0m \u001b[0mdf_train_cluster\u001b[0m\u001b[1;33m)\u001b[0m\u001b[1;33m\u001b[0m\u001b[1;33m\u001b[0m\u001b[0m\n",
      "\u001b[1;32m<ipython-input-37-82599a65e188>\u001b[0m in \u001b[0;36mmeanCentroids\u001b[1;34m(listCluster, datasetFile)\u001b[0m\n\u001b[0;32m      5\u001b[0m     \u001b[1;32mfor\u001b[0m \u001b[0mi\u001b[0m \u001b[1;32min\u001b[0m \u001b[0mrange\u001b[0m\u001b[1;33m(\u001b[0m\u001b[0mlen\u001b[0m\u001b[1;33m(\u001b[0m\u001b[0mlistCluster\u001b[0m\u001b[1;33m)\u001b[0m\u001b[1;33m)\u001b[0m\u001b[1;33m:\u001b[0m\u001b[1;33m\u001b[0m\u001b[1;33m\u001b[0m\u001b[0m\n\u001b[0;32m      6\u001b[0m         \u001b[0mindex\u001b[0m \u001b[1;33m=\u001b[0m \u001b[0mint\u001b[0m\u001b[1;33m(\u001b[0m\u001b[0mlistCluster\u001b[0m\u001b[1;33m[\u001b[0m\u001b[0mi\u001b[0m\u001b[1;33m]\u001b[0m\u001b[1;33m)\u001b[0m\u001b[1;33m\u001b[0m\u001b[1;33m\u001b[0m\u001b[0m\n\u001b[1;32m----> 7\u001b[1;33m         \u001b[0mitx\u001b[0m \u001b[1;33m=\u001b[0m \u001b[0mitx\u001b[0m \u001b[1;33m+\u001b[0m \u001b[0mdatasetFile\u001b[0m\u001b[1;33m.\u001b[0m\u001b[0miloc\u001b[0m\u001b[1;33m[\u001b[0m\u001b[0mlistCluster\u001b[0m\u001b[1;33m[\u001b[0m\u001b[0mi\u001b[0m\u001b[1;33m]\u001b[0m\u001b[1;33m,\u001b[0m \u001b[1;36m0\u001b[0m\u001b[1;33m]\u001b[0m\u001b[1;33m\u001b[0m\u001b[1;33m\u001b[0m\u001b[0m\n\u001b[0m\u001b[0;32m      8\u001b[0m         \u001b[0mity\u001b[0m \u001b[1;33m=\u001b[0m \u001b[0mity\u001b[0m \u001b[1;33m+\u001b[0m \u001b[0mdatasetFile\u001b[0m\u001b[1;33m.\u001b[0m\u001b[0miloc\u001b[0m\u001b[1;33m[\u001b[0m\u001b[0mlistCluster\u001b[0m\u001b[1;33m[\u001b[0m\u001b[0mi\u001b[0m\u001b[1;33m]\u001b[0m\u001b[1;33m,\u001b[0m \u001b[1;36m1\u001b[0m\u001b[1;33m]\u001b[0m\u001b[1;33m\u001b[0m\u001b[1;33m\u001b[0m\u001b[0m\n\u001b[0;32m      9\u001b[0m     \u001b[1;32mif\u001b[0m \u001b[0mitx\u001b[0m \u001b[1;33m==\u001b[0m \u001b[1;36m0\u001b[0m  \u001b[1;32mor\u001b[0m \u001b[0mity\u001b[0m \u001b[1;33m==\u001b[0m \u001b[1;36m0\u001b[0m\u001b[1;33m:\u001b[0m\u001b[1;33m\u001b[0m\u001b[1;33m\u001b[0m\u001b[0m\n",
      "\u001b[1;32m~\\AppData\\Local\\Programs\\Python\\Python37\\lib\\site-packages\\pandas\\core\\indexing.py\u001b[0m in \u001b[0;36m__getitem__\u001b[1;34m(self, key)\u001b[0m\n\u001b[0;32m   1760\u001b[0m                 \u001b[1;32mexcept\u001b[0m \u001b[1;33m(\u001b[0m\u001b[0mKeyError\u001b[0m\u001b[1;33m,\u001b[0m \u001b[0mIndexError\u001b[0m\u001b[1;33m,\u001b[0m \u001b[0mAttributeError\u001b[0m\u001b[1;33m)\u001b[0m\u001b[1;33m:\u001b[0m\u001b[1;33m\u001b[0m\u001b[1;33m\u001b[0m\u001b[0m\n\u001b[0;32m   1761\u001b[0m                     \u001b[1;32mpass\u001b[0m\u001b[1;33m\u001b[0m\u001b[1;33m\u001b[0m\u001b[0m\n\u001b[1;32m-> 1762\u001b[1;33m             \u001b[1;32mreturn\u001b[0m \u001b[0mself\u001b[0m\u001b[1;33m.\u001b[0m\u001b[0m_getitem_tuple\u001b[0m\u001b[1;33m(\u001b[0m\u001b[0mkey\u001b[0m\u001b[1;33m)\u001b[0m\u001b[1;33m\u001b[0m\u001b[1;33m\u001b[0m\u001b[0m\n\u001b[0m\u001b[0;32m   1763\u001b[0m         \u001b[1;32melse\u001b[0m\u001b[1;33m:\u001b[0m\u001b[1;33m\u001b[0m\u001b[1;33m\u001b[0m\u001b[0m\n\u001b[0;32m   1764\u001b[0m             \u001b[1;31m# we by definition only have the 0th axis\u001b[0m\u001b[1;33m\u001b[0m\u001b[1;33m\u001b[0m\u001b[1;33m\u001b[0m\u001b[0m\n",
      "\u001b[1;32m~\\AppData\\Local\\Programs\\Python\\Python37\\lib\\site-packages\\pandas\\core\\indexing.py\u001b[0m in \u001b[0;36m_getitem_tuple\u001b[1;34m(self, tup)\u001b[0m\n\u001b[0;32m   2065\u001b[0m     \u001b[1;32mdef\u001b[0m \u001b[0m_getitem_tuple\u001b[0m\u001b[1;33m(\u001b[0m\u001b[0mself\u001b[0m\u001b[1;33m,\u001b[0m \u001b[0mtup\u001b[0m\u001b[1;33m:\u001b[0m \u001b[0mTuple\u001b[0m\u001b[1;33m)\u001b[0m\u001b[1;33m:\u001b[0m\u001b[1;33m\u001b[0m\u001b[1;33m\u001b[0m\u001b[0m\n\u001b[0;32m   2066\u001b[0m \u001b[1;33m\u001b[0m\u001b[0m\n\u001b[1;32m-> 2067\u001b[1;33m         \u001b[0mself\u001b[0m\u001b[1;33m.\u001b[0m\u001b[0m_has_valid_tuple\u001b[0m\u001b[1;33m(\u001b[0m\u001b[0mtup\u001b[0m\u001b[1;33m)\u001b[0m\u001b[1;33m\u001b[0m\u001b[1;33m\u001b[0m\u001b[0m\n\u001b[0m\u001b[0;32m   2068\u001b[0m         \u001b[1;32mtry\u001b[0m\u001b[1;33m:\u001b[0m\u001b[1;33m\u001b[0m\u001b[1;33m\u001b[0m\u001b[0m\n\u001b[0;32m   2069\u001b[0m             \u001b[1;32mreturn\u001b[0m \u001b[0mself\u001b[0m\u001b[1;33m.\u001b[0m\u001b[0m_getitem_lowerdim\u001b[0m\u001b[1;33m(\u001b[0m\u001b[0mtup\u001b[0m\u001b[1;33m)\u001b[0m\u001b[1;33m\u001b[0m\u001b[1;33m\u001b[0m\u001b[0m\n",
      "\u001b[1;32m~\\AppData\\Local\\Programs\\Python\\Python37\\lib\\site-packages\\pandas\\core\\indexing.py\u001b[0m in \u001b[0;36m_has_valid_tuple\u001b[1;34m(self, key)\u001b[0m\n\u001b[0;32m    704\u001b[0m             \u001b[1;32mexcept\u001b[0m \u001b[0mValueError\u001b[0m\u001b[1;33m:\u001b[0m\u001b[1;33m\u001b[0m\u001b[1;33m\u001b[0m\u001b[0m\n\u001b[0;32m    705\u001b[0m                 raise ValueError(\n\u001b[1;32m--> 706\u001b[1;33m                     \u001b[1;34m\"Location based indexing can only have \"\u001b[0m\u001b[1;33m\u001b[0m\u001b[1;33m\u001b[0m\u001b[0m\n\u001b[0m\u001b[0;32m    707\u001b[0m                     \u001b[1;34mf\"[{self._valid_types}] types\"\u001b[0m\u001b[1;33m\u001b[0m\u001b[1;33m\u001b[0m\u001b[0m\n\u001b[0;32m    708\u001b[0m                 )\n",
      "\u001b[1;31mValueError\u001b[0m: Location based indexing can only have [integer, integer slice (START point is INCLUDED, END point is EXCLUDED), listlike of integers, boolean array] types"
     ]
    }
   ],
   "source": [
    "old_LXY_train = []\n",
    "old_LXY_train.append([])\n",
    "old_LXY_train.append([])\n",
    "iterasi = 0\n",
    "\n",
    "while True: \n",
    "    if old_LXY_train[0] == LXY_train[0] and old_LXY_train[1] == LXY_train[1] :\n",
    "        print(iterasi)\n",
    "        print(LXY_train)\n",
    "        print(LXY_train_baru)\n",
    "        break\n",
    "    else :\n",
    "        newLX = []\n",
    "        newLY =[]\n",
    "        new_final_cluster = []\n",
    "        new_c1_cluster = []\n",
    "        new_c2_cluster = []\n",
    "        new_c3_cluster = []\n",
    "        new_clust_1_train = []\n",
    "        new_clust_2_train = []\n",
    "        new_clust_3_train = []   \n",
    "\n",
    "        centroids1_baru = meanCentroids(clust_1_train, df_train_cluster)\n",
    "        centroids2_baru = meanCentroids(clust_2_train, df_train_cluster)\n",
    "        centroids3_baru = meanCentroids(clust_3_train, df_train_cluster)\n",
    "        newLX.append(centroids1_baru[0])\n",
    "        newLX.append(centroids2_baru[0])\n",
    "        newLX.append(centroids3_baru[0])\n",
    "        newLY.append(centroids1_baru[1])\n",
    "        newLY.append(centroids2_baru[1])\n",
    "        newLY.append(centroids3_baru[1])\n",
    "        \n",
    "        if newLX == [0.0,0.0,0.0] and newLY == [0.0,0.0,0.0] :\n",
    "            break\n",
    "        else :\n",
    "            LXY_train_baru = []\n",
    "            LXY_train_baru.append(newLX)\n",
    "            LXY_train_baru.append(newLY)\n",
    "        \n",
    "        for i in range(panjangTrainData):\n",
    "            formula_1 = math.sqrt((df_train_cluster['Umur'][i]-LXY_train[0][0])**2+(df_train_cluster['Tertarik'][i]-LXY_train[1][0])**2)\n",
    "            formula_2 = math.sqrt((df_train_cluster['Umur'][i]-LXY_train[0][1])**2+(df_train_cluster['Tertarik'][i]-LXY_train[1][1])**2)\n",
    "            formula_3 = math.sqrt((df_train_cluster['Umur'][i]-LXY_train[0][2])**2+(df_train_cluster['Tertarik'][i]-LXY_train[1][2])**2)\n",
    "            new_clust_1_train.append(formula_1)\n",
    "            new_clust_2_train.append(formula_2)\n",
    "            new_clust_3_train.append(formula_3)\n",
    "        \n",
    "        for i in range(panjangTrainData):\n",
    "            if new_clust_1_train[i] > new_claust_2_train[i] and new_clust_1_train[i] > new_clust_3_train[i]:\n",
    "                new_final_cluster.append(1)\n",
    "                new_c1_cluster.append(i)\n",
    "            elif new_clust_2_train[i] > new_clust_1_train[i] and new_clust_2_train[i] > new_clust_3_train[i]:\n",
    "                new_final_cluster.append(2)\n",
    "                new_c2_cluster.append(i)\n",
    "            elif new_clust_3_train[i] > new_clust_1_train[i] and new_clust_3_train[i] > new_clust_2_train[i]:\n",
    "                new_final_cluster.append(3)\n",
    "                new_c3_cluster.append(i)\n",
    "        \n",
    "        old_LXY_train = LXY_train\n",
    "        LXY_train = LXY_train_baru\n",
    "        iterasi += 1"
   ]
  },
  {
   "cell_type": "code",
   "execution_count": null,
   "metadata": {},
   "outputs": [],
   "source": [
    "fig = plt.figure(figsize=(5,5))\n",
    "plt.scatter(df_train_cluster['Umur'],df_train_cluster['Tertarik'], color=\"black\")\n",
    "plt.scatter(LXY_train[0],LXY_train[1], color=\"red\")\n",
    "plt.show()"
   ]
  },
  {
   "cell_type": "code",
   "execution_count": null,
   "metadata": {},
   "outputs": [],
   "source": [
    "fig = plt.figure(figsize=(5,5))\n",
    "#loop = len(final_cluster)\n",
    "loop = 30000\n",
    "for i in range(loop):\n",
    "    if new_final_cluster[i] == 1 :\n",
    "        plt.scatter(df_train_cluster['Umur'].iloc[i], df_train_cluster['Tertarik'].iloc[i], color = 'red')\n",
    "    elif new_final_cluster[i] == 2 :\n",
    "        plt.scatter(df_train_cluster['Umur'].iloc[i], df_train_cluster['Tertarik'].iloc[i], color = 'blue')\n",
    "    else:\n",
    "        plt.scatter(df_train_cluster['Umur'].iloc[i], df_train_cluster['Tertarik'].iloc[i], color = 'green')\n",
    "plt.show()"
   ]
  }
 ],
 "metadata": {
  "kernelspec": {
   "display_name": "Python 3.7.4 64-bit",
   "language": "python",
   "name": "python37464bit49514346a36c4cf48224e1074a669562"
  },
  "language_info": {
   "codemirror_mode": {
    "name": "ipython",
    "version": 3
   },
   "file_extension": ".py",
   "mimetype": "text/x-python",
   "name": "python",
   "nbconvert_exporter": "python",
   "pygments_lexer": "ipython3",
   "version": "3.7.4"
  }
 },
 "nbformat": 4,
 "nbformat_minor": 4
}
