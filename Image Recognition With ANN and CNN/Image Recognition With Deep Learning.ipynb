{
 "cells": [
  {
   "cell_type": "code",
   "execution_count": 19,
   "metadata": {},
   "outputs": [],
   "source": [
    "import tensorflow as tf\n",
    "from tensorflow.keras import datasets, layers, models \n",
    "import matplotlib.pyplot as plt\n",
    "import pandas as pd"
   ]
  },
  {
   "cell_type": "code",
   "execution_count": 20,
   "metadata": {},
   "outputs": [],
   "source": [
    "(x_train, y_train), (x_test,y_test) = datasets.cifar10.load_data()"
   ]
  },
  {
   "cell_type": "code",
   "execution_count": 21,
   "metadata": {},
   "outputs": [
    {
     "output_type": "execute_result",
     "data": {
      "text/plain": [
       "(50000, 32, 32, 3)"
      ]
     },
     "metadata": {},
     "execution_count": 21
    }
   ],
   "source": [
    "x_train.shape"
   ]
  },
  {
   "cell_type": "code",
   "execution_count": 22,
   "metadata": {},
   "outputs": [
    {
     "output_type": "execute_result",
     "data": {
      "text/plain": [
       "array([[6],\n",
       "       [9],\n",
       "       [9],\n",
       "       [4],\n",
       "       [1]], dtype=uint8)"
      ]
     },
     "metadata": {},
     "execution_count": 22
    }
   ],
   "source": [
    "y_train[:5]"
   ]
  },
  {
   "cell_type": "code",
   "execution_count": 23,
   "metadata": {},
   "outputs": [
    {
     "output_type": "execute_result",
     "data": {
      "text/plain": [
       "array([6, 9, 9, 4, 1], dtype=uint8)"
      ]
     },
     "metadata": {},
     "execution_count": 23
    }
   ],
   "source": [
    "y_train = y_train.reshape(-1,)\n",
    "y_train[:5]"
   ]
  },
  {
   "cell_type": "code",
   "execution_count": 24,
   "metadata": {},
   "outputs": [],
   "source": [
    "classes = [\"airplane\",\"automobile\",\"bird\",\"cat\",\"deer\",\"dog\",\"frog\",\"horse\",\"ship\",\"truck\"]"
   ]
  },
  {
   "cell_type": "code",
   "execution_count": 25,
   "metadata": {},
   "outputs": [],
   "source": [
    "def plot_sample(x,y,index):\n",
    "    plt.figure(figsize=(15,2))\n",
    "    plt.imshow(x[index])\n",
    "    plt.xlabel(classes[y[index]])"
   ]
  },
  {
   "cell_type": "code",
   "execution_count": 26,
   "metadata": {},
   "outputs": [
    {
     "output_type": "display_data",
     "data": {
      "text/plain": "<Figure size 1080x144 with 1 Axes>",
      "image/svg+xml": "<?xml version=\"1.0\" encoding=\"utf-8\" standalone=\"no\"?>\r\n<!DOCTYPE svg PUBLIC \"-//W3C//DTD SVG 1.1//EN\"\r\n  \"http://www.w3.org/Graphics/SVG/1.1/DTD/svg11.dtd\">\r\n<!-- Created with matplotlib (https://matplotlib.org/) -->\r\n<svg height=\"155.576719pt\" version=\"1.1\" viewBox=\"0 0 142.845 155.576719\" width=\"142.845pt\" xmlns=\"http://www.w3.org/2000/svg\" xmlns:xlink=\"http://www.w3.org/1999/xlink\">\r\n <defs>\r\n  <style type=\"text/css\">\r\n*{stroke-linecap:butt;stroke-linejoin:round;}\r\n  </style>\r\n </defs>\r\n <g id=\"figure_1\">\r\n  <g id=\"patch_1\">\r\n   <path d=\"M 0 155.576719 \r\nL 142.845 155.576719 \r\nL 142.845 0 \r\nL 0 0 \r\nz\r\n\" style=\"fill:none;\"/>\r\n  </g>\r\n  <g id=\"axes_1\">\r\n   <g id=\"patch_2\">\r\n    <path d=\"M 26.925 118.020469 \r\nL 135.645 118.020469 \r\nL 135.645 9.300469 \r\nL 26.925 9.300469 \r\nz\r\n\" style=\"fill:#ffffff;\"/>\r\n   </g>\r\n   <g clip-path=\"url(#p2ba3215045)\">\r\n    <image height=\"109\" id=\"imaged302b0ff2e\" transform=\"scale(1 -1)translate(0 -109)\" width=\"109\" x=\"26.925\" xlink:href=\"data:image/png;base64,\r\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\" y=\"-9.020469\"/>\r\n   </g>\r\n   <g id=\"matplotlib.axis_1\">\r\n    <g id=\"xtick_1\">\r\n     <g id=\"line2d_1\">\r\n      <defs>\r\n       <path d=\"M 0 0 \r\nL 0 3.5 \r\n\" id=\"m5715dd2e7e\" style=\"stroke:#000000;stroke-width:0.8;\"/>\r\n      </defs>\r\n      <g>\r\n       <use style=\"stroke:#000000;stroke-width:0.8;\" x=\"28.62375\" xlink:href=\"#m5715dd2e7e\" y=\"118.020469\"/>\r\n      </g>\r\n     </g>\r\n     <g id=\"text_1\">\r\n      <!-- 0 -->\r\n      <defs>\r\n       <path d=\"M 31.78125 66.40625 \r\nQ 24.171875 66.40625 20.328125 58.90625 \r\nQ 16.5 51.421875 16.5 36.375 \r\nQ 16.5 21.390625 20.328125 13.890625 \r\nQ 24.171875 6.390625 31.78125 6.390625 \r\nQ 39.453125 6.390625 43.28125 13.890625 \r\nQ 47.125 21.390625 47.125 36.375 \r\nQ 47.125 51.421875 43.28125 58.90625 \r\nQ 39.453125 66.40625 31.78125 66.40625 \r\nz\r\nM 31.78125 74.21875 \r\nQ 44.046875 74.21875 50.515625 64.515625 \r\nQ 56.984375 54.828125 56.984375 36.375 \r\nQ 56.984375 17.96875 50.515625 8.265625 \r\nQ 44.046875 -1.421875 31.78125 -1.421875 \r\nQ 19.53125 -1.421875 13.0625 8.265625 \r\nQ 6.59375 17.96875 6.59375 36.375 \r\nQ 6.59375 54.828125 13.0625 64.515625 \r\nQ 19.53125 74.21875 31.78125 74.21875 \r\nz\r\n\" id=\"DejaVuSans-48\"/>\r\n      </defs>\r\n      <g transform=\"translate(25.4425 132.618906)scale(0.1 -0.1)\">\r\n       <use xlink:href=\"#DejaVuSans-48\"/>\r\n      </g>\r\n     </g>\r\n    </g>\r\n    <g id=\"xtick_2\">\r\n     <g id=\"line2d_2\">\r\n      <g>\r\n       <use style=\"stroke:#000000;stroke-width:0.8;\" x=\"96.57375\" xlink:href=\"#m5715dd2e7e\" y=\"118.020469\"/>\r\n      </g>\r\n     </g>\r\n     <g id=\"text_2\">\r\n      <!-- 20 -->\r\n      <defs>\r\n       <path d=\"M 19.1875 8.296875 \r\nL 53.609375 8.296875 \r\nL 53.609375 0 \r\nL 7.328125 0 \r\nL 7.328125 8.296875 \r\nQ 12.9375 14.109375 22.625 23.890625 \r\nQ 32.328125 33.6875 34.8125 36.53125 \r\nQ 39.546875 41.84375 41.421875 45.53125 \r\nQ 43.3125 49.21875 43.3125 52.78125 \r\nQ 43.3125 58.59375 39.234375 62.25 \r\nQ 35.15625 65.921875 28.609375 65.921875 \r\nQ 23.96875 65.921875 18.8125 64.3125 \r\nQ 13.671875 62.703125 7.8125 59.421875 \r\nL 7.8125 69.390625 \r\nQ 13.765625 71.78125 18.9375 73 \r\nQ 24.125 74.21875 28.421875 74.21875 \r\nQ 39.75 74.21875 46.484375 68.546875 \r\nQ 53.21875 62.890625 53.21875 53.421875 \r\nQ 53.21875 48.921875 51.53125 44.890625 \r\nQ 49.859375 40.875 45.40625 35.40625 \r\nQ 44.1875 33.984375 37.640625 27.21875 \r\nQ 31.109375 20.453125 19.1875 8.296875 \r\nz\r\n\" id=\"DejaVuSans-50\"/>\r\n      </defs>\r\n      <g transform=\"translate(90.21125 132.618906)scale(0.1 -0.1)\">\r\n       <use xlink:href=\"#DejaVuSans-50\"/>\r\n       <use x=\"63.623047\" xlink:href=\"#DejaVuSans-48\"/>\r\n      </g>\r\n     </g>\r\n    </g>\r\n    <g id=\"text_3\">\r\n     <!-- truck -->\r\n     <defs>\r\n      <path d=\"M 18.3125 70.21875 \r\nL 18.3125 54.6875 \r\nL 36.8125 54.6875 \r\nL 36.8125 47.703125 \r\nL 18.3125 47.703125 \r\nL 18.3125 18.015625 \r\nQ 18.3125 11.328125 20.140625 9.421875 \r\nQ 21.96875 7.515625 27.59375 7.515625 \r\nL 36.8125 7.515625 \r\nL 36.8125 0 \r\nL 27.59375 0 \r\nQ 17.1875 0 13.234375 3.875 \r\nQ 9.28125 7.765625 9.28125 18.015625 \r\nL 9.28125 47.703125 \r\nL 2.6875 47.703125 \r\nL 2.6875 54.6875 \r\nL 9.28125 54.6875 \r\nL 9.28125 70.21875 \r\nz\r\n\" id=\"DejaVuSans-116\"/>\r\n      <path d=\"M 41.109375 46.296875 \r\nQ 39.59375 47.171875 37.8125 47.578125 \r\nQ 36.03125 48 33.890625 48 \r\nQ 26.265625 48 22.1875 43.046875 \r\nQ 18.109375 38.09375 18.109375 28.8125 \r\nL 18.109375 0 \r\nL 9.078125 0 \r\nL 9.078125 54.6875 \r\nL 18.109375 54.6875 \r\nL 18.109375 46.1875 \r\nQ 20.953125 51.171875 25.484375 53.578125 \r\nQ 30.03125 56 36.53125 56 \r\nQ 37.453125 56 38.578125 55.875 \r\nQ 39.703125 55.765625 41.0625 55.515625 \r\nz\r\n\" id=\"DejaVuSans-114\"/>\r\n      <path d=\"M 8.5 21.578125 \r\nL 8.5 54.6875 \r\nL 17.484375 54.6875 \r\nL 17.484375 21.921875 \r\nQ 17.484375 14.15625 20.5 10.265625 \r\nQ 23.53125 6.390625 29.59375 6.390625 \r\nQ 36.859375 6.390625 41.078125 11.03125 \r\nQ 45.3125 15.671875 45.3125 23.6875 \r\nL 45.3125 54.6875 \r\nL 54.296875 54.6875 \r\nL 54.296875 0 \r\nL 45.3125 0 \r\nL 45.3125 8.40625 \r\nQ 42.046875 3.421875 37.71875 1 \r\nQ 33.40625 -1.421875 27.6875 -1.421875 \r\nQ 18.265625 -1.421875 13.375 4.4375 \r\nQ 8.5 10.296875 8.5 21.578125 \r\nz\r\nM 31.109375 56 \r\nz\r\n\" id=\"DejaVuSans-117\"/>\r\n      <path d=\"M 48.78125 52.59375 \r\nL 48.78125 44.1875 \r\nQ 44.96875 46.296875 41.140625 47.34375 \r\nQ 37.3125 48.390625 33.40625 48.390625 \r\nQ 24.65625 48.390625 19.8125 42.84375 \r\nQ 14.984375 37.3125 14.984375 27.296875 \r\nQ 14.984375 17.28125 19.8125 11.734375 \r\nQ 24.65625 6.203125 33.40625 6.203125 \r\nQ 37.3125 6.203125 41.140625 7.25 \r\nQ 44.96875 8.296875 48.78125 10.40625 \r\nL 48.78125 2.09375 \r\nQ 45.015625 0.34375 40.984375 -0.53125 \r\nQ 36.96875 -1.421875 32.421875 -1.421875 \r\nQ 20.0625 -1.421875 12.78125 6.34375 \r\nQ 5.515625 14.109375 5.515625 27.296875 \r\nQ 5.515625 40.671875 12.859375 48.328125 \r\nQ 20.21875 56 33.015625 56 \r\nQ 37.15625 56 41.109375 55.140625 \r\nQ 45.0625 54.296875 48.78125 52.59375 \r\nz\r\n\" id=\"DejaVuSans-99\"/>\r\n      <path d=\"M 9.078125 75.984375 \r\nL 18.109375 75.984375 \r\nL 18.109375 31.109375 \r\nL 44.921875 54.6875 \r\nL 56.390625 54.6875 \r\nL 27.390625 29.109375 \r\nL 57.625 0 \r\nL 45.90625 0 \r\nL 18.109375 26.703125 \r\nL 18.109375 0 \r\nL 9.078125 0 \r\nz\r\n\" id=\"DejaVuSans-107\"/>\r\n     </defs>\r\n     <g transform=\"translate(68.456094 146.297031)scale(0.1 -0.1)\">\r\n      <use xlink:href=\"#DejaVuSans-116\"/>\r\n      <use x=\"39.208984\" xlink:href=\"#DejaVuSans-114\"/>\r\n      <use x=\"80.322266\" xlink:href=\"#DejaVuSans-117\"/>\r\n      <use x=\"143.701172\" xlink:href=\"#DejaVuSans-99\"/>\r\n      <use x=\"198.681641\" xlink:href=\"#DejaVuSans-107\"/>\r\n     </g>\r\n    </g>\r\n   </g>\r\n   <g id=\"matplotlib.axis_2\">\r\n    <g id=\"ytick_1\">\r\n     <g id=\"line2d_3\">\r\n      <defs>\r\n       <path d=\"M 0 0 \r\nL -3.5 0 \r\n\" id=\"mf1e360a910\" style=\"stroke:#000000;stroke-width:0.8;\"/>\r\n      </defs>\r\n      <g>\r\n       <use style=\"stroke:#000000;stroke-width:0.8;\" x=\"26.925\" xlink:href=\"#mf1e360a910\" y=\"10.999219\"/>\r\n      </g>\r\n     </g>\r\n     <g id=\"text_4\">\r\n      <!-- 0 -->\r\n      <g transform=\"translate(13.5625 14.798438)scale(0.1 -0.1)\">\r\n       <use xlink:href=\"#DejaVuSans-48\"/>\r\n      </g>\r\n     </g>\r\n    </g>\r\n    <g id=\"ytick_2\">\r\n     <g id=\"line2d_4\">\r\n      <g>\r\n       <use style=\"stroke:#000000;stroke-width:0.8;\" x=\"26.925\" xlink:href=\"#mf1e360a910\" y=\"44.974219\"/>\r\n      </g>\r\n     </g>\r\n     <g id=\"text_5\">\r\n      <!-- 10 -->\r\n      <defs>\r\n       <path d=\"M 12.40625 8.296875 \r\nL 28.515625 8.296875 \r\nL 28.515625 63.921875 \r\nL 10.984375 60.40625 \r\nL 10.984375 69.390625 \r\nL 28.421875 72.90625 \r\nL 38.28125 72.90625 \r\nL 38.28125 8.296875 \r\nL 54.390625 8.296875 \r\nL 54.390625 0 \r\nL 12.40625 0 \r\nz\r\n\" id=\"DejaVuSans-49\"/>\r\n      </defs>\r\n      <g transform=\"translate(7.2 48.773438)scale(0.1 -0.1)\">\r\n       <use xlink:href=\"#DejaVuSans-49\"/>\r\n       <use x=\"63.623047\" xlink:href=\"#DejaVuSans-48\"/>\r\n      </g>\r\n     </g>\r\n    </g>\r\n    <g id=\"ytick_3\">\r\n     <g id=\"line2d_5\">\r\n      <g>\r\n       <use style=\"stroke:#000000;stroke-width:0.8;\" x=\"26.925\" xlink:href=\"#mf1e360a910\" y=\"78.949219\"/>\r\n      </g>\r\n     </g>\r\n     <g id=\"text_6\">\r\n      <!-- 20 -->\r\n      <g transform=\"translate(7.2 82.748438)scale(0.1 -0.1)\">\r\n       <use xlink:href=\"#DejaVuSans-50\"/>\r\n       <use x=\"63.623047\" xlink:href=\"#DejaVuSans-48\"/>\r\n      </g>\r\n     </g>\r\n    </g>\r\n    <g id=\"ytick_4\">\r\n     <g id=\"line2d_6\">\r\n      <g>\r\n       <use style=\"stroke:#000000;stroke-width:0.8;\" x=\"26.925\" xlink:href=\"#mf1e360a910\" y=\"112.924219\"/>\r\n      </g>\r\n     </g>\r\n     <g id=\"text_7\">\r\n      <!-- 30 -->\r\n      <defs>\r\n       <path d=\"M 40.578125 39.3125 \r\nQ 47.65625 37.796875 51.625 33 \r\nQ 55.609375 28.21875 55.609375 21.1875 \r\nQ 55.609375 10.40625 48.1875 4.484375 \r\nQ 40.765625 -1.421875 27.09375 -1.421875 \r\nQ 22.515625 -1.421875 17.65625 -0.515625 \r\nQ 12.796875 0.390625 7.625 2.203125 \r\nL 7.625 11.71875 \r\nQ 11.71875 9.328125 16.59375 8.109375 \r\nQ 21.484375 6.890625 26.8125 6.890625 \r\nQ 36.078125 6.890625 40.9375 10.546875 \r\nQ 45.796875 14.203125 45.796875 21.1875 \r\nQ 45.796875 27.640625 41.28125 31.265625 \r\nQ 36.765625 34.90625 28.71875 34.90625 \r\nL 20.21875 34.90625 \r\nL 20.21875 43.015625 \r\nL 29.109375 43.015625 \r\nQ 36.375 43.015625 40.234375 45.921875 \r\nQ 44.09375 48.828125 44.09375 54.296875 \r\nQ 44.09375 59.90625 40.109375 62.90625 \r\nQ 36.140625 65.921875 28.71875 65.921875 \r\nQ 24.65625 65.921875 20.015625 65.03125 \r\nQ 15.375 64.15625 9.8125 62.3125 \r\nL 9.8125 71.09375 \r\nQ 15.4375 72.65625 20.34375 73.4375 \r\nQ 25.25 74.21875 29.59375 74.21875 \r\nQ 40.828125 74.21875 47.359375 69.109375 \r\nQ 53.90625 64.015625 53.90625 55.328125 \r\nQ 53.90625 49.265625 50.4375 45.09375 \r\nQ 46.96875 40.921875 40.578125 39.3125 \r\nz\r\n\" id=\"DejaVuSans-51\"/>\r\n      </defs>\r\n      <g transform=\"translate(7.2 116.723438)scale(0.1 -0.1)\">\r\n       <use xlink:href=\"#DejaVuSans-51\"/>\r\n       <use x=\"63.623047\" xlink:href=\"#DejaVuSans-48\"/>\r\n      </g>\r\n     </g>\r\n    </g>\r\n   </g>\r\n   <g id=\"patch_3\">\r\n    <path d=\"M 26.925 118.020469 \r\nL 26.925 9.300469 \r\n\" style=\"fill:none;stroke:#000000;stroke-linecap:square;stroke-linejoin:miter;stroke-width:0.8;\"/>\r\n   </g>\r\n   <g id=\"patch_4\">\r\n    <path d=\"M 135.645 118.020469 \r\nL 135.645 9.300469 \r\n\" style=\"fill:none;stroke:#000000;stroke-linecap:square;stroke-linejoin:miter;stroke-width:0.8;\"/>\r\n   </g>\r\n   <g id=\"patch_5\">\r\n    <path d=\"M 26.925 118.020469 \r\nL 135.645 118.020469 \r\n\" style=\"fill:none;stroke:#000000;stroke-linecap:square;stroke-linejoin:miter;stroke-width:0.8;\"/>\r\n   </g>\r\n   <g id=\"patch_6\">\r\n    <path d=\"M 26.925 9.300469 \r\nL 135.645 9.300469 \r\n\" style=\"fill:none;stroke:#000000;stroke-linecap:square;stroke-linejoin:miter;stroke-width:0.8;\"/>\r\n   </g>\r\n  </g>\r\n </g>\r\n <defs>\r\n  <clipPath id=\"p2ba3215045\">\r\n   <rect height=\"108.72\" width=\"108.72\" x=\"26.925\" y=\"9.300469\"/>\r\n  </clipPath>\r\n </defs>\r\n</svg>\r\n",
      "image/png": "[encoded data removed]"
     },
     "metadata": {
      "needs_background": "light"
     }
    }
   ],
   "source": [
    "plot_sample(x_train, y_train,1)"
   ]
  },
  {
   "cell_type": "markdown",
   "metadata": {},
   "source": [
    "**Normalize**"
   ]
  },
  {
   "cell_type": "code",
   "execution_count": 27,
   "metadata": {},
   "outputs": [],
   "source": [
    "x_train = x_train/255\n",
    "x_test = x_test/255"
   ]
  },
  {
   "cell_type": "markdown",
   "metadata": {},
   "source": [
    "**Create ANN Models**"
   ]
  },
  {
   "cell_type": "code",
   "execution_count": 28,
   "metadata": {},
   "outputs": [
    {
     "output_type": "stream",
     "name": "stdout",
     "text": [
      "Epoch 1/6\n",
      "1563/1563 [==============================] - 64s 41ms/step - loss: 1.9335 - accuracy: 0.3034\n",
      "Epoch 2/6\n",
      "1563/1563 [==============================] - 61s 39ms/step - loss: 1.6462 - accuracy: 0.4220\n",
      "Epoch 3/6\n",
      "1563/1563 [==============================] - 69s 44ms/step - loss: 1.5495 - accuracy: 0.4493\n",
      "Epoch 4/6\n",
      "1563/1563 [==============================] - 69s 44ms/step - loss: 1.4938 - accuracy: 0.4766\n",
      "Epoch 5/6\n",
      "1563/1563 [==============================] - 73s 46ms/step - loss: 1.4390 - accuracy: 0.4920\n",
      "Epoch 6/6\n",
      "1563/1563 [==============================] - 70s 45ms/step - loss: 1.3936 - accuracy: 0.5084\n"
     ]
    },
    {
     "output_type": "execute_result",
     "data": {
      "text/plain": [
       "<tensorflow.python.keras.callbacks.History at 0x27bb0b76808>"
      ]
     },
     "metadata": {},
     "execution_count": 28
    }
   ],
   "source": [
    "ann = models.Sequential([\n",
    "    layers.Flatten(input_shape=[32,32,3]),\n",
    "    layers.Dense(3000,activation=\"relu\"), #Layers and Activation Functions\n",
    "    layers.Dense(1000,activation=\"relu\"),\n",
    "    layers.Dense(10,activation=\"sigmoid\")\n",
    "])\n",
    "\n",
    "ann.compile(optimizer=\"SGD\",loss=\"sparse_categorical_crossentropy\",metrics=['accuracy'])\n",
    "ann.fit(x_train, y_train, epochs=6)"
   ]
  },
  {
   "cell_type": "code",
   "execution_count": 29,
   "metadata": {},
   "outputs": [
    {
     "output_type": "stream",
     "name": "stdout",
     "text": [
      "313/313 [==============================] - 5s 14ms/step - loss: 1.5356 - accuracy: 0.4598\n"
     ]
    },
    {
     "output_type": "execute_result",
     "data": {
      "text/plain": [
       "[1.5356156826019287, 0.45980000495910645]"
      ]
     },
     "metadata": {},
     "execution_count": 29
    }
   ],
   "source": [
    "ann.evaluate(x_test, y_test)"
   ]
  },
  {
   "cell_type": "code",
   "execution_count": 30,
   "metadata": {},
   "outputs": [
    {
     "output_type": "stream",
     "name": "stdout",
     "text": [
      "Classification Report :\n               precision    recall  f1-score   support\n\n           0       0.37      0.67      0.48      1000\n           1       0.46      0.76      0.57      1000\n           2       0.43      0.20      0.27      1000\n           3       0.44      0.23      0.31      1000\n           4       0.38      0.52      0.44      1000\n           5       0.56      0.21      0.31      1000\n           6       0.51      0.59      0.54      1000\n           7       0.64      0.45      0.53      1000\n           8       0.47      0.74      0.57      1000\n           9       0.68      0.22      0.34      1000\n\n    accuracy                           0.46     10000\n   macro avg       0.49      0.46      0.44     10000\nweighted avg       0.49      0.46      0.44     10000\n\n"
     ]
    }
   ],
   "source": [
    "from sklearn.metrics import confusion_matrix, classification_report\n",
    "import numpy as np\n",
    "\n",
    "y_pred = ann.predict(x_test)\n",
    "y_pred_class = [np.argmax(element) for element in y_pred]\n",
    "\n",
    "print(\"Classification Report :\\n\", classification_report(y_test,y_pred_class))"
   ]
  },
  {
   "cell_type": "code",
   "execution_count": 31,
   "metadata": {},
   "outputs": [],
   "source": [
    "cnn = models.Sequential([\n",
    "    #cnn\n",
    "    layers.Conv2D(filters=32, kernel_size=(3,3), activation=\"relu\", input_shape=(32,32,3)),\n",
    "    layers.MaxPooling2D((2,2)),\n",
    "    \n",
    "    layers.Conv2D(filters=32, kernel_size=(3,3), activation=\"relu\", input_shape=(32,32,3)),\n",
    "    layers.MaxPooling2D((2,2)),\n",
    "    \n",
    "    layers.Conv2D(filters=32, kernel_size=(3,3), activation=\"relu\", input_shape=(32,32,3)),\n",
    "    layers.MaxPooling2D((2,2)),\n",
    "    \n",
    "    #dense\n",
    "    layers.Flatten(),\n",
    "    layers.Dense(64,activation=\"relu\"),\n",
    "    layers.Dense(10,activation=\"softmax\")\n",
    "])"
   ]
  },
  {
   "cell_type": "code",
   "execution_count": 32,
   "metadata": {},
   "outputs": [],
   "source": [
    "cnn.compile(optimizer='adam',loss=\"sparse_categorical_crossentropy\",metrics=['accuracy'])"
   ]
  },
  {
   "cell_type": "code",
   "execution_count": 33,
   "metadata": {},
   "outputs": [
    {
     "output_type": "stream",
     "name": "stdout",
     "text": [
      "Epoch 1/10\n",
      "1563/1563 [==============================] - 44s 28ms/step - loss: 1.8091 - accuracy: 0.3272\n",
      "Epoch 2/10\n",
      "1563/1563 [==============================] - 40s 26ms/step - loss: 1.3133 - accuracy: 0.5276\n",
      "Epoch 3/10\n",
      "1563/1563 [==============================] - 34s 22ms/step - loss: 1.1664 - accuracy: 0.5837\n",
      "Epoch 4/10\n",
      "1563/1563 [==============================] - 32s 20ms/step - loss: 1.0737 - accuracy: 0.6206\n",
      "Epoch 5/10\n",
      "1563/1563 [==============================] - 30s 19ms/step - loss: 0.9964 - accuracy: 0.6469\n",
      "Epoch 6/10\n",
      "1563/1563 [==============================] - 31s 20ms/step - loss: 0.9478 - accuracy: 0.6663\n",
      "Epoch 7/10\n",
      "1563/1563 [==============================] - 30s 19ms/step - loss: 0.9057 - accuracy: 0.6829\n",
      "Epoch 8/10\n",
      "1563/1563 [==============================] - 31s 20ms/step - loss: 0.8684 - accuracy: 0.6939\n",
      "Epoch 9/10\n",
      "1563/1563 [==============================] - 33s 21ms/step - loss: 0.8317 - accuracy: 0.7072\n",
      "Epoch 10/10\n",
      "1563/1563 [==============================] - 31s 20ms/step - loss: 0.8039 - accuracy: 0.7174\n"
     ]
    },
    {
     "output_type": "execute_result",
     "data": {
      "text/plain": [
       "<tensorflow.python.keras.callbacks.History at 0x27bb0c3f208>"
      ]
     },
     "metadata": {},
     "execution_count": 33
    }
   ],
   "source": [
    "cnn.fit(x_train, y_train, epochs=10)"
   ]
  },
  {
   "cell_type": "code",
   "execution_count": null,
   "metadata": {},
   "outputs": [],
   "source": [
    "cnn.evaluate(x_test,y_test)"
   ]
  },
  {
   "cell_type": "code",
   "execution_count": 54,
   "metadata": {},
   "outputs": [],
   "source": [
    "y_pred = cnn.predict(x_test)"
   ]
  },
  {
   "cell_type": "code",
   "execution_count": 55,
   "metadata": {},
   "outputs": [
    {
     "output_type": "execute_result",
     "data": {
      "text/plain": [
       "[3, 1, 8, 0, 4, 6]"
      ]
     },
     "metadata": {},
     "execution_count": 55
    }
   ],
   "source": [
    "y_classes = [np.argmax(element) for element in y_pred]\n",
    "y_classes[:6]"
   ]
  },
  {
   "cell_type": "code",
   "execution_count": 56,
   "metadata": {},
   "outputs": [
    {
     "output_type": "execute_result",
     "data": {
      "text/plain": [
       "array([3, 8, 8, 0, 6, 6], dtype=uint8)"
      ]
     },
     "metadata": {},
     "execution_count": 56
    }
   ],
   "source": [
    "y_test = y_test.reshape(-1,)\n",
    "y_test[:6]"
   ]
  },
  {
   "cell_type": "code",
   "execution_count": 63,
   "metadata": {},
   "outputs": [
    {
     "output_type": "stream",
     "name": "stdout",
     "text": [
      "1\n"
     ]
    }
   ],
   "source": [
    "i = 0\n",
    "for x in y_classes:\n",
    "    if x == y_test[i]:\n",
    "        i+= 1\n",
    "    else:\n",
    "        print(i)\n",
    "        break "
   ]
  },
  {
   "cell_type": "code",
   "execution_count": 64,
   "metadata": {},
   "outputs": [
    {
     "output_type": "display_data",
     "data": {
      "text/plain": "<Figure size 1080x144 with 1 Axes>",
      "image/svg+xml": "<?xml version=\"1.0\" encoding=\"utf-8\" standalone=\"no\"?>\r\n<!DOCTYPE svg PUBLIC \"-//W3C//DTD SVG 1.1//EN\"\r\n  \"http://www.w3.org/Graphics/SVG/1.1/DTD/svg11.dtd\">\r\n<!-- Created with matplotlib (https://matplotlib.org/) -->\r\n<svg height=\"155.576719pt\" version=\"1.1\" viewBox=\"0 0 142.845 155.576719\" width=\"142.845pt\" xmlns=\"http://www.w3.org/2000/svg\" xmlns:xlink=\"http://www.w3.org/1999/xlink\">\r\n <defs>\r\n  <style type=\"text/css\">\r\n*{stroke-linecap:butt;stroke-linejoin:round;}\r\n  </style>\r\n </defs>\r\n <g id=\"figure_1\">\r\n  <g id=\"patch_1\">\r\n   <path d=\"M 0 155.576719 \r\nL 142.845 155.576719 \r\nL 142.845 0 \r\nL 0 0 \r\nz\r\n\" style=\"fill:none;\"/>\r\n  </g>\r\n  <g id=\"axes_1\">\r\n   <g id=\"patch_2\">\r\n    <path d=\"M 26.925 118.020469 \r\nL 135.645 118.020469 \r\nL 135.645 9.300469 \r\nL 26.925 9.300469 \r\nz\r\n\" style=\"fill:#ffffff;\"/>\r\n   </g>\r\n   <g clip-path=\"url(#p81bbe3c375)\">\r\n    <image height=\"109\" id=\"image96f82f88ac\" transform=\"scale(1 -1)translate(0 -109)\" width=\"109\" x=\"26.925\" xlink:href=\"data:image/png;base64,\r\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\" y=\"-9.020469\"/>\r\n   </g>\r\n   <g id=\"matplotlib.axis_1\">\r\n    <g id=\"xtick_1\">\r\n     <g id=\"line2d_1\">\r\n      <defs>\r\n       <path d=\"M 0 0 \r\nL 0 3.5 \r\n\" id=\"m9a93d33b1c\" style=\"stroke:#000000;stroke-width:0.8;\"/>\r\n      </defs>\r\n      <g>\r\n       <use style=\"stroke:#000000;stroke-width:0.8;\" x=\"28.62375\" xlink:href=\"#m9a93d33b1c\" y=\"118.020469\"/>\r\n      </g>\r\n     </g>\r\n     <g id=\"text_1\">\r\n      <!-- 0 -->\r\n      <defs>\r\n       <path d=\"M 31.78125 66.40625 \r\nQ 24.171875 66.40625 20.328125 58.90625 \r\nQ 16.5 51.421875 16.5 36.375 \r\nQ 16.5 21.390625 20.328125 13.890625 \r\nQ 24.171875 6.390625 31.78125 6.390625 \r\nQ 39.453125 6.390625 43.28125 13.890625 \r\nQ 47.125 21.390625 47.125 36.375 \r\nQ 47.125 51.421875 43.28125 58.90625 \r\nQ 39.453125 66.40625 31.78125 66.40625 \r\nz\r\nM 31.78125 74.21875 \r\nQ 44.046875 74.21875 50.515625 64.515625 \r\nQ 56.984375 54.828125 56.984375 36.375 \r\nQ 56.984375 17.96875 50.515625 8.265625 \r\nQ 44.046875 -1.421875 31.78125 -1.421875 \r\nQ 19.53125 -1.421875 13.0625 8.265625 \r\nQ 6.59375 17.96875 6.59375 36.375 \r\nQ 6.59375 54.828125 13.0625 64.515625 \r\nQ 19.53125 74.21875 31.78125 74.21875 \r\nz\r\n\" id=\"DejaVuSans-48\"/>\r\n      </defs>\r\n      <g transform=\"translate(25.4425 132.618906)scale(0.1 -0.1)\">\r\n       <use xlink:href=\"#DejaVuSans-48\"/>\r\n      </g>\r\n     </g>\r\n    </g>\r\n    <g id=\"xtick_2\">\r\n     <g id=\"line2d_2\">\r\n      <g>\r\n       <use style=\"stroke:#000000;stroke-width:0.8;\" x=\"96.57375\" xlink:href=\"#m9a93d33b1c\" y=\"118.020469\"/>\r\n      </g>\r\n     </g>\r\n     <g id=\"text_2\">\r\n      <!-- 20 -->\r\n      <defs>\r\n       <path d=\"M 19.1875 8.296875 \r\nL 53.609375 8.296875 \r\nL 53.609375 0 \r\nL 7.328125 0 \r\nL 7.328125 8.296875 \r\nQ 12.9375 14.109375 22.625 23.890625 \r\nQ 32.328125 33.6875 34.8125 36.53125 \r\nQ 39.546875 41.84375 41.421875 45.53125 \r\nQ 43.3125 49.21875 43.3125 52.78125 \r\nQ 43.3125 58.59375 39.234375 62.25 \r\nQ 35.15625 65.921875 28.609375 65.921875 \r\nQ 23.96875 65.921875 18.8125 64.3125 \r\nQ 13.671875 62.703125 7.8125 59.421875 \r\nL 7.8125 69.390625 \r\nQ 13.765625 71.78125 18.9375 73 \r\nQ 24.125 74.21875 28.421875 74.21875 \r\nQ 39.75 74.21875 46.484375 68.546875 \r\nQ 53.21875 62.890625 53.21875 53.421875 \r\nQ 53.21875 48.921875 51.53125 44.890625 \r\nQ 49.859375 40.875 45.40625 35.40625 \r\nQ 44.1875 33.984375 37.640625 27.21875 \r\nQ 31.109375 20.453125 19.1875 8.296875 \r\nz\r\n\" id=\"DejaVuSans-50\"/>\r\n      </defs>\r\n      <g transform=\"translate(90.21125 132.618906)scale(0.1 -0.1)\">\r\n       <use xlink:href=\"#DejaVuSans-50\"/>\r\n       <use x=\"63.623047\" xlink:href=\"#DejaVuSans-48\"/>\r\n      </g>\r\n     </g>\r\n    </g>\r\n    <g id=\"text_3\">\r\n     <!-- ship -->\r\n     <defs>\r\n      <path d=\"M 44.28125 53.078125 \r\nL 44.28125 44.578125 \r\nQ 40.484375 46.53125 36.375 47.5 \r\nQ 32.28125 48.484375 27.875 48.484375 \r\nQ 21.1875 48.484375 17.84375 46.4375 \r\nQ 14.5 44.390625 14.5 40.28125 \r\nQ 14.5 37.15625 16.890625 35.375 \r\nQ 19.28125 33.59375 26.515625 31.984375 \r\nL 29.59375 31.296875 \r\nQ 39.15625 29.25 43.1875 25.515625 \r\nQ 47.21875 21.78125 47.21875 15.09375 \r\nQ 47.21875 7.46875 41.1875 3.015625 \r\nQ 35.15625 -1.421875 24.609375 -1.421875 \r\nQ 20.21875 -1.421875 15.453125 -0.5625 \r\nQ 10.6875 0.296875 5.421875 2 \r\nL 5.421875 11.28125 \r\nQ 10.40625 8.6875 15.234375 7.390625 \r\nQ 20.0625 6.109375 24.8125 6.109375 \r\nQ 31.15625 6.109375 34.5625 8.28125 \r\nQ 37.984375 10.453125 37.984375 14.40625 \r\nQ 37.984375 18.0625 35.515625 20.015625 \r\nQ 33.0625 21.96875 24.703125 23.78125 \r\nL 21.578125 24.515625 \r\nQ 13.234375 26.265625 9.515625 29.90625 \r\nQ 5.8125 33.546875 5.8125 39.890625 \r\nQ 5.8125 47.609375 11.28125 51.796875 \r\nQ 16.75 56 26.8125 56 \r\nQ 31.78125 56 36.171875 55.265625 \r\nQ 40.578125 54.546875 44.28125 53.078125 \r\nz\r\n\" id=\"DejaVuSans-115\"/>\r\n      <path d=\"M 54.890625 33.015625 \r\nL 54.890625 0 \r\nL 45.90625 0 \r\nL 45.90625 32.71875 \r\nQ 45.90625 40.484375 42.875 44.328125 \r\nQ 39.84375 48.1875 33.796875 48.1875 \r\nQ 26.515625 48.1875 22.3125 43.546875 \r\nQ 18.109375 38.921875 18.109375 30.90625 \r\nL 18.109375 0 \r\nL 9.078125 0 \r\nL 9.078125 75.984375 \r\nL 18.109375 75.984375 \r\nL 18.109375 46.1875 \r\nQ 21.34375 51.125 25.703125 53.5625 \r\nQ 30.078125 56 35.796875 56 \r\nQ 45.21875 56 50.046875 50.171875 \r\nQ 54.890625 44.34375 54.890625 33.015625 \r\nz\r\n\" id=\"DejaVuSans-104\"/>\r\n      <path d=\"M 9.421875 54.6875 \r\nL 18.40625 54.6875 \r\nL 18.40625 0 \r\nL 9.421875 0 \r\nz\r\nM 9.421875 75.984375 \r\nL 18.40625 75.984375 \r\nL 18.40625 64.59375 \r\nL 9.421875 64.59375 \r\nz\r\n\" id=\"DejaVuSans-105\"/>\r\n      <path d=\"M 18.109375 8.203125 \r\nL 18.109375 -20.796875 \r\nL 9.078125 -20.796875 \r\nL 9.078125 54.6875 \r\nL 18.109375 54.6875 \r\nL 18.109375 46.390625 \r\nQ 20.953125 51.265625 25.265625 53.625 \r\nQ 29.59375 56 35.59375 56 \r\nQ 45.5625 56 51.78125 48.09375 \r\nQ 58.015625 40.1875 58.015625 27.296875 \r\nQ 58.015625 14.40625 51.78125 6.484375 \r\nQ 45.5625 -1.421875 35.59375 -1.421875 \r\nQ 29.59375 -1.421875 25.265625 0.953125 \r\nQ 20.953125 3.328125 18.109375 8.203125 \r\nz\r\nM 48.6875 27.296875 \r\nQ 48.6875 37.203125 44.609375 42.84375 \r\nQ 40.53125 48.484375 33.40625 48.484375 \r\nQ 26.265625 48.484375 22.1875 42.84375 \r\nQ 18.109375 37.203125 18.109375 27.296875 \r\nQ 18.109375 17.390625 22.1875 11.75 \r\nQ 26.265625 6.109375 33.40625 6.109375 \r\nQ 40.53125 6.109375 44.609375 11.75 \r\nQ 48.6875 17.390625 48.6875 27.296875 \r\nz\r\n\" id=\"DejaVuSans-112\"/>\r\n     </defs>\r\n     <g transform=\"translate(70.948281 146.297031)scale(0.1 -0.1)\">\r\n      <use xlink:href=\"#DejaVuSans-115\"/>\r\n      <use x=\"52.099609\" xlink:href=\"#DejaVuSans-104\"/>\r\n      <use x=\"115.478516\" xlink:href=\"#DejaVuSans-105\"/>\r\n      <use x=\"143.261719\" xlink:href=\"#DejaVuSans-112\"/>\r\n     </g>\r\n    </g>\r\n   </g>\r\n   <g id=\"matplotlib.axis_2\">\r\n    <g id=\"ytick_1\">\r\n     <g id=\"line2d_3\">\r\n      <defs>\r\n       <path d=\"M 0 0 \r\nL -3.5 0 \r\n\" id=\"m2ce01c89d6\" style=\"stroke:#000000;stroke-width:0.8;\"/>\r\n      </defs>\r\n      <g>\r\n       <use style=\"stroke:#000000;stroke-width:0.8;\" x=\"26.925\" xlink:href=\"#m2ce01c89d6\" y=\"10.999219\"/>\r\n      </g>\r\n     </g>\r\n     <g id=\"text_4\">\r\n      <!-- 0 -->\r\n      <g transform=\"translate(13.5625 14.798438)scale(0.1 -0.1)\">\r\n       <use xlink:href=\"#DejaVuSans-48\"/>\r\n      </g>\r\n     </g>\r\n    </g>\r\n    <g id=\"ytick_2\">\r\n     <g id=\"line2d_4\">\r\n      <g>\r\n       <use style=\"stroke:#000000;stroke-width:0.8;\" x=\"26.925\" xlink:href=\"#m2ce01c89d6\" y=\"44.974219\"/>\r\n      </g>\r\n     </g>\r\n     <g id=\"text_5\">\r\n      <!-- 10 -->\r\n      <defs>\r\n       <path d=\"M 12.40625 8.296875 \r\nL 28.515625 8.296875 \r\nL 28.515625 63.921875 \r\nL 10.984375 60.40625 \r\nL 10.984375 69.390625 \r\nL 28.421875 72.90625 \r\nL 38.28125 72.90625 \r\nL 38.28125 8.296875 \r\nL 54.390625 8.296875 \r\nL 54.390625 0 \r\nL 12.40625 0 \r\nz\r\n\" id=\"DejaVuSans-49\"/>\r\n      </defs>\r\n      <g transform=\"translate(7.2 48.773438)scale(0.1 -0.1)\">\r\n       <use xlink:href=\"#DejaVuSans-49\"/>\r\n       <use x=\"63.623047\" xlink:href=\"#DejaVuSans-48\"/>\r\n      </g>\r\n     </g>\r\n    </g>\r\n    <g id=\"ytick_3\">\r\n     <g id=\"line2d_5\">\r\n      <g>\r\n       <use style=\"stroke:#000000;stroke-width:0.8;\" x=\"26.925\" xlink:href=\"#m2ce01c89d6\" y=\"78.949219\"/>\r\n      </g>\r\n     </g>\r\n     <g id=\"text_6\">\r\n      <!-- 20 -->\r\n      <g transform=\"translate(7.2 82.748438)scale(0.1 -0.1)\">\r\n       <use xlink:href=\"#DejaVuSans-50\"/>\r\n       <use x=\"63.623047\" xlink:href=\"#DejaVuSans-48\"/>\r\n      </g>\r\n     </g>\r\n    </g>\r\n    <g id=\"ytick_4\">\r\n     <g id=\"line2d_6\">\r\n      <g>\r\n       <use style=\"stroke:#000000;stroke-width:0.8;\" x=\"26.925\" xlink:href=\"#m2ce01c89d6\" y=\"112.924219\"/>\r\n      </g>\r\n     </g>\r\n     <g id=\"text_7\">\r\n      <!-- 30 -->\r\n      <defs>\r\n       <path d=\"M 40.578125 39.3125 \r\nQ 47.65625 37.796875 51.625 33 \r\nQ 55.609375 28.21875 55.609375 21.1875 \r\nQ 55.609375 10.40625 48.1875 4.484375 \r\nQ 40.765625 -1.421875 27.09375 -1.421875 \r\nQ 22.515625 -1.421875 17.65625 -0.515625 \r\nQ 12.796875 0.390625 7.625 2.203125 \r\nL 7.625 11.71875 \r\nQ 11.71875 9.328125 16.59375 8.109375 \r\nQ 21.484375 6.890625 26.8125 6.890625 \r\nQ 36.078125 6.890625 40.9375 10.546875 \r\nQ 45.796875 14.203125 45.796875 21.1875 \r\nQ 45.796875 27.640625 41.28125 31.265625 \r\nQ 36.765625 34.90625 28.71875 34.90625 \r\nL 20.21875 34.90625 \r\nL 20.21875 43.015625 \r\nL 29.109375 43.015625 \r\nQ 36.375 43.015625 40.234375 45.921875 \r\nQ 44.09375 48.828125 44.09375 54.296875 \r\nQ 44.09375 59.90625 40.109375 62.90625 \r\nQ 36.140625 65.921875 28.71875 65.921875 \r\nQ 24.65625 65.921875 20.015625 65.03125 \r\nQ 15.375 64.15625 9.8125 62.3125 \r\nL 9.8125 71.09375 \r\nQ 15.4375 72.65625 20.34375 73.4375 \r\nQ 25.25 74.21875 29.59375 74.21875 \r\nQ 40.828125 74.21875 47.359375 69.109375 \r\nQ 53.90625 64.015625 53.90625 55.328125 \r\nQ 53.90625 49.265625 50.4375 45.09375 \r\nQ 46.96875 40.921875 40.578125 39.3125 \r\nz\r\n\" id=\"DejaVuSans-51\"/>\r\n      </defs>\r\n      <g transform=\"translate(7.2 116.723438)scale(0.1 -0.1)\">\r\n       <use xlink:href=\"#DejaVuSans-51\"/>\r\n       <use x=\"63.623047\" xlink:href=\"#DejaVuSans-48\"/>\r\n      </g>\r\n     </g>\r\n    </g>\r\n   </g>\r\n   <g id=\"patch_3\">\r\n    <path d=\"M 26.925 118.020469 \r\nL 26.925 9.300469 \r\n\" style=\"fill:none;stroke:#000000;stroke-linecap:square;stroke-linejoin:miter;stroke-width:0.8;\"/>\r\n   </g>\r\n   <g id=\"patch_4\">\r\n    <path d=\"M 135.645 118.020469 \r\nL 135.645 9.300469 \r\n\" style=\"fill:none;stroke:#000000;stroke-linecap:square;stroke-linejoin:miter;stroke-width:0.8;\"/>\r\n   </g>\r\n   <g id=\"patch_5\">\r\n    <path d=\"M 26.925 118.020469 \r\nL 135.645 118.020469 \r\n\" style=\"fill:none;stroke:#000000;stroke-linecap:square;stroke-linejoin:miter;stroke-width:0.8;\"/>\r\n   </g>\r\n   <g id=\"patch_6\">\r\n    <path d=\"M 26.925 9.300469 \r\nL 135.645 9.300469 \r\n\" style=\"fill:none;stroke:#000000;stroke-linecap:square;stroke-linejoin:miter;stroke-width:0.8;\"/>\r\n   </g>\r\n  </g>\r\n </g>\r\n <defs>\r\n  <clipPath id=\"p81bbe3c375\">\r\n   <rect height=\"108.72\" width=\"108.72\" x=\"26.925\" y=\"9.300469\"/>\r\n  </clipPath>\r\n </defs>\r\n</svg>\r\n",
      "image/png": "[encoded data removed]"
     },
     "metadata": {
      "needs_background": "light"
     }
    }
   ],
   "source": [
    "plot_sample(x_test,y_classes,2)"
   ]
  },
  {
   "cell_type": "code",
   "execution_count": 65,
   "metadata": {},
   "outputs": [
    {
     "output_type": "display_data",
     "data": {
      "text/plain": "<Figure size 1080x144 with 1 Axes>",
      "image/svg+xml": "<?xml version=\"1.0\" encoding=\"utf-8\" standalone=\"no\"?>\r\n<!DOCTYPE svg PUBLIC \"-//W3C//DTD SVG 1.1//EN\"\r\n  \"http://www.w3.org/Graphics/SVG/1.1/DTD/svg11.dtd\">\r\n<!-- Created with matplotlib (https://matplotlib.org/) -->\r\n<svg height=\"155.576719pt\" version=\"1.1\" viewBox=\"0 0 142.845 155.576719\" width=\"142.845pt\" xmlns=\"http://www.w3.org/2000/svg\" xmlns:xlink=\"http://www.w3.org/1999/xlink\">\r\n <defs>\r\n  <style type=\"text/css\">\r\n*{stroke-linecap:butt;stroke-linejoin:round;}\r\n  </style>\r\n </defs>\r\n <g id=\"figure_1\">\r\n  <g id=\"patch_1\">\r\n   <path d=\"M 0 155.576719 \r\nL 142.845 155.576719 \r\nL 142.845 0 \r\nL 0 0 \r\nz\r\n\" style=\"fill:none;\"/>\r\n  </g>\r\n  <g id=\"axes_1\">\r\n   <g id=\"patch_2\">\r\n    <path d=\"M 26.925 118.020469 \r\nL 135.645 118.020469 \r\nL 135.645 9.300469 \r\nL 26.925 9.300469 \r\nz\r\n\" style=\"fill:#ffffff;\"/>\r\n   </g>\r\n   <g clip-path=\"url(#pb57f67d855)\">\r\n    <image height=\"109\" id=\"image587c7aa3f4\" transform=\"scale(1 -1)translate(0 -109)\" width=\"109\" x=\"26.925\" xlink:href=\"data:image/png;base64,\r\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\" y=\"-9.020469\"/>\r\n   </g>\r\n   <g id=\"matplotlib.axis_1\">\r\n    <g id=\"xtick_1\">\r\n     <g id=\"line2d_1\">\r\n      <defs>\r\n       <path d=\"M 0 0 \r\nL 0 3.5 \r\n\" id=\"mfa67ce85c4\" style=\"stroke:#000000;stroke-width:0.8;\"/>\r\n      </defs>\r\n      <g>\r\n       <use style=\"stroke:#000000;stroke-width:0.8;\" x=\"28.62375\" xlink:href=\"#mfa67ce85c4\" y=\"118.020469\"/>\r\n      </g>\r\n     </g>\r\n     <g id=\"text_1\">\r\n      <!-- 0 -->\r\n      <defs>\r\n       <path d=\"M 31.78125 66.40625 \r\nQ 24.171875 66.40625 20.328125 58.90625 \r\nQ 16.5 51.421875 16.5 36.375 \r\nQ 16.5 21.390625 20.328125 13.890625 \r\nQ 24.171875 6.390625 31.78125 6.390625 \r\nQ 39.453125 6.390625 43.28125 13.890625 \r\nQ 47.125 21.390625 47.125 36.375 \r\nQ 47.125 51.421875 43.28125 58.90625 \r\nQ 39.453125 66.40625 31.78125 66.40625 \r\nz\r\nM 31.78125 74.21875 \r\nQ 44.046875 74.21875 50.515625 64.515625 \r\nQ 56.984375 54.828125 56.984375 36.375 \r\nQ 56.984375 17.96875 50.515625 8.265625 \r\nQ 44.046875 -1.421875 31.78125 -1.421875 \r\nQ 19.53125 -1.421875 13.0625 8.265625 \r\nQ 6.59375 17.96875 6.59375 36.375 \r\nQ 6.59375 54.828125 13.0625 64.515625 \r\nQ 19.53125 74.21875 31.78125 74.21875 \r\nz\r\n\" id=\"DejaVuSans-48\"/>\r\n      </defs>\r\n      <g transform=\"translate(25.4425 132.618906)scale(0.1 -0.1)\">\r\n       <use xlink:href=\"#DejaVuSans-48\"/>\r\n      </g>\r\n     </g>\r\n    </g>\r\n    <g id=\"xtick_2\">\r\n     <g id=\"line2d_2\">\r\n      <g>\r\n       <use style=\"stroke:#000000;stroke-width:0.8;\" x=\"96.57375\" xlink:href=\"#mfa67ce85c4\" y=\"118.020469\"/>\r\n      </g>\r\n     </g>\r\n     <g id=\"text_2\">\r\n      <!-- 20 -->\r\n      <defs>\r\n       <path d=\"M 19.1875 8.296875 \r\nL 53.609375 8.296875 \r\nL 53.609375 0 \r\nL 7.328125 0 \r\nL 7.328125 8.296875 \r\nQ 12.9375 14.109375 22.625 23.890625 \r\nQ 32.328125 33.6875 34.8125 36.53125 \r\nQ 39.546875 41.84375 41.421875 45.53125 \r\nQ 43.3125 49.21875 43.3125 52.78125 \r\nQ 43.3125 58.59375 39.234375 62.25 \r\nQ 35.15625 65.921875 28.609375 65.921875 \r\nQ 23.96875 65.921875 18.8125 64.3125 \r\nQ 13.671875 62.703125 7.8125 59.421875 \r\nL 7.8125 69.390625 \r\nQ 13.765625 71.78125 18.9375 73 \r\nQ 24.125 74.21875 28.421875 74.21875 \r\nQ 39.75 74.21875 46.484375 68.546875 \r\nQ 53.21875 62.890625 53.21875 53.421875 \r\nQ 53.21875 48.921875 51.53125 44.890625 \r\nQ 49.859375 40.875 45.40625 35.40625 \r\nQ 44.1875 33.984375 37.640625 27.21875 \r\nQ 31.109375 20.453125 19.1875 8.296875 \r\nz\r\n\" id=\"DejaVuSans-50\"/>\r\n      </defs>\r\n      <g transform=\"translate(90.21125 132.618906)scale(0.1 -0.1)\">\r\n       <use xlink:href=\"#DejaVuSans-50\"/>\r\n       <use x=\"63.623047\" xlink:href=\"#DejaVuSans-48\"/>\r\n      </g>\r\n     </g>\r\n    </g>\r\n    <g id=\"text_3\">\r\n     <!-- ship -->\r\n     <defs>\r\n      <path d=\"M 44.28125 53.078125 \r\nL 44.28125 44.578125 \r\nQ 40.484375 46.53125 36.375 47.5 \r\nQ 32.28125 48.484375 27.875 48.484375 \r\nQ 21.1875 48.484375 17.84375 46.4375 \r\nQ 14.5 44.390625 14.5 40.28125 \r\nQ 14.5 37.15625 16.890625 35.375 \r\nQ 19.28125 33.59375 26.515625 31.984375 \r\nL 29.59375 31.296875 \r\nQ 39.15625 29.25 43.1875 25.515625 \r\nQ 47.21875 21.78125 47.21875 15.09375 \r\nQ 47.21875 7.46875 41.1875 3.015625 \r\nQ 35.15625 -1.421875 24.609375 -1.421875 \r\nQ 20.21875 -1.421875 15.453125 -0.5625 \r\nQ 10.6875 0.296875 5.421875 2 \r\nL 5.421875 11.28125 \r\nQ 10.40625 8.6875 15.234375 7.390625 \r\nQ 20.0625 6.109375 24.8125 6.109375 \r\nQ 31.15625 6.109375 34.5625 8.28125 \r\nQ 37.984375 10.453125 37.984375 14.40625 \r\nQ 37.984375 18.0625 35.515625 20.015625 \r\nQ 33.0625 21.96875 24.703125 23.78125 \r\nL 21.578125 24.515625 \r\nQ 13.234375 26.265625 9.515625 29.90625 \r\nQ 5.8125 33.546875 5.8125 39.890625 \r\nQ 5.8125 47.609375 11.28125 51.796875 \r\nQ 16.75 56 26.8125 56 \r\nQ 31.78125 56 36.171875 55.265625 \r\nQ 40.578125 54.546875 44.28125 53.078125 \r\nz\r\n\" id=\"DejaVuSans-115\"/>\r\n      <path d=\"M 54.890625 33.015625 \r\nL 54.890625 0 \r\nL 45.90625 0 \r\nL 45.90625 32.71875 \r\nQ 45.90625 40.484375 42.875 44.328125 \r\nQ 39.84375 48.1875 33.796875 48.1875 \r\nQ 26.515625 48.1875 22.3125 43.546875 \r\nQ 18.109375 38.921875 18.109375 30.90625 \r\nL 18.109375 0 \r\nL 9.078125 0 \r\nL 9.078125 75.984375 \r\nL 18.109375 75.984375 \r\nL 18.109375 46.1875 \r\nQ 21.34375 51.125 25.703125 53.5625 \r\nQ 30.078125 56 35.796875 56 \r\nQ 45.21875 56 50.046875 50.171875 \r\nQ 54.890625 44.34375 54.890625 33.015625 \r\nz\r\n\" id=\"DejaVuSans-104\"/>\r\n      <path d=\"M 9.421875 54.6875 \r\nL 18.40625 54.6875 \r\nL 18.40625 0 \r\nL 9.421875 0 \r\nz\r\nM 9.421875 75.984375 \r\nL 18.40625 75.984375 \r\nL 18.40625 64.59375 \r\nL 9.421875 64.59375 \r\nz\r\n\" id=\"DejaVuSans-105\"/>\r\n      <path d=\"M 18.109375 8.203125 \r\nL 18.109375 -20.796875 \r\nL 9.078125 -20.796875 \r\nL 9.078125 54.6875 \r\nL 18.109375 54.6875 \r\nL 18.109375 46.390625 \r\nQ 20.953125 51.265625 25.265625 53.625 \r\nQ 29.59375 56 35.59375 56 \r\nQ 45.5625 56 51.78125 48.09375 \r\nQ 58.015625 40.1875 58.015625 27.296875 \r\nQ 58.015625 14.40625 51.78125 6.484375 \r\nQ 45.5625 -1.421875 35.59375 -1.421875 \r\nQ 29.59375 -1.421875 25.265625 0.953125 \r\nQ 20.953125 3.328125 18.109375 8.203125 \r\nz\r\nM 48.6875 27.296875 \r\nQ 48.6875 37.203125 44.609375 42.84375 \r\nQ 40.53125 48.484375 33.40625 48.484375 \r\nQ 26.265625 48.484375 22.1875 42.84375 \r\nQ 18.109375 37.203125 18.109375 27.296875 \r\nQ 18.109375 17.390625 22.1875 11.75 \r\nQ 26.265625 6.109375 33.40625 6.109375 \r\nQ 40.53125 6.109375 44.609375 11.75 \r\nQ 48.6875 17.390625 48.6875 27.296875 \r\nz\r\n\" id=\"DejaVuSans-112\"/>\r\n     </defs>\r\n     <g transform=\"translate(70.948281 146.297031)scale(0.1 -0.1)\">\r\n      <use xlink:href=\"#DejaVuSans-115\"/>\r\n      <use x=\"52.099609\" xlink:href=\"#DejaVuSans-104\"/>\r\n      <use x=\"115.478516\" xlink:href=\"#DejaVuSans-105\"/>\r\n      <use x=\"143.261719\" xlink:href=\"#DejaVuSans-112\"/>\r\n     </g>\r\n    </g>\r\n   </g>\r\n   <g id=\"matplotlib.axis_2\">\r\n    <g id=\"ytick_1\">\r\n     <g id=\"line2d_3\">\r\n      <defs>\r\n       <path d=\"M 0 0 \r\nL -3.5 0 \r\n\" id=\"me6894c2474\" style=\"stroke:#000000;stroke-width:0.8;\"/>\r\n      </defs>\r\n      <g>\r\n       <use style=\"stroke:#000000;stroke-width:0.8;\" x=\"26.925\" xlink:href=\"#me6894c2474\" y=\"10.999219\"/>\r\n      </g>\r\n     </g>\r\n     <g id=\"text_4\">\r\n      <!-- 0 -->\r\n      <g transform=\"translate(13.5625 14.798438)scale(0.1 -0.1)\">\r\n       <use xlink:href=\"#DejaVuSans-48\"/>\r\n      </g>\r\n     </g>\r\n    </g>\r\n    <g id=\"ytick_2\">\r\n     <g id=\"line2d_4\">\r\n      <g>\r\n       <use style=\"stroke:#000000;stroke-width:0.8;\" x=\"26.925\" xlink:href=\"#me6894c2474\" y=\"44.974219\"/>\r\n      </g>\r\n     </g>\r\n     <g id=\"text_5\">\r\n      <!-- 10 -->\r\n      <defs>\r\n       <path d=\"M 12.40625 8.296875 \r\nL 28.515625 8.296875 \r\nL 28.515625 63.921875 \r\nL 10.984375 60.40625 \r\nL 10.984375 69.390625 \r\nL 28.421875 72.90625 \r\nL 38.28125 72.90625 \r\nL 38.28125 8.296875 \r\nL 54.390625 8.296875 \r\nL 54.390625 0 \r\nL 12.40625 0 \r\nz\r\n\" id=\"DejaVuSans-49\"/>\r\n      </defs>\r\n      <g transform=\"translate(7.2 48.773438)scale(0.1 -0.1)\">\r\n       <use xlink:href=\"#DejaVuSans-49\"/>\r\n       <use x=\"63.623047\" xlink:href=\"#DejaVuSans-48\"/>\r\n      </g>\r\n     </g>\r\n    </g>\r\n    <g id=\"ytick_3\">\r\n     <g id=\"line2d_5\">\r\n      <g>\r\n       <use style=\"stroke:#000000;stroke-width:0.8;\" x=\"26.925\" xlink:href=\"#me6894c2474\" y=\"78.949219\"/>\r\n      </g>\r\n     </g>\r\n     <g id=\"text_6\">\r\n      <!-- 20 -->\r\n      <g transform=\"translate(7.2 82.748438)scale(0.1 -0.1)\">\r\n       <use xlink:href=\"#DejaVuSans-50\"/>\r\n       <use x=\"63.623047\" xlink:href=\"#DejaVuSans-48\"/>\r\n      </g>\r\n     </g>\r\n    </g>\r\n    <g id=\"ytick_4\">\r\n     <g id=\"line2d_6\">\r\n      <g>\r\n       <use style=\"stroke:#000000;stroke-width:0.8;\" x=\"26.925\" xlink:href=\"#me6894c2474\" y=\"112.924219\"/>\r\n      </g>\r\n     </g>\r\n     <g id=\"text_7\">\r\n      <!-- 30 -->\r\n      <defs>\r\n       <path d=\"M 40.578125 39.3125 \r\nQ 47.65625 37.796875 51.625 33 \r\nQ 55.609375 28.21875 55.609375 21.1875 \r\nQ 55.609375 10.40625 48.1875 4.484375 \r\nQ 40.765625 -1.421875 27.09375 -1.421875 \r\nQ 22.515625 -1.421875 17.65625 -0.515625 \r\nQ 12.796875 0.390625 7.625 2.203125 \r\nL 7.625 11.71875 \r\nQ 11.71875 9.328125 16.59375 8.109375 \r\nQ 21.484375 6.890625 26.8125 6.890625 \r\nQ 36.078125 6.890625 40.9375 10.546875 \r\nQ 45.796875 14.203125 45.796875 21.1875 \r\nQ 45.796875 27.640625 41.28125 31.265625 \r\nQ 36.765625 34.90625 28.71875 34.90625 \r\nL 20.21875 34.90625 \r\nL 20.21875 43.015625 \r\nL 29.109375 43.015625 \r\nQ 36.375 43.015625 40.234375 45.921875 \r\nQ 44.09375 48.828125 44.09375 54.296875 \r\nQ 44.09375 59.90625 40.109375 62.90625 \r\nQ 36.140625 65.921875 28.71875 65.921875 \r\nQ 24.65625 65.921875 20.015625 65.03125 \r\nQ 15.375 64.15625 9.8125 62.3125 \r\nL 9.8125 71.09375 \r\nQ 15.4375 72.65625 20.34375 73.4375 \r\nQ 25.25 74.21875 29.59375 74.21875 \r\nQ 40.828125 74.21875 47.359375 69.109375 \r\nQ 53.90625 64.015625 53.90625 55.328125 \r\nQ 53.90625 49.265625 50.4375 45.09375 \r\nQ 46.96875 40.921875 40.578125 39.3125 \r\nz\r\n\" id=\"DejaVuSans-51\"/>\r\n      </defs>\r\n      <g transform=\"translate(7.2 116.723438)scale(0.1 -0.1)\">\r\n       <use xlink:href=\"#DejaVuSans-51\"/>\r\n       <use x=\"63.623047\" xlink:href=\"#DejaVuSans-48\"/>\r\n      </g>\r\n     </g>\r\n    </g>\r\n   </g>\r\n   <g id=\"patch_3\">\r\n    <path d=\"M 26.925 118.020469 \r\nL 26.925 9.300469 \r\n\" style=\"fill:none;stroke:#000000;stroke-linecap:square;stroke-linejoin:miter;stroke-width:0.8;\"/>\r\n   </g>\r\n   <g id=\"patch_4\">\r\n    <path d=\"M 135.645 118.020469 \r\nL 135.645 9.300469 \r\n\" style=\"fill:none;stroke:#000000;stroke-linecap:square;stroke-linejoin:miter;stroke-width:0.8;\"/>\r\n   </g>\r\n   <g id=\"patch_5\">\r\n    <path d=\"M 26.925 118.020469 \r\nL 135.645 118.020469 \r\n\" style=\"fill:none;stroke:#000000;stroke-linecap:square;stroke-linejoin:miter;stroke-width:0.8;\"/>\r\n   </g>\r\n   <g id=\"patch_6\">\r\n    <path d=\"M 26.925 9.300469 \r\nL 135.645 9.300469 \r\n\" style=\"fill:none;stroke:#000000;stroke-linecap:square;stroke-linejoin:miter;stroke-width:0.8;\"/>\r\n   </g>\r\n  </g>\r\n </g>\r\n <defs>\r\n  <clipPath id=\"pb57f67d855\">\r\n   <rect height=\"108.72\" width=\"108.72\" x=\"26.925\" y=\"9.300469\"/>\r\n  </clipPath>\r\n </defs>\r\n</svg>\r\n",
      "image/png": "[encoded data removed]"
     },
     "metadata": {
      "needs_background": "light"
     }
    }
   ],
   "source": [
    "plot_sample(x_test,y_test,2)"
   ]
  }
 ],
 "metadata": {
  "kernelspec": {
   "name": "python37464bit49514346a36c4cf48224e1074a669562",
   "display_name": "Python 3.7.4 64-bit"
  },
  "language_info": {
   "codemirror_mode": {
    "name": "ipython",
    "version": 3
   },
   "file_extension": ".py",
   "mimetype": "text/x-python",
   "name": "python",
   "nbconvert_exporter": "python",
   "pygments_lexer": "ipython3",
   "version": "3.7.4"
  },
  "metadata": {
   "interpreter": {
    "hash": "5d87b42201e74ac320bc00dce267d44f5f134edfec9046f67f672f289707ff6a"
   }
  }
 },
 "nbformat": 4,
 "nbformat_minor": 4
}